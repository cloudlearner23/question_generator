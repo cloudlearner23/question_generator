{
  "cells": [
    {
      "cell_type": "markdown",
      "source": [
        "###### Setting up Environment variables"
      ],
      "metadata": {
        "nteract": {
          "transient": {
            "deleting": false
          }
        }
      }
    },
    {
      "cell_type": "code",
      "source": [
        "import sys\n",
        "sys.path.append('/anaconda/envs/azureml_py310_sdkv2/lib/python3.10/site-packages/')\n",
        "print(sys.version)"
      ],
      "outputs": [
        {
          "output_type": "stream",
          "name": "stdout",
          "text": "3.10.11 (main, May 16 2023, 00:28:57) [GCC 11.2.0]\n"
        }
      ],
      "execution_count": 1,
      "metadata": {
        "jupyter": {
          "source_hidden": false,
          "outputs_hidden": false
        },
        "nteract": {
          "transient": {
            "deleting": false
          }
        },
        "gather": {
          "logged": 1695400983916
        }
      }
    },
    {
      "cell_type": "code",
      "source": [
        "###########import necessary keys \n",
        "\n",
        "import os\n",
        "#import openai\n",
        "from secret import OPENAI_API_TYPE,OPENAI_API_KEY,OPENAI_API_BASE,HUGGINGFACEHUB_API_TOKEN\n",
        "from langchain.llms import AzureOpenAI\n",
        "from langchain.llms import OpenAI\n",
        "from langchain.llms import OpenAIChat\n",
        "from langchain.chat_models import AzureChatOpenAI\n",
        "from dotenv import load_dotenv\n",
        "\n",
        "load_dotenv()\n",
        "\n",
        "# openai.api_version = \"2023-07-01-preview\"\n",
        "\n",
        "os.environ['OPENAI_API_TYPE']=OPENAI_API_TYPE\n",
        "os.environ['OPENAI_API_BASE']=OPENAI_API_BASE\n",
        "os.environ['OPENAI_API_KEY'] = OPENAI_API_KEY\n",
        "os.environ['HUGGINGFACEHUB_API_TOKEN'] = HUGGINGFACEHUB_API_TOKEN\n",
        "\n",
        "\n",
        "\n",
        "\n"
      ],
      "outputs": [],
      "execution_count": 2,
      "metadata": {
        "gather": {
          "logged": 1695400990997
        }
      }
    },
    {
      "cell_type": "markdown",
      "source": [
        "###### Generate sample data for AUM"
      ],
      "metadata": {
        "nteract": {
          "transient": {
            "deleting": false
          }
        }
      }
    },
    {
      "cell_type": "code",
      "source": [
        "import pandas as pd\n",
        "import numpy as np\n",
        "import random\n",
        "#### generate sample data for testing\n",
        "# 1. Investor Information\n",
        "investors_data = {\n",
        "    'investor_id': [i for i in range(1, 51)],\n",
        "    'investor_name': ['Investor ' + str(i) for i in range(1, 51)],\n",
        "    'contact_info': ['investor' + str(i) + '@example.com' for i in range(1, 51)],\n",
        "    'address': ['Address ' + str(i) for i in range(1, 51)],\n",
        "    'account_open_date': pd.date_range(start='2019-01-01', periods=50, freq='15D').strftime('%Y-%m-%d').tolist()\n",
        "}\n",
        "investors_df = pd.DataFrame(investors_data)\n",
        "print(\"investors_df\")\n",
        "# 2. Asset Information\n",
        "assets_data = {\n",
        "    'asset_id': [i for i in range(1, 201)],\n",
        "    'investor_id': [random.choice(range(1, 51)) for _ in range(200)],\n",
        "    'asset_type': random.choices(['stocks', 'bonds', 'real estate', 'mutual fund'], k=200),\n",
        "    'asset_name': ['Asset ' + str(i) for i in range(1, 201)],\n",
        "    'purchase_date': pd.date_range(start='2019-01-01', periods=200, freq='3D').strftime('%Y-%m-%d').tolist(),\n",
        "    'purchase_price': [round(random.uniform(1000, 10000), 2) for _ in range(200)],\n",
        "    'current_value': [round(random.uniform(1000, 10000), 2) for _ in range(200)],\n",
        "    'currency': ['USD' for _ in range(200)]\n",
        "}\n",
        "assets_df = pd.DataFrame(assets_data)\n",
        "print(\"assets_df\")\n",
        "\n",
        "# 3. Transaction Information\n",
        "transactions_data = {\n",
        "    'transaction_id': [i for i in range(1, 500001)],\n",
        "    'investor_id': [random.choice(range(1, 51)) for _ in range(500000)],\n",
        "    'asset_id': [random.choice(range(1, 201)) for _ in range(500000)],\n",
        "    'transaction_type': random.choices(['buy', 'sell'], k=500000),\n",
        "    'transaction_date': pd.date_range(start='2019-01-01', periods=500000, freq='H').strftime('%Y-%m-%d').tolist(),\n",
        "    'transaction_amount': [round(random.uniform(1, 100), 2) for _ in range(500000)],\n",
        "    'transaction_price': [round(random.uniform(100, 1000), 2) for _ in range(500000)]\n",
        "}\n",
        "transactions_df = pd.DataFrame(transactions_data)\n",
        "print(\"transactions_df\")"
      ],
      "outputs": [
        {
          "output_type": "stream",
          "name": "stdout",
          "text": "investors_df\nassets_df\ntransactions_df\n"
        }
      ],
      "execution_count": 3,
      "metadata": {
        "jupyter": {
          "source_hidden": true,
          "outputs_hidden": false
        },
        "nteract": {
          "transient": {
            "deleting": false
          }
        },
        "gather": {
          "logged": 1695401010278
        }
      }
    },
    {
      "cell_type": "code",
      "source": [
        "assets_df.columns"
      ],
      "outputs": [
        {
          "output_type": "execute_result",
          "execution_count": 130,
          "data": {
            "text/plain": "Index(['asset_id', 'investor_id', 'asset_type', 'asset_name', 'purchase_date',\n       'purchase_price', 'current_value', 'currency'],\n      dtype='object')"
          },
          "metadata": {}
        }
      ],
      "execution_count": 130,
      "metadata": {
        "jupyter": {
          "source_hidden": false,
          "outputs_hidden": false
        },
        "nteract": {
          "transient": {
            "deleting": false
          }
        },
        "gather": {
          "logged": 1694976939683
        }
      }
    },
    {
      "cell_type": "code",
      "source": [
        "##### test if azureopen is working\n",
        "### deploy 1 (Successful setting)\n",
        "#os.environ['OPENAI_API_VERSION'] = \"2022-12-01\"\n",
        "#deploy_name = \"deploy-gpt35turbo16k\"\n",
        "#mod_name = \"gpt-35-turbo-16k\"\n",
        "\n",
        "### deploy 2\n",
        "#os.environ['OPENAI_API_VERSION'] = \"2022-12-01\"\n",
        "#deploy_name = \"datachatdeploy\"\n",
        "#mod_name = \"gpt-35-turbo\"\n",
        "\n",
        "\n",
        "### deploy 3\n",
        "#os.environ['OPENAI_API_VERSION'] = \"2022-12-01\"\n",
        "#deploy_name = \"deploy-name-embed\"\n",
        "#mod_name = \"text-embedding-ada-002\"\n",
        "\n",
        "\n",
        "#del llm_a\n",
        "#del llm_o\n",
        "#del llm_oc\n",
        "\n",
        "\n",
        "#from langchain.chat_models import AzureChatOpenAI\n",
        "#llm_a = AzureOpenAI(deployment_name=deploy_name,model_name=mod_name)\n",
        "#llm_o = OpenAI(engine=deploy_name,model_name=mod_name)\n",
        "#llm_oc = OpenAIChat(engine=deploy_name,model_name=mod_name) #(Successful setting)\n",
        "\n",
        "\n",
        "\n",
        "#print(llm_a)\n",
        "#print(llm_o)\n",
        "#print(llm_oc)\n",
        "#llm(\"what is the role of ESG in asset management\")\n",
        "#llm_oc(\"what is esg?\")"
      ],
      "outputs": [],
      "execution_count": 8,
      "metadata": {
        "jupyter": {
          "source_hidden": true,
          "outputs_hidden": false
        },
        "nteract": {
          "transient": {
            "deleting": false
          }
        },
        "gather": {
          "logged": 1694960537931
        }
      }
    },
    {
      "cell_type": "markdown",
      "source": [
        "###### Set & Identify right LLM Model & Langchain Module "
      ],
      "metadata": {
        "nteract": {
          "transient": {
            "deleting": false
          }
        }
      }
    },
    {
      "cell_type": "code",
      "source": [
        "##### Unstable connectivity between langchain and openai. Better to test which link is working an any given point in time. \n",
        "\n",
        "os.environ['OPENAI_API_VERSION'] = \"2023-08-01-preview\" #\"2023-05-15\" #\"2022-12-01\"\n",
        "deployment_list =[\"deploy-name-embed\",\"deploy-gpt35turbo16k\", \"datachatdeploy\"]\n",
        "model_list=[\"text-embedding-ada-002\",\"gpt-35-turbo-16k\", \"text-davinci-003\",\"gpt-35-turbo\"]\n",
        "\n",
        "for deploy_name in deployment_list:\n",
        "    for mod_name in model_list:\n",
        "        try:\n",
        "            llm = AzureOpenAI(deployment_name=deploy_name,model_name=mod_name,temperature=0)\n",
        "            print(llm)\n",
        "            if llm(\"what is esg?\"):\n",
        "                print(\"Successful : AzureOpenAI\")\n",
        "                break\n",
        "        except Exception as e:\n",
        "            print(f\"Error with AzureOpenAI:{e}\\n\" )\n",
        "        \n",
        "        try:\n",
        "            llm = AzureChatOpenAI(deployment_name=deploy_name,model_name=mod_name,temperature=0)\n",
        "            print(llm)\n",
        "            if llm(\"what is esg?\"):\n",
        "                print(\"Successful : AzureOpenAIChat\")\n",
        "                break\n",
        "        except Exception as e:\n",
        "            print(f\"Error with AzureOpenAIChat:{e}\\n\" )\n",
        "        \n",
        "        try:\n",
        "            llm= OpenAI(engine=deploy_name,model_name=mod_name,temperature=0)\n",
        "            print(llm)\n",
        "            if llm(\"what is esg?\"):\n",
        "                print(\"Successful : OpenAI\")\n",
        "                break\n",
        "        except Exception as e:\n",
        "            print(f\"Error with OpenAI:{e}\\n\" )\n",
        "\n",
        "        try:\n",
        "            llm= OpenAIChat(engine=deploy_name,model_name=mod_name,temperature=0)\n",
        "            print(llm)\n",
        "            if llm(\"what is esg?\"):\n",
        "                print(\"Successful : OpenAIChat\")\n",
        "                break\n",
        "        except Exception as e:\n",
        "            print(f\"Error with OpenAIChat:{e}\\n\" )\n",
        "\n",
        "\n"
      ],
      "outputs": [
        {
          "output_type": "stream",
          "name": "stdout",
          "text": "\u001b[1mAzureOpenAI\u001b[0m\nParams: {'deployment_name': 'deploy-name-embed', 'model_name': 'text-embedding-ada-002', 'temperature': 0.0, 'max_tokens': 256, 'top_p': 1, 'frequency_penalty': 0, 'presence_penalty': 0, 'n': 1, 'request_timeout': None, 'logit_bias': {}}\nError with AzureOpenAI:The completion operation does not work with the specified model, text-embedding-ada-002. Please choose different model and try again. You can learn more about which models can be used with each operation here: https://go.microsoft.com/fwlink/?linkid=2197993.\n\ncache=None verbose=False callbacks=None callback_manager=None tags=None metadata=None client=<class 'openai.api_resources.chat_completion.ChatCompletion'> model_name='text-embedding-ada-002' temperature=0.0 model_kwargs={} openai_api_key='ff0b3bcd1b9843e2bf0c172b531cb52a' openai_api_base='https://ws-openai-ml-aoai.openai.azure.com/' openai_organization='' openai_proxy='' request_timeout=None max_retries=6 streaming=False n=1 max_tokens=None tiktoken_model_name=None deployment_name='deploy-name-embed' model_version='' openai_api_type='azure' openai_api_version='2023-08-01-preview'\nError with AzureOpenAIChat:Got unknown type w\n\n\u001b[1mOpenAI\u001b[0m\nParams: {'model_name': 'text-embedding-ada-002', 'temperature': 0.0, 'max_tokens': 256, 'top_p': 1, 'frequency_penalty': 0, 'presence_penalty': 0, 'n': 1, 'request_timeout': None, 'logit_bias': {}, 'engine': 'deploy-name-embed'}\nError with OpenAI:The completion operation does not work with the specified model, text-embedding-ada-002. Please choose different model and try again. You can learn more about which models can be used with each operation here: https://go.microsoft.com/fwlink/?linkid=2197993.\n\n\u001b[1mOpenAIChat\u001b[0m\nParams: {'model_name': 'text-embedding-ada-002', 'engine': 'deploy-name-embed', 'temperature': 0}\nError with OpenAIChat:The chatCompletion operation does not work with the specified model, text-embedding-ada-002. Please choose different model and try again. You can learn more about which models can be used with each operation here: https://go.microsoft.com/fwlink/?linkid=2197993.\n\n\u001b[1mAzureOpenAI\u001b[0m\nParams: {'deployment_name': 'deploy-name-embed', 'model_name': 'gpt-35-turbo-16k', 'temperature': 0.0, 'max_tokens': 256, 'top_p': 1, 'frequency_penalty': 0, 'presence_penalty': 0, 'n': 1, 'request_timeout': None, 'logit_bias': {}}\nError with AzureOpenAI:The completion operation does not work with the specified model, text-embedding-ada-002. Please choose different model and try again. You can learn more about which models can be used with each operation here: https://go.microsoft.com/fwlink/?linkid=2197993.\n\ncache=None verbose=False callbacks=None callback_manager=None tags=None metadata=None client=<class 'openai.api_resources.chat_completion.ChatCompletion'> model_name='gpt-35-turbo-16k' temperature=0.0 model_kwargs={} openai_api_key='ff0b3bcd1b9843e2bf0c172b531cb52a' openai_api_base='https://ws-openai-ml-aoai.openai.azure.com/' openai_organization='' openai_proxy='' request_timeout=None max_retries=6 streaming=False n=1 max_tokens=None tiktoken_model_name=None deployment_name='deploy-name-embed' model_version='' openai_api_type='azure' openai_api_version='2023-08-01-preview'\nError with AzureOpenAIChat:Got unknown type w\n\n\u001b[1mOpenAI\u001b[0m\nParams: {'model_name': 'gpt-35-turbo-16k', 'temperature': 0.0, 'max_tokens': 256, 'top_p': 1, 'frequency_penalty': 0, 'presence_penalty': 0, 'n': 1, 'request_timeout': None, 'logit_bias': {}, 'engine': 'deploy-name-embed'}\nError with OpenAI:The completion operation does not work with the specified model, text-embedding-ada-002. Please choose different model and try again. You can learn more about which models can be used with each operation here: https://go.microsoft.com/fwlink/?linkid=2197993.\n\n\u001b[1mOpenAIChat\u001b[0m\nParams: {'model_name': 'gpt-35-turbo-16k', 'engine': 'deploy-name-embed', 'temperature': 0}\nError with OpenAIChat:The chatCompletion operation does not work with the specified model, text-embedding-ada-002. Please choose different model and try again. You can learn more about which models can be used with each operation here: https://go.microsoft.com/fwlink/?linkid=2197993.\n\n\u001b[1mAzureOpenAI\u001b[0m\nParams: {'deployment_name': 'deploy-name-embed', 'model_name': 'text-davinci-003', 'temperature': 0.0, 'max_tokens': 256, 'top_p': 1, 'frequency_penalty': 0, 'presence_penalty': 0, 'n': 1, 'request_timeout': None, 'logit_bias': {}}\nError with AzureOpenAI:The completion operation does not work with the specified model, text-embedding-ada-002. Please choose different model and try again. You can learn more about which models can be used with each operation here: https://go.microsoft.com/fwlink/?linkid=2197993.\n\ncache=None verbose=False callbacks=None callback_manager=None tags=None metadata=None client=<class 'openai.api_resources.chat_completion.ChatCompletion'> model_name='text-davinci-003' temperature=0.0 model_kwargs={} openai_api_key='ff0b3bcd1b9843e2bf0c172b531cb52a' openai_api_base='https://ws-openai-ml-aoai.openai.azure.com/' openai_organization='' openai_proxy='' request_timeout=None max_retries=6 streaming=False n=1 max_tokens=None tiktoken_model_name=None deployment_name='deploy-name-embed' model_version='' openai_api_type='azure' openai_api_version='2023-08-01-preview'\nError with AzureOpenAIChat:Got unknown type w\n\n\u001b[1mOpenAI\u001b[0m\nParams: {'model_name': 'text-davinci-003', 'temperature': 0.0, 'max_tokens': 256, 'top_p': 1, 'frequency_penalty': 0, 'presence_penalty': 0, 'n': 1, 'request_timeout': None, 'logit_bias': {}, 'engine': 'deploy-name-embed'}\nError with OpenAI:The completion operation does not work with the specified model, text-embedding-ada-002. Please choose different model and try again. You can learn more about which models can be used with each operation here: https://go.microsoft.com/fwlink/?linkid=2197993.\n\n\u001b[1mOpenAIChat\u001b[0m\nParams: {'model_name': 'text-davinci-003', 'engine': 'deploy-name-embed', 'temperature': 0}\nError with OpenAIChat:The chatCompletion operation does not work with the specified model, text-embedding-ada-002. Please choose different model and try again. You can learn more about which models can be used with each operation here: https://go.microsoft.com/fwlink/?linkid=2197993.\n\n\u001b[1mAzureOpenAI\u001b[0m\nParams: {'deployment_name': 'deploy-name-embed', 'model_name': 'gpt-35-turbo', 'temperature': 0.0, 'max_tokens': 256, 'top_p': 1, 'frequency_penalty': 0, 'presence_penalty': 0, 'n': 1, 'request_timeout': None, 'logit_bias': {}}\nError with AzureOpenAI:The completion operation does not work with the specified model, text-embedding-ada-002. Please choose different model and try again. You can learn more about which models can be used with each operation here: https://go.microsoft.com/fwlink/?linkid=2197993.\n\ncache=None verbose=False callbacks=None callback_manager=None tags=None metadata=None client=<class 'openai.api_resources.chat_completion.ChatCompletion'> model_name='gpt-35-turbo' temperature=0.0 model_kwargs={} openai_api_key='ff0b3bcd1b9843e2bf0c172b531cb52a' openai_api_base='https://ws-openai-ml-aoai.openai.azure.com/' openai_organization='' openai_proxy='' request_timeout=None max_retries=6 streaming=False n=1 max_tokens=None tiktoken_model_name=None deployment_name='deploy-name-embed' model_version='' openai_api_type='azure' openai_api_version='2023-08-01-preview'\nError with AzureOpenAIChat:Got unknown type w\n\n\u001b[1mOpenAI\u001b[0m\nParams: {'model_name': 'gpt-35-turbo', 'temperature': 0.0, 'max_tokens': 256, 'top_p': 1, 'frequency_penalty': 0, 'presence_penalty': 0, 'n': 1, 'request_timeout': None, 'logit_bias': {}, 'engine': 'deploy-name-embed'}\nError with OpenAI:The completion operation does not work with the specified model, text-embedding-ada-002. Please choose different model and try again. You can learn more about which models can be used with each operation here: https://go.microsoft.com/fwlink/?linkid=2197993.\n\n\u001b[1mOpenAIChat\u001b[0m\nParams: {'model_name': 'gpt-35-turbo', 'engine': 'deploy-name-embed', 'temperature': 0}\nError with OpenAIChat:The chatCompletion operation does not work with the specified model, text-embedding-ada-002. Please choose different model and try again. You can learn more about which models can be used with each operation here: https://go.microsoft.com/fwlink/?linkid=2197993.\n\n\u001b[1mAzureOpenAI\u001b[0m\nParams: {'deployment_name': 'deploy-gpt35turbo16k', 'model_name': 'text-embedding-ada-002', 'temperature': 0.0, 'max_tokens': 256, 'top_p': 1, 'frequency_penalty': 0, 'presence_penalty': 0, 'n': 1, 'request_timeout': None, 'logit_bias': {}}\nError with AzureOpenAI:The completion operation does not work with the specified model, gpt-35-turbo-16k. Please choose different model and try again. You can learn more about which models can be used with each operation here: https://go.microsoft.com/fwlink/?linkid=2197993.\n\ncache=None verbose=False callbacks=None callback_manager=None tags=None metadata=None client=<class 'openai.api_resources.chat_completion.ChatCompletion'> model_name='text-embedding-ada-002' temperature=0.0 model_kwargs={} openai_api_key='ff0b3bcd1b9843e2bf0c172b531cb52a' openai_api_base='https://ws-openai-ml-aoai.openai.azure.com/' openai_organization='' openai_proxy='' request_timeout=None max_retries=6 streaming=False n=1 max_tokens=None tiktoken_model_name=None deployment_name='deploy-gpt35turbo16k' model_version='' openai_api_type='azure' openai_api_version='2023-08-01-preview'\nError with AzureOpenAIChat:Got unknown type w\n\n\u001b[1mOpenAI\u001b[0m\nParams: {'model_name': 'text-embedding-ada-002', 'temperature': 0.0, 'max_tokens': 256, 'top_p': 1, 'frequency_penalty': 0, 'presence_penalty': 0, 'n': 1, 'request_timeout': None, 'logit_bias': {}, 'engine': 'deploy-gpt35turbo16k'}\nError with OpenAI:The completion operation does not work with the specified model, gpt-35-turbo-16k. Please choose different model and try again. You can learn more about which models can be used with each operation here: https://go.microsoft.com/fwlink/?linkid=2197993.\n\n\u001b[1mOpenAIChat\u001b[0m\nParams: {'model_name': 'text-embedding-ada-002', 'engine': 'deploy-gpt35turbo16k', 'temperature': 0}\nSuccessful : OpenAIChat\n\u001b[1mAzureOpenAI\u001b[0m\nParams: {'deployment_name': 'datachatdeploy', 'model_name': 'text-embedding-ada-002', 'temperature': 0.0, 'max_tokens': 256, 'top_p': 1, 'frequency_penalty': 0, 'presence_penalty': 0, 'n': 1, 'request_timeout': None, 'logit_bias': {}}\nError with AzureOpenAI:The completion operation does not work with the specified model, gpt-35-turbo. Please choose different model and try again. You can learn more about which models can be used with each operation here: https://go.microsoft.com/fwlink/?linkid=2197993.\n\ncache=None verbose=False callbacks=None callback_manager=None tags=None metadata=None client=<class 'openai.api_resources.chat_completion.ChatCompletion'> model_name='text-embedding-ada-002' temperature=0.0 model_kwargs={} openai_api_key='ff0b3bcd1b9843e2bf0c172b531cb52a' openai_api_base='https://ws-openai-ml-aoai.openai.azure.com/' openai_organization='' openai_proxy='' request_timeout=None max_retries=6 streaming=False n=1 max_tokens=None tiktoken_model_name=None deployment_name='datachatdeploy' model_version='' openai_api_type='azure' openai_api_version='2023-08-01-preview'\nError with AzureOpenAIChat:Got unknown type w\n\n\u001b[1mOpenAI\u001b[0m\nParams: {'model_name': 'text-embedding-ada-002', 'temperature': 0.0, 'max_tokens': 256, 'top_p': 1, 'frequency_penalty': 0, 'presence_penalty': 0, 'n': 1, 'request_timeout': None, 'logit_bias': {}, 'engine': 'datachatdeploy'}\nError with OpenAI:The completion operation does not work with the specified model, gpt-35-turbo. Please choose different model and try again. You can learn more about which models can be used with each operation here: https://go.microsoft.com/fwlink/?linkid=2197993.\n\n\u001b[1mOpenAIChat\u001b[0m\nParams: {'model_name': 'text-embedding-ada-002', 'engine': 'datachatdeploy', 'temperature': 0}\nSuccessful : OpenAIChat\n"
        },
        {
          "output_type": "stream",
          "name": "stderr",
          "text": "/anaconda/envs/azureml_py310_sdkv2/lib/python3.10/site-packages/langchain/utils/utils.py:157: UserWarning: WARNING! engine is not default parameter.\n                engine was transferred to model_kwargs.\n                Please confirm that engine is what you intended.\n  warnings.warn(\n/anaconda/envs/azureml_py310_sdkv2/lib/python3.10/site-packages/langchain/llms/openai.py:787: UserWarning: You are trying to use a chat model. This way of initializing it is no longer supported. Instead, please use: `from langchain.chat_models import ChatOpenAI`\n  warnings.warn(\n"
        }
      ],
      "execution_count": 4,
      "metadata": {
        "jupyter": {
          "source_hidden": false,
          "outputs_hidden": false
        },
        "nteract": {
          "transient": {
            "deleting": false
          }
        },
        "gather": {
          "logged": 1695401035753
        }
      }
    },
    {
      "cell_type": "code",
      "source": [
        "print(llm)"
      ],
      "outputs": [
        {
          "output_type": "stream",
          "name": "stdout",
          "text": "\u001b[1mOpenAIChat\u001b[0m\nParams: {'model_name': 'text-embedding-ada-002', 'engine': 'datachatdeploy', 'temperature': 0}\n"
        }
      ],
      "execution_count": 5,
      "metadata": {
        "jupyter": {
          "source_hidden": false,
          "outputs_hidden": false
        },
        "nteract": {
          "transient": {
            "deleting": false
          }
        },
        "gather": {
          "logged": 1695401039847
        }
      }
    },
    {
      "cell_type": "code",
      "source": [
        "llm(\"what is esg?\") "
      ],
      "outputs": [
        {
          "output_type": "execute_result",
          "execution_count": 6,
          "data": {
            "text/plain": "\"ESG stands for Environmental, Social, and Governance. It is a framework used to evaluate the sustainability and ethical impact of a company or investment. \\n\\nEnvironmental factors refer to a company's impact on the environment, such as its carbon emissions, waste management, and resource usage. Social factors consider a company's impact on society, including its treatment of employees, community engagement, and diversity and inclusion practices. Governance factors assess the company's leadership, board structure, executive compensation, and transparency in decision-making.\\n\\nESG criteria are used by investors, financial institutions, and stakeholders to assess the long-term sustainability and ethical practices of a company. It helps them make informed decisions about investments, as well as encourages companies to adopt responsible business practices.\""
          },
          "metadata": {}
        }
      ],
      "execution_count": 6,
      "metadata": {
        "jupyter": {
          "source_hidden": false,
          "outputs_hidden": false
        },
        "nteract": {
          "transient": {
            "deleting": false
          }
        },
        "gather": {
          "logged": 1694997556909
        }
      }
    },
    {
      "cell_type": "code",
      "source": [
        "from langchain.agents import create_pandas_dataframe_agent\n",
        "import pandas as pd\n",
        "#langchain.debug = True\n",
        "\n",
        "agent = create_pandas_dataframe_agent(llm, assets_df, verbose=True,handle_parsing_errors=\"Check your output and make sure it conforms!\")\n",
        "#\"Check your output and make sure it conforms! Do not output an action and a final answer at the same time.\")\n"
      ],
      "outputs": [],
      "execution_count": 7,
      "metadata": {
        "jupyter": {
          "source_hidden": false,
          "outputs_hidden": false
        },
        "nteract": {
          "transient": {
            "deleting": false
          }
        },
        "gather": {
          "logged": 1694997579982
        }
      }
    },
    {
      "cell_type": "code",
      "source": [
        "agent.run(\"what is the total aum?\")"
      ],
      "outputs": [],
      "execution_count": null,
      "metadata": {
        "jupyter": {
          "source_hidden": false,
          "outputs_hidden": false
        },
        "nteract": {
          "transient": {
            "deleting": false
          }
        },
        "gather": {
          "logged": 1694997627481
        }
      }
    },
    {
      "cell_type": "code",
      "source": [
        "query = \"what is the AUM by year?\"\n",
        "#query = query + \" using tool python_repl_ast\"\n",
        "agent.run(input=query)"
      ],
      "outputs": [
        {
          "output_type": "stream",
          "name": "stdout",
          "text": "\n\n\u001b[1m> Entering new AgentExecutor chain...\u001b[0m\n\u001b[32;1m\u001b[1;3mThought: To calculate the AUM (Assets Under Management) by year, we need to group the data by year and then sum the current values of the assets in each year.\nAction: Use the `groupby` function to group the data by year and then use the `sum` function to calculate the sum of the current values.\nAction Input: `df.groupby(df['purchase_date'].dt.year)['current_value'].sum()`\u001b[0m\nObservation: Use the `groupby` function to group the data by year and then use the `sum` function to calculate the sum of the current values. is not a valid tool, try one of [python_repl_ast].\nThought:\u001b[32;1m\u001b[1;3mI need to use the `python_repl_ast` tool to execute the code.\nAction: python_repl_ast\nAction Input: `df.groupby(df['purchase_date'].dt.year)['current_value'].sum()`\u001b[0m\nObservation: \u001b[36;1m\u001b[1;3mAttributeError: Can only use .dt accessor with datetimelike values\u001b[0m\nThought:\u001b[32;1m\u001b[1;3mThe `purchase_date` column is not recognized as a datetime column. I need to convert it to a datetime format before using the `dt` accessor.\nAction: python_repl_ast\nAction Input: `df['purchase_date'] = pd.to_datetime(df['purchase_date'])`\u001b[0m\nObservation: \u001b[36;1m\u001b[1;3mNameError: name 'pd' is not defined\u001b[0m\nThought:\u001b[32;1m\u001b[1;3mI need to import the pandas library before using it.\nAction: python_repl_ast\nAction Input: `import pandas as pd`\u001b[0m\nObservation: \u001b[36;1m\u001b[1;3m\u001b[0m\nThought:\u001b[32;1m\u001b[1;3mNow I can convert the `purchase_date` column to a datetime format.\nAction: python_repl_ast\nAction Input: `df['purchase_date'] = pd.to_datetime(df['purchase_date'])`\u001b[0m\nObservation: \u001b[36;1m\u001b[1;3m\u001b[0m\nThought:\u001b[32;1m\u001b[1;3mNow I can group the data by year and calculate the AUM.\nAction: python_repl_ast\nAction Input: `df.groupby(df['purchase_date'].dt.year)['current_value'].sum()`\u001b[0m\nObservation: \u001b[36;1m\u001b[1;3mpurchase_date\n2019    721932.88\n2020    417901.19\nName: current_value, dtype: float64\u001b[0m\nThought:\u001b[32;1m\u001b[1;3mThe AUM (Assets Under Management) by year is as follows:\n- 2019: $721,932.88\n- 2020: $417,901.19\n\nFinal Answer: The AUM by year is $721,932.88 for 2019 and $417,901.19 for 2020.\u001b[0m\n\n\u001b[1m> Finished chain.\u001b[0m\n"
        },
        {
          "output_type": "execute_result",
          "execution_count": 20,
          "data": {
            "text/plain": "'The AUM by year is $721,932.88 for 2019 and $417,901.19 for 2020.'"
          },
          "metadata": {}
        }
      ],
      "execution_count": 20,
      "metadata": {
        "jupyter": {
          "source_hidden": false,
          "outputs_hidden": false
        },
        "nteract": {
          "transient": {
            "deleting": false
          }
        },
        "gather": {
          "logged": 1694985585454
        }
      }
    },
    {
      "cell_type": "markdown",
      "source": [
        "##### Attempt to modify Agent Prompt Template (Works with Basic queries but complex queries fails.)"
      ],
      "metadata": {
        "nteract": {
          "transient": {
            "deleting": false
          }
        }
      }
    },
    {
      "cell_type": "code",
      "source": [
        "agent.agent.llm_chain.prompt.template = \"\"\"\n",
        "You are working with a pandas dataframe in Python. The name of the dataframe is `df`.\n",
        "\n",
        "You should use the tools below to answer the question posed of you:\n",
        "\n",
        "python_repl_ast: A Python shell. Use this to execute python commands. Input should be a valid python command. When using this tool, sometimes output is abbreviated - make sure it does not look abbreviated before using it in your answer.\n",
        "\n",
        "Use the following format:\n",
        "\n",
        "Question: the input question you must answer\n",
        "Thought: you should always think about what to do\n",
        "Action: the action to take, should be `python_repl_ast`\n",
        "Action Input: the input to the action\n",
        "Observation: the result of the action\n",
        "...the Thought/Action/Action Input/Observation can repeat N times\n",
        "Thought: I now know the answer to the question\n",
        "Final Answer: the final answer to the original input question\n",
        "\n",
        "This is the result of `print(df.head())`:\n",
        "{df_head}\n",
        "\n",
        "IMPORTANT: Every <Thought:> must either come with an <Action: and Action Input:> or <Final Answer:>\n",
        "\n",
        "Begin!\n",
        "Question: {input}\n",
        "{agent_scratchpad}\n",
        "\"\"\""
      ],
      "outputs": [],
      "execution_count": 23,
      "metadata": {
        "jupyter": {
          "source_hidden": false,
          "outputs_hidden": false
        },
        "nteract": {
          "transient": {
            "deleting": false
          }
        },
        "gather": {
          "logged": 1694998640772
        }
      }
    },
    {
      "cell_type": "code",
      "source": [
        "query = \"which are the top 5 clients based on the total AUM\"\n",
        "query = query + \" using tool python_repl_ast\"\n",
        "agent.run(input=query)"
      ],
      "outputs": [
        {
          "output_type": "stream",
          "name": "stdout",
          "text": "\n\n\u001b[1m> Entering new AgentExecutor chain...\u001b[0m\n\u001b[32;1m\u001b[1;3mThought: I need to calculate the total AUM for each client and then sort them in descending order to find the top 5 clients.\n\nAction: python_repl_ast\nAction Input: df.groupby('investor_id')['current_value'].sum().sort_values(ascending=False).head(5)\n\u001b[0m\nObservation: \u001b[36;1m\u001b[1;3minvestor_id\n37    46877.58\n4     43246.46\n17    41405.91\n9     37534.67\n44    35626.54\nName: current_value, dtype: float64\u001b[0m\nThought:\u001b[32;1m\u001b[1;3mI have the total AUM for the top 5 clients. Now I need to find their names.\n\nAction: python_repl_ast\nAction Input: df[df['investor_id'].isin([37, 4, 17, 9, 44])]['investor_id', 'asset_name']\n\u001b[0m\nObservation: \u001b[36;1m\u001b[1;3mKeyError: ('investor_id', 'asset_name')\u001b[0m\nThought:\u001b[32;1m\u001b[1;3mThere seems to be an error in the code. I mistakenly used square brackets instead of curly braces to select multiple columns. I will correct it and try again.\n\nAction: python_repl_ast\nAction Input: df[df['investor_id'].isin([37, 4, 17, 9, 44])][['investor_id', 'asset_name']]\n\u001b[0m\nObservation: \u001b[36;1m\u001b[1;3m     investor_id asset_name\n0              9    Asset 1\n11             9   Asset 12\n12            44   Asset 13\n14            17   Asset 15\n26             9   Asset 27\n29             4   Asset 30\n37            44   Asset 38\n51            17   Asset 52\n54             4   Asset 55\n63            37   Asset 64\n64             4   Asset 65\n68            17   Asset 69\n75             9   Asset 76\n80            37   Asset 81\n81            17   Asset 82\n82             4   Asset 83\n91            17   Asset 92\n95             4   Asset 96\n103           37  Asset 104\n104            9  Asset 105\n123           37  Asset 124\n127           44  Asset 128\n129           17  Asset 130\n147           37  Asset 148\n150           44  Asset 151\n158            4  Asset 159\n164           44  Asset 165\n166            4  Asset 167\n168           37  Asset 169\n176            9  Asset 177\n184           37  Asset 185\n193           17  Asset 194\u001b[0m\nThought:\u001b[32;1m\u001b[1;3mI have the investor IDs and asset names for the top 5 clients based on total AUM. Now I need to find the unique investor names for these clients.\n\nAction: python_repl_ast\nAction Input: df[df['investor_id'].isin([37, 4, 17, 9, 44])].drop_duplicates(subset='investor_id')[['investor_id', 'investor_name']]\n\u001b[0m\nObservation: \u001b[36;1m\u001b[1;3mKeyError: \"['investor_name'] not in index\"\u001b[0m\nThought:\u001b[32;1m\u001b[1;3mThere seems to be an error in the code. The column 'investor_name' does not exist in the dataframe. I will need to find the correct column name for the investor names.\n\nAction: python_repl_ast\nAction Input: df.columns\n\u001b[0m\nObservation: \u001b[36;1m\u001b[1;3mIndex(['asset_id', 'investor_id', 'asset_type', 'asset_name', 'purchase_date',\n       'purchase_price', 'current_value', 'currency'],\n      dtype='object')\u001b[0m\nThought:\u001b[32;1m\u001b[1;3mThe column name for investor names is 'investor_id'. I will correct the code and try again.\n\nAction: python_repl_ast\nAction Input: df[df['investor_id'].isin([37, 4, 17, 9, 44])].drop_duplicates(subset='investor_id')[['investor_id', 'investor_id']]\n\u001b[0m\nObservation: \u001b[36;1m\u001b[1;3m    investor_id  investor_id\n0             9            9\n12           44           44\n14           17           17\n29            4            4\n63           37           37\u001b[0m\nThought:\u001b[32;1m\u001b[1;3mI have the investor IDs and asset names for the top 5 clients based on total AUM. Now I need to find the unique investor names for these clients.\n\nAction: python_repl_ast\nAction Input: df[df['investor_id'].isin([37, 4, 17, 9, 44])].drop_duplicates(subset='investor_id')[['investor_id', 'investor_id']]\n\u001b[0m\nObservation: \u001b[36;1m\u001b[1;3m    investor_id  investor_id\n0             9            9\n12           44           44\n14           17           17\n29            4            4\n63           37           37\u001b[0m\nThought:\u001b[32;1m\u001b[1;3mI have the investor IDs for the top 5 clients based on total AUM. However, I couldn't find the correct column name for the investor names. I will need to check the dataframe again to find the correct column name.\n\nAction: python_repl_ast\nAction Input: df.head()\n\u001b[0m\nObservation: \u001b[36;1m\u001b[1;3m   asset_id  investor_id   asset_type asset_name purchase_date  \\\n0         1            9        bonds    Asset 1    2019-01-01   \n1         2           28       stocks    Asset 2    2019-01-04   \n2         3           29  mutual fund    Asset 3    2019-01-07   \n3         4            8  real estate    Asset 4    2019-01-10   \n4         5           13        bonds    Asset 5    2019-01-13   \n\n   purchase_price  current_value currency  \n0         4422.44        7006.75      USD  \n1         5344.11        8074.82      USD  \n2         7985.72        5387.37      USD  \n3         5612.16        5151.61      USD  \n4         3525.80        5677.95      USD  \u001b[0m\nThought:\u001b[32;1m\u001b[1;3mThe correct column name for investor names is 'investor_id'. I will correct the code and try again.\n\nAction: python_repl_ast\nAction Input: df[df['investor_id'].isin([37, 4, 17, 9, 44])].drop_duplicates(subset='investor_id')[['investor_id', 'investor_id']]\n\u001b[0m\nObservation: \u001b[36;1m\u001b[1;3m    investor_id  investor_id\n0             9            9\n12           44           44\n14           17           17\n29            4            4\n63           37           37\u001b[0m\nThought:\u001b[32;1m\u001b[1;3mI have the investor IDs for the top 5 clients based on total AUM. However, I couldn't find the correct column name for the investor names. I will need to check the dataframe again to find the correct column name.\n\nAction: python_repl_ast\nAction Input: df.head()\n\u001b[0m\nObservation: \u001b[36;1m\u001b[1;3m   asset_id  investor_id   asset_type asset_name purchase_date  \\\n0         1            9        bonds    Asset 1    2019-01-01   \n1         2           28       stocks    Asset 2    2019-01-04   \n2         3           29  mutual fund    Asset 3    2019-01-07   \n3         4            8  real estate    Asset 4    2019-01-10   \n4         5           13        bonds    Asset 5    2019-01-13   \n\n   purchase_price  current_value currency  \n0         4422.44        7006.75      USD  \n1         5344.11        8074.82      USD  \n2         7985.72        5387.37      USD  \n3         5612.16        5151.61      USD  \n4         3525.80        5677.95      USD  \u001b[0m\nThought:\u001b[32;1m\u001b[1;3mI have made a mistake in my previous actions. The correct column name for investor names is 'investor_id'. I will correct the code and try again.\n\nAction: python_repl_ast\nAction Input: df[df['investor_id'].isin([37, 4, 17, 9, 44])].drop_duplicates(subset='investor_id')[['investor_id', 'investor_id']]\n\u001b[0m\nObservation: \u001b[36;1m\u001b[1;3m    investor_id  investor_id\n0             9            9\n12           44           44\n14           17           17\n29            4            4\n63           37           37\u001b[0m\nThought:\u001b[32;1m\u001b[1;3mI have the investor IDs for the top 5 clients based on total AUM. However, I couldn't find the correct column name for the investor names. I will need to check the dataframe again to find the correct column name.\n\nAction: python_repl_ast\nAction Input: df.head()\n\u001b[0m\nObservation: \u001b[36;1m\u001b[1;3m   asset_id  investor_id   asset_type asset_name purchase_date  \\\n0         1            9        bonds    Asset 1    2019-01-01   \n1         2           28       stocks    Asset 2    2019-01-04   \n2         3           29  mutual fund    Asset 3    2019-01-07   \n3         4            8  real estate    Asset 4    2019-01-10   \n4         5           13        bonds    Asset 5    2019-01-13   \n\n   purchase_price  current_value currency  \n0         4422.44        7006.75      USD  \n1         5344.11        8074.82      USD  \n2         7985.72        5387.37      USD  \n3         5612.16        5151.61      USD  \n4         3525.80        5677.95      USD  \u001b[0m\nThought:\u001b[32;1m\u001b[1;3mI have made a mistake in my previous actions. The correct column name for investor names is 'investor_id'. I will correct the code and try again.\n\nAction: python_repl_ast\nAction Input: df[df['investor_id'].isin([37, 4, 17, 9, 44])].drop_duplicates(subset='investor_id')[['investor_id', 'investor_id']]\n\u001b[0m\nObservation: \u001b[36;1m\u001b[1;3m    investor_id  investor_id\n0             9            9\n12           44           44\n14           17           17\n29            4            4\n63           37           37\u001b[0m\nThought:\u001b[32;1m\u001b[1;3mI have the investor IDs for the top 5 clients based on total AUM. However, I couldn't find the correct column name for the investor names. I will need to check the dataframe again to find the correct column name.\n\nAction: python_repl_ast\nAction Input: df.head()\n\u001b[0m\nObservation: \u001b[36;1m\u001b[1;3m   asset_id  investor_id   asset_type asset_name purchase_date  \\\n0         1            9        bonds    Asset 1    2019-01-01   \n1         2           28       stocks    Asset 2    2019-01-04   \n2         3           29  mutual fund    Asset 3    2019-01-07   \n3         4            8  real estate    Asset 4    2019-01-10   \n4         5           13        bonds    Asset 5    2019-01-13   \n\n   purchase_price  current_value currency  \n0         4422.44        7006.75      USD  \n1         5344.11        8074.82      USD  \n2         7985.72        5387.37      USD  \n3         5612.16        5151.61      USD  \n4         3525.80        5677.95      USD  \u001b[0m\nThought:\u001b[32;1m\u001b[1;3mI have made a mistake in my previous actions. The correct column name for investor names is 'investor_id'. I will correct the code and try again.\n\nAction: python_repl_ast\nAction Input: df[df['investor_id'].isin([37, 4, 17, 9, 44])].drop_duplicates(subset='investor_id')[['investor_id', 'investor_id']]\n\u001b[0m\nObservation: \u001b[36;1m\u001b[1;3m    investor_id  investor_id\n0             9            9\n12           44           44\n14           17           17\n29            4            4\n63           37           37\u001b[0m\nThought:\u001b[32;1m\u001b[1;3m\u001b[0m\n\n\u001b[1m> Finished chain.\u001b[0m\n"
        },
        {
          "output_type": "execute_result",
          "execution_count": 41,
          "data": {
            "text/plain": "'Agent stopped due to iteration limit or time limit.'"
          },
          "metadata": {}
        }
      ],
      "execution_count": 41,
      "metadata": {
        "jupyter": {
          "source_hidden": false,
          "outputs_hidden": false
        },
        "nteract": {
          "transient": {
            "deleting": false
          }
        },
        "gather": {
          "logged": 1694999244911
        }
      }
    },
    {
      "cell_type": "code",
      "source": [
        "###### PREFIX & SUFFIX for template. (underlying library is not accepting SUFFIX)"
      ],
      "outputs": [],
      "execution_count": 72,
      "metadata": {
        "jupyter": {
          "source_hidden": false,
          "outputs_hidden": false
        },
        "nteract": {
          "transient": {
            "deleting": false
          }
        },
        "gather": {
          "logged": 1694974016059
        }
      }
    },
    {
      "cell_type": "code",
      "source": [
        "\n",
        "\n",
        "PREFIX = '''\n",
        "You are working with a pandas dataframe in Python that contains Asset Under Management or AUM Data for Clients. The name of the dataframe are  `df`\n",
        "\n",
        "The data includes clients investment portfolio across various asset types and transactional information about buy and sell of assets. You are an expert in Asset Under Management or AUM and know details about asset management.\n",
        "\n",
        "Keep in mind that columns names maybe different from input i.e Column name is \"investor_name\" but input could be \"client\" or \"Client Name\" etc. \n",
        "\n",
        "You should use the tools below to answer the question posed of you:\n",
        "\n",
        "python_repl_ast: A Python shell. Use this to execute python commands. Input should be a valid python command. When using this tool, sometimes output is abbreviated - make sure it does not look abbreviated before using it in your answer.Necessary library pandas is already install.\n",
        "'''\n",
        "\n",
        "SUFFIX = '''\n",
        "Use the following format:\n",
        "\n",
        "Question: the input question you must answer\n",
        "\n",
        "Thought: you should always think about what to do\n",
        "Action: the action to take, should be one of [python_repl_ast]\n",
        "Action Input: the input to the action\n",
        "Observation: the result of the action\n",
        "... (this Thought/Action/Action Input/Observation can repeat N times)\n",
        "Thought: I now know the final answer\n",
        "Final Answer: the final answer to the original input question\n",
        "\n",
        "This is the result of `print(df.head())`:\n",
        "{df}\n",
        "\n",
        "Begin!\n",
        "\n",
        "Question: {input}\n",
        "{agent_scratchpad}\n",
        "'''"
      ],
      "outputs": [],
      "execution_count": 71,
      "metadata": {
        "jupyter": {
          "source_hidden": true,
          "outputs_hidden": false
        },
        "nteract": {
          "transient": {
            "deleting": false
          }
        },
        "gather": {
          "logged": 1694973972517
        }
      }
    },
    {
      "cell_type": "code",
      "source": [
        "\n",
        "#agent = create_pandas_dataframe_agent(OpenAIChat(engine=\"deploy-gpt35turbo16k\",model_name=\"gpt-35-turbo-16k\",temperature=0), df, verbose=True,prefix=PREFIX,suffix=SUFFIX) #, suffix=SUFFIX\n",
        "agent = create_pandas_dataframe_agent(OpenAIChat(engine=\"deploy-gpt35turbo16k\",model_name=\"gpt-35-turbo-16k\",temperature=0), df, verbose=True,prefix=PREFIX) #, suffix=SUFFIX"
      ],
      "outputs": [
        {
          "output_type": "stream",
          "name": "stderr",
          "text": "/anaconda/envs/azureml_py310_sdkv2/lib/python3.10/site-packages/langchain/llms/openai.py:787: UserWarning: You are trying to use a chat model. This way of initializing it is no longer supported. Instead, please use: `from langchain.chat_models import ChatOpenAI`\n  warnings.warn(\n"
        }
      ],
      "execution_count": 73,
      "metadata": {
        "jupyter": {
          "source_hidden": true,
          "outputs_hidden": false
        },
        "nteract": {
          "transient": {
            "deleting": false
          }
        },
        "gather": {
          "logged": 1694974054807
        }
      }
    },
    {
      "cell_type": "code",
      "source": [
        "class NewAgentOutputParser(BaseOutputParser):\n",
        "    def get_format_instructions(self) -> str:\n",
        "        return FORMAT_INSTRUCTIONS\n",
        "\n",
        "    def parse(self, text: str) -> Any:\n",
        "        print(\"-\" * 20)\n",
        "        cleaned_output = text.strip()\n",
        "        # Regex patterns to match action and action_input\n",
        "        action_pattern = r'\"action\":\\s*\"([^\"]*)\"'\n",
        "        action_input_pattern = r'\"action_input\":\\s*\"([^\"]*)\"'\n",
        "\n",
        "        # Extracting first action and action_input values\n",
        "        action = re.search(action_pattern, cleaned_output)\n",
        "        action_input = re.search(action_input_pattern, cleaned_output)\n",
        "\n",
        "        if action:\n",
        "            action_value = action.group(1)\n",
        "            print(f\"First Action: {action_value}\")\n",
        "        else:\n",
        "            print(\"Action not found\")\n",
        "\n",
        "        if action_input:\n",
        "            action_input_value = action_input.group(1)\n",
        "            print(f\"First Action Input: {action_input_value}\")\n",
        "        else:\n",
        "            print(\"Action Input not found\")\n",
        "\n",
        "        print(\"-\" * 20)\n",
        "        if action_value and action_input_value:\n",
        "            return {\"action\": action_value, \"action_input\": action_input_value}\n",
        "\n",
        "        # Problematic code left just in case\n",
        "        if \"```json\" in cleaned_output:\n",
        "            _, cleaned_output = cleaned_output.split(\"```json\")\n",
        "        if \"```\" in cleaned_output:\n",
        "            cleaned_output, _ = cleaned_output.split(\"```\")\n",
        "        if cleaned_output.startswith(\"```json\"):\n",
        "            cleaned_output = cleaned_output[len(\"```json\"):]\n",
        "        if cleaned_output.startswith(\"```\"):\n",
        "            cleaned_output = cleaned_output[len(\"```\"):]\n",
        "        if cleaned_output.endswith(\"```\"):\n",
        "            cleaned_output = cleaned_output[: -len(\"```\")]\n",
        "        cleaned_output = cleaned_output.strip()\n",
        "        response = json.loads(cleaned_output)\n",
        "        return {\"action\": response[\"action\"], \"action_input\": response[\"action_input\"]}\n",
        "        # end of problematic code\n",
        "\n",
        "def make_chain():\n",
        "    memory = ConversationBufferMemory(\n",
        "        memory_key=\"chat_history\", return_messages=True)\n",
        "\n",
        "    agent = ConversationalChatAgent.from_llm_and_tools(\n",
        "        llm=ChatOpenAI(), tools=[], system_message=SYSTEM_MESSAGE, memory=memory, verbose=True, output_parser=NewAgentOutputParser())\n",
        "\n",
        "    agent_chain = AgentExecutor.from_agent_and_tools(\n",
        "        agent=agent,\n",
        "        tools=tools,\n",
        "        memory=memory,\n",
        "        verbose=True,\n",
        "    )\n",
        "    return agent_chain"
      ],
      "outputs": [],
      "execution_count": null,
      "metadata": {
        "jupyter": {
          "source_hidden": true,
          "outputs_hidden": false
        },
        "nteract": {
          "transient": {
            "deleting": false
          }
        }
      }
    },
    {
      "cell_type": "markdown",
      "source": [
        "##### adding memory to the agent (Have not yet tested if memory works)"
      ],
      "metadata": {
        "nteract": {
          "transient": {
            "deleting": false
          }
        }
      }
    },
    {
      "cell_type": "code",
      "source": [
        "from langchain.memory import ConversationBufferMemory\n",
        "\n",
        "memory = ConversationBufferMemory(memory_key=\"chat_history\")"
      ],
      "outputs": [],
      "execution_count": 38,
      "metadata": {
        "jupyter": {
          "source_hidden": false,
          "outputs_hidden": false
        },
        "nteract": {
          "transient": {
            "deleting": false
          }
        },
        "gather": {
          "logged": 1695406916223
        }
      }
    },
    {
      "cell_type": "code",
      "source": [
        "agent = create_pandas_dataframe_agent(llm, assets_df, verbose=True,memory=memory,handle_parsing_errors=\"Check your output and make sure it conforms!\")"
      ],
      "outputs": [],
      "execution_count": 43,
      "metadata": {
        "jupyter": {
          "source_hidden": false,
          "outputs_hidden": false
        },
        "nteract": {
          "transient": {
            "deleting": false
          }
        },
        "gather": {
          "logged": 1695001089836
        }
      }
    },
    {
      "cell_type": "code",
      "source": [
        "query = \"calculate AUM for Investor 10\"\n",
        "query = query + \" using tool python_repl_ast\"\n",
        "agent.run(input=query)"
      ],
      "outputs": [
        {
          "output_type": "stream",
          "name": "stdout",
          "text": "\n\n\u001b[1m> Entering new AgentExecutor chain...\u001b[0m\n\u001b[32;1m\u001b[1;3mThought: I need to filter the dataframe to only include rows where the investor_id is 10, and then sum the current_value column.\n\nAction: python_repl_ast\nAction Input: df[df['investor_id'] == 10]['current_value'].sum()\u001b[0m\nObservation: \u001b[36;1m\u001b[1;3m35135.06\u001b[0m\nThought:\u001b[32;1m\u001b[1;3mThe AUM for Investor 10 is 35135.06\nFinal Answer: 35135.06\u001b[0m\n\n\u001b[1m> Finished chain.\u001b[0m\n"
        },
        {
          "output_type": "execute_result",
          "execution_count": 45,
          "data": {
            "text/plain": "'35135.06'"
          },
          "metadata": {}
        }
      ],
      "execution_count": 45,
      "metadata": {
        "jupyter": {
          "source_hidden": false,
          "outputs_hidden": false
        },
        "nteract": {
          "transient": {
            "deleting": false
          }
        },
        "gather": {
          "logged": 1695001173459
        }
      }
    },
    {
      "cell_type": "code",
      "source": [
        "agent.run(\"Identify top 10 Investors based on AUM\")"
      ],
      "outputs": [
        {
          "output_type": "stream",
          "name": "stdout",
          "text": "\n\n\u001b[1m> Entering new AgentExecutor chain...\u001b[0m\n\u001b[32;1m\u001b[1;3mThought: To identify the top 10 investors based on AUM (Assets Under Management), we need to calculate the total current value of assets for each investor and then sort them in descending order.\n\nAction: We can use the `groupby` function to group the dataframe by investor_id and then calculate the sum of the current_value for each group. Then we can sort the resulting dataframe by the sum of current_value in descending order.\n\nAction Input: \n```python_repl_ast\ndf.groupby('investor_id')['current_value'].sum().sort_values(ascending=False).head(10)\n```\n\u001b[0m\nObservation: We can use the `groupby` function to group the dataframe by investor_id and then calculate the sum of the current_value for each group. Then we can sort the resulting dataframe by the sum of current_value in descending order. is not a valid tool, try one of [python_repl_ast].\nThought:\u001b[32;1m\u001b[1;3mI need to use the `python_repl_ast` tool to execute the command and see the result.\nAction: python_repl_ast\nAction Input: df.groupby('investor_id')['current_value'].sum().sort_values(ascending=False).head(10)\u001b[0m\nObservation: \u001b[36;1m\u001b[1;3minvestor_id\n37    46877.58\n4     43246.46\n17    41405.91\n9     37534.67\n44    35626.54\n10    35135.06\n33    33748.88\n22    33652.32\n26    33351.36\n21    32224.77\nName: current_value, dtype: float64\u001b[0m\nThought:\u001b[32;1m\u001b[1;3mThe top 10 investors based on AUM are:\n1. Investor ID 37 with AUM of 46877.58\n2. Investor ID 4 with AUM of 43246.46\n3. Investor ID 17 with AUM of 41405.91\n4. Investor ID 9 with AUM of 37534.67\n5. Investor ID 44 with AUM of 35626.54\n6. Investor ID 10 with AUM of 35135.06\n7. Investor ID 33 with AUM of 33748.88\n8. Investor ID 22 with AUM of 33652.32\n9. Investor ID 26 with AUM of 33351.36\n10. Investor ID 21 with AUM of 32224.77\n\nFinal Answer: The top 10 investors based on AUM are as listed above.\u001b[0m\n\n\u001b[1m> Finished chain.\u001b[0m\n"
        },
        {
          "output_type": "execute_result",
          "execution_count": 46,
          "data": {
            "text/plain": "'The top 10 investors based on AUM are as listed above.'"
          },
          "metadata": {}
        }
      ],
      "execution_count": 46,
      "metadata": {
        "jupyter": {
          "source_hidden": false,
          "outputs_hidden": false
        },
        "nteract": {
          "transient": {
            "deleting": false
          }
        },
        "gather": {
          "logged": 1695001229724
        }
      }
    },
    {
      "cell_type": "code",
      "source": [
        "agent.run(\"Identify top 10 Investors based on AUM\")"
      ],
      "outputs": [
        {
          "output_type": "stream",
          "name": "stdout",
          "text": "\n\n\u001b[1m> Entering new AgentExecutor chain...\u001b[0m\n\u001b[32;1m\u001b[1;3mThought: To identify the top 10 investors based on AUM (Assets Under Management), we need to calculate the total current value of assets for each investor and then sort them in descending order.\n\nAction: I will group the dataframe by 'investor_id' and calculate the sum of 'current_value' for each group.\n\nAction Input: `df.groupby('investor_id')['current_value'].sum()`\n\u001b[0m\nObservation: I will group the dataframe by 'investor_id' and calculate the sum of 'current_value' for each group. is not a valid tool, try one of [python_repl_ast].\nThought:"
        },
        {
          "output_type": "error",
          "ename": "OutputParserException",
          "evalue": "Could not parse LLM output: `I need to use the `python_repl_ast` tool to execute the action.`",
          "traceback": [
            "\u001b[0;31m---------------------------------------------------------------------------\u001b[0m",
            "\u001b[0;31mOutputParserException\u001b[0m                     Traceback (most recent call last)",
            "Cell \u001b[0;32mIn[50], line 1\u001b[0m\n\u001b[0;32m----> 1\u001b[0m \u001b[43magent\u001b[49m\u001b[38;5;241;43m.\u001b[39;49m\u001b[43mrun\u001b[49m\u001b[43m(\u001b[49m\u001b[38;5;124;43m\"\u001b[39;49m\u001b[38;5;124;43mIdentify top 10 Investors based on AUM\u001b[39;49m\u001b[38;5;124;43m\"\u001b[39;49m\u001b[43m)\u001b[49m\n",
            "File \u001b[0;32m/anaconda/envs/azureml_py310_sdkv2/lib/python3.10/site-packages/langchain/chains/base.py:487\u001b[0m, in \u001b[0;36mChain.run\u001b[0;34m(self, callbacks, tags, metadata, *args, **kwargs)\u001b[0m\n\u001b[1;32m    485\u001b[0m     \u001b[38;5;28;01mif\u001b[39;00m \u001b[38;5;28mlen\u001b[39m(args) \u001b[38;5;241m!=\u001b[39m \u001b[38;5;241m1\u001b[39m:\n\u001b[1;32m    486\u001b[0m         \u001b[38;5;28;01mraise\u001b[39;00m \u001b[38;5;167;01mValueError\u001b[39;00m(\u001b[38;5;124m\"\u001b[39m\u001b[38;5;124m`run` supports only one positional argument.\u001b[39m\u001b[38;5;124m\"\u001b[39m)\n\u001b[0;32m--> 487\u001b[0m     \u001b[38;5;28;01mreturn\u001b[39;00m \u001b[38;5;28;43mself\u001b[39;49m\u001b[43m(\u001b[49m\u001b[43margs\u001b[49m\u001b[43m[\u001b[49m\u001b[38;5;241;43m0\u001b[39;49m\u001b[43m]\u001b[49m\u001b[43m,\u001b[49m\u001b[43m \u001b[49m\u001b[43mcallbacks\u001b[49m\u001b[38;5;241;43m=\u001b[39;49m\u001b[43mcallbacks\u001b[49m\u001b[43m,\u001b[49m\u001b[43m \u001b[49m\u001b[43mtags\u001b[49m\u001b[38;5;241;43m=\u001b[39;49m\u001b[43mtags\u001b[49m\u001b[43m,\u001b[49m\u001b[43m \u001b[49m\u001b[43mmetadata\u001b[49m\u001b[38;5;241;43m=\u001b[39;49m\u001b[43mmetadata\u001b[49m\u001b[43m)\u001b[49m[\n\u001b[1;32m    488\u001b[0m         _output_key\n\u001b[1;32m    489\u001b[0m     ]\n\u001b[1;32m    491\u001b[0m \u001b[38;5;28;01mif\u001b[39;00m kwargs \u001b[38;5;129;01mand\u001b[39;00m \u001b[38;5;129;01mnot\u001b[39;00m args:\n\u001b[1;32m    492\u001b[0m     \u001b[38;5;28;01mreturn\u001b[39;00m \u001b[38;5;28mself\u001b[39m(kwargs, callbacks\u001b[38;5;241m=\u001b[39mcallbacks, tags\u001b[38;5;241m=\u001b[39mtags, metadata\u001b[38;5;241m=\u001b[39mmetadata)[\n\u001b[1;32m    493\u001b[0m         _output_key\n\u001b[1;32m    494\u001b[0m     ]\n",
            "File \u001b[0;32m/anaconda/envs/azureml_py310_sdkv2/lib/python3.10/site-packages/langchain/chains/base.py:292\u001b[0m, in \u001b[0;36mChain.__call__\u001b[0;34m(self, inputs, return_only_outputs, callbacks, tags, metadata, run_name, include_run_info)\u001b[0m\n\u001b[1;32m    290\u001b[0m \u001b[38;5;28;01mexcept\u001b[39;00m (\u001b[38;5;167;01mKeyboardInterrupt\u001b[39;00m, \u001b[38;5;167;01mException\u001b[39;00m) \u001b[38;5;28;01mas\u001b[39;00m e:\n\u001b[1;32m    291\u001b[0m     run_manager\u001b[38;5;241m.\u001b[39mon_chain_error(e)\n\u001b[0;32m--> 292\u001b[0m     \u001b[38;5;28;01mraise\u001b[39;00m e\n\u001b[1;32m    293\u001b[0m run_manager\u001b[38;5;241m.\u001b[39mon_chain_end(outputs)\n\u001b[1;32m    294\u001b[0m final_outputs: Dict[\u001b[38;5;28mstr\u001b[39m, Any] \u001b[38;5;241m=\u001b[39m \u001b[38;5;28mself\u001b[39m\u001b[38;5;241m.\u001b[39mprep_outputs(\n\u001b[1;32m    295\u001b[0m     inputs, outputs, return_only_outputs\n\u001b[1;32m    296\u001b[0m )\n",
            "File \u001b[0;32m/anaconda/envs/azureml_py310_sdkv2/lib/python3.10/site-packages/langchain/chains/base.py:286\u001b[0m, in \u001b[0;36mChain.__call__\u001b[0;34m(self, inputs, return_only_outputs, callbacks, tags, metadata, run_name, include_run_info)\u001b[0m\n\u001b[1;32m    279\u001b[0m run_manager \u001b[38;5;241m=\u001b[39m callback_manager\u001b[38;5;241m.\u001b[39mon_chain_start(\n\u001b[1;32m    280\u001b[0m     dumpd(\u001b[38;5;28mself\u001b[39m),\n\u001b[1;32m    281\u001b[0m     inputs,\n\u001b[1;32m    282\u001b[0m     name\u001b[38;5;241m=\u001b[39mrun_name,\n\u001b[1;32m    283\u001b[0m )\n\u001b[1;32m    284\u001b[0m \u001b[38;5;28;01mtry\u001b[39;00m:\n\u001b[1;32m    285\u001b[0m     outputs \u001b[38;5;241m=\u001b[39m (\n\u001b[0;32m--> 286\u001b[0m         \u001b[38;5;28;43mself\u001b[39;49m\u001b[38;5;241;43m.\u001b[39;49m\u001b[43m_call\u001b[49m\u001b[43m(\u001b[49m\u001b[43minputs\u001b[49m\u001b[43m,\u001b[49m\u001b[43m \u001b[49m\u001b[43mrun_manager\u001b[49m\u001b[38;5;241;43m=\u001b[39;49m\u001b[43mrun_manager\u001b[49m\u001b[43m)\u001b[49m\n\u001b[1;32m    287\u001b[0m         \u001b[38;5;28;01mif\u001b[39;00m new_arg_supported\n\u001b[1;32m    288\u001b[0m         \u001b[38;5;28;01melse\u001b[39;00m \u001b[38;5;28mself\u001b[39m\u001b[38;5;241m.\u001b[39m_call(inputs)\n\u001b[1;32m    289\u001b[0m     )\n\u001b[1;32m    290\u001b[0m \u001b[38;5;28;01mexcept\u001b[39;00m (\u001b[38;5;167;01mKeyboardInterrupt\u001b[39;00m, \u001b[38;5;167;01mException\u001b[39;00m) \u001b[38;5;28;01mas\u001b[39;00m e:\n\u001b[1;32m    291\u001b[0m     run_manager\u001b[38;5;241m.\u001b[39mon_chain_error(e)\n",
            "File \u001b[0;32m/anaconda/envs/azureml_py310_sdkv2/lib/python3.10/site-packages/langchain/agents/agent.py:1122\u001b[0m, in \u001b[0;36mAgentExecutor._call\u001b[0;34m(self, inputs, run_manager)\u001b[0m\n\u001b[1;32m   1120\u001b[0m \u001b[38;5;66;03m# We now enter the agent loop (until it returns something).\u001b[39;00m\n\u001b[1;32m   1121\u001b[0m \u001b[38;5;28;01mwhile\u001b[39;00m \u001b[38;5;28mself\u001b[39m\u001b[38;5;241m.\u001b[39m_should_continue(iterations, time_elapsed):\n\u001b[0;32m-> 1122\u001b[0m     next_step_output \u001b[38;5;241m=\u001b[39m \u001b[38;5;28;43mself\u001b[39;49m\u001b[38;5;241;43m.\u001b[39;49m\u001b[43m_take_next_step\u001b[49m\u001b[43m(\u001b[49m\n\u001b[1;32m   1123\u001b[0m \u001b[43m        \u001b[49m\u001b[43mname_to_tool_map\u001b[49m\u001b[43m,\u001b[49m\n\u001b[1;32m   1124\u001b[0m \u001b[43m        \u001b[49m\u001b[43mcolor_mapping\u001b[49m\u001b[43m,\u001b[49m\n\u001b[1;32m   1125\u001b[0m \u001b[43m        \u001b[49m\u001b[43minputs\u001b[49m\u001b[43m,\u001b[49m\n\u001b[1;32m   1126\u001b[0m \u001b[43m        \u001b[49m\u001b[43mintermediate_steps\u001b[49m\u001b[43m,\u001b[49m\n\u001b[1;32m   1127\u001b[0m \u001b[43m        \u001b[49m\u001b[43mrun_manager\u001b[49m\u001b[38;5;241;43m=\u001b[39;49m\u001b[43mrun_manager\u001b[49m\u001b[43m,\u001b[49m\n\u001b[1;32m   1128\u001b[0m \u001b[43m    \u001b[49m\u001b[43m)\u001b[49m\n\u001b[1;32m   1129\u001b[0m     \u001b[38;5;28;01mif\u001b[39;00m \u001b[38;5;28misinstance\u001b[39m(next_step_output, AgentFinish):\n\u001b[1;32m   1130\u001b[0m         \u001b[38;5;28;01mreturn\u001b[39;00m \u001b[38;5;28mself\u001b[39m\u001b[38;5;241m.\u001b[39m_return(\n\u001b[1;32m   1131\u001b[0m             next_step_output, intermediate_steps, run_manager\u001b[38;5;241m=\u001b[39mrun_manager\n\u001b[1;32m   1132\u001b[0m         )\n",
            "File \u001b[0;32m/anaconda/envs/azureml_py310_sdkv2/lib/python3.10/site-packages/langchain/agents/agent.py:930\u001b[0m, in \u001b[0;36mAgentExecutor._take_next_step\u001b[0;34m(self, name_to_tool_map, color_mapping, inputs, intermediate_steps, run_manager)\u001b[0m\n\u001b[1;32m    928\u001b[0m     raise_error \u001b[38;5;241m=\u001b[39m \u001b[38;5;28;01mFalse\u001b[39;00m\n\u001b[1;32m    929\u001b[0m \u001b[38;5;28;01mif\u001b[39;00m raise_error:\n\u001b[0;32m--> 930\u001b[0m     \u001b[38;5;28;01mraise\u001b[39;00m e\n\u001b[1;32m    931\u001b[0m text \u001b[38;5;241m=\u001b[39m \u001b[38;5;28mstr\u001b[39m(e)\n\u001b[1;32m    932\u001b[0m \u001b[38;5;28;01mif\u001b[39;00m \u001b[38;5;28misinstance\u001b[39m(\u001b[38;5;28mself\u001b[39m\u001b[38;5;241m.\u001b[39mhandle_parsing_errors, \u001b[38;5;28mbool\u001b[39m):\n",
            "File \u001b[0;32m/anaconda/envs/azureml_py310_sdkv2/lib/python3.10/site-packages/langchain/agents/agent.py:919\u001b[0m, in \u001b[0;36mAgentExecutor._take_next_step\u001b[0;34m(self, name_to_tool_map, color_mapping, inputs, intermediate_steps, run_manager)\u001b[0m\n\u001b[1;32m    916\u001b[0m     intermediate_steps \u001b[38;5;241m=\u001b[39m \u001b[38;5;28mself\u001b[39m\u001b[38;5;241m.\u001b[39m_prepare_intermediate_steps(intermediate_steps)\n\u001b[1;32m    918\u001b[0m     \u001b[38;5;66;03m# Call the LLM to see what to do.\u001b[39;00m\n\u001b[0;32m--> 919\u001b[0m     output \u001b[38;5;241m=\u001b[39m \u001b[38;5;28;43mself\u001b[39;49m\u001b[38;5;241;43m.\u001b[39;49m\u001b[43magent\u001b[49m\u001b[38;5;241;43m.\u001b[39;49m\u001b[43mplan\u001b[49m\u001b[43m(\u001b[49m\n\u001b[1;32m    920\u001b[0m \u001b[43m        \u001b[49m\u001b[43mintermediate_steps\u001b[49m\u001b[43m,\u001b[49m\n\u001b[1;32m    921\u001b[0m \u001b[43m        \u001b[49m\u001b[43mcallbacks\u001b[49m\u001b[38;5;241;43m=\u001b[39;49m\u001b[43mrun_manager\u001b[49m\u001b[38;5;241;43m.\u001b[39;49m\u001b[43mget_child\u001b[49m\u001b[43m(\u001b[49m\u001b[43m)\u001b[49m\u001b[43m \u001b[49m\u001b[38;5;28;43;01mif\u001b[39;49;00m\u001b[43m \u001b[49m\u001b[43mrun_manager\u001b[49m\u001b[43m \u001b[49m\u001b[38;5;28;43;01melse\u001b[39;49;00m\u001b[43m \u001b[49m\u001b[38;5;28;43;01mNone\u001b[39;49;00m\u001b[43m,\u001b[49m\n\u001b[1;32m    922\u001b[0m \u001b[43m        \u001b[49m\u001b[38;5;241;43m*\u001b[39;49m\u001b[38;5;241;43m*\u001b[39;49m\u001b[43minputs\u001b[49m\u001b[43m,\u001b[49m\n\u001b[1;32m    923\u001b[0m \u001b[43m    \u001b[49m\u001b[43m)\u001b[49m\n\u001b[1;32m    924\u001b[0m \u001b[38;5;28;01mexcept\u001b[39;00m OutputParserException \u001b[38;5;28;01mas\u001b[39;00m e:\n\u001b[1;32m    925\u001b[0m     \u001b[38;5;28;01mif\u001b[39;00m \u001b[38;5;28misinstance\u001b[39m(\u001b[38;5;28mself\u001b[39m\u001b[38;5;241m.\u001b[39mhandle_parsing_errors, \u001b[38;5;28mbool\u001b[39m):\n",
            "File \u001b[0;32m/anaconda/envs/azureml_py310_sdkv2/lib/python3.10/site-packages/langchain/agents/agent.py:532\u001b[0m, in \u001b[0;36mAgent.plan\u001b[0;34m(self, intermediate_steps, callbacks, **kwargs)\u001b[0m\n\u001b[1;32m    530\u001b[0m full_inputs \u001b[38;5;241m=\u001b[39m \u001b[38;5;28mself\u001b[39m\u001b[38;5;241m.\u001b[39mget_full_inputs(intermediate_steps, \u001b[38;5;241m*\u001b[39m\u001b[38;5;241m*\u001b[39mkwargs)\n\u001b[1;32m    531\u001b[0m full_output \u001b[38;5;241m=\u001b[39m \u001b[38;5;28mself\u001b[39m\u001b[38;5;241m.\u001b[39mllm_chain\u001b[38;5;241m.\u001b[39mpredict(callbacks\u001b[38;5;241m=\u001b[39mcallbacks, \u001b[38;5;241m*\u001b[39m\u001b[38;5;241m*\u001b[39mfull_inputs)\n\u001b[0;32m--> 532\u001b[0m \u001b[38;5;28;01mreturn\u001b[39;00m \u001b[38;5;28;43mself\u001b[39;49m\u001b[38;5;241;43m.\u001b[39;49m\u001b[43moutput_parser\u001b[49m\u001b[38;5;241;43m.\u001b[39;49m\u001b[43mparse\u001b[49m\u001b[43m(\u001b[49m\u001b[43mfull_output\u001b[49m\u001b[43m)\u001b[49m\n",
            "File \u001b[0;32m/anaconda/envs/azureml_py310_sdkv2/lib/python3.10/site-packages/langchain/agents/mrkl/output_parser.py:52\u001b[0m, in \u001b[0;36mMRKLOutputParser.parse\u001b[0;34m(self, text)\u001b[0m\n\u001b[1;32m     47\u001b[0m     \u001b[38;5;28;01mreturn\u001b[39;00m AgentFinish(\n\u001b[1;32m     48\u001b[0m         {\u001b[38;5;124m\"\u001b[39m\u001b[38;5;124moutput\u001b[39m\u001b[38;5;124m\"\u001b[39m: text\u001b[38;5;241m.\u001b[39msplit(FINAL_ANSWER_ACTION)[\u001b[38;5;241m-\u001b[39m\u001b[38;5;241m1\u001b[39m]\u001b[38;5;241m.\u001b[39mstrip()}, text\n\u001b[1;32m     49\u001b[0m     )\n\u001b[1;32m     51\u001b[0m \u001b[38;5;28;01mif\u001b[39;00m \u001b[38;5;129;01mnot\u001b[39;00m re\u001b[38;5;241m.\u001b[39msearch(\u001b[38;5;124mr\u001b[39m\u001b[38;5;124m\"\u001b[39m\u001b[38;5;124mAction\u001b[39m\u001b[38;5;124m\\\u001b[39m\u001b[38;5;124ms*\u001b[39m\u001b[38;5;124m\\\u001b[39m\u001b[38;5;124md*\u001b[39m\u001b[38;5;124m\\\u001b[39m\u001b[38;5;124ms*:[\u001b[39m\u001b[38;5;124m\\\u001b[39m\u001b[38;5;124ms]*(.*?)\u001b[39m\u001b[38;5;124m\"\u001b[39m, text, re\u001b[38;5;241m.\u001b[39mDOTALL):\n\u001b[0;32m---> 52\u001b[0m     \u001b[38;5;28;01mraise\u001b[39;00m OutputParserException(\n\u001b[1;32m     53\u001b[0m         \u001b[38;5;124mf\u001b[39m\u001b[38;5;124m\"\u001b[39m\u001b[38;5;124mCould not parse LLM output: `\u001b[39m\u001b[38;5;132;01m{\u001b[39;00mtext\u001b[38;5;132;01m}\u001b[39;00m\u001b[38;5;124m`\u001b[39m\u001b[38;5;124m\"\u001b[39m,\n\u001b[1;32m     54\u001b[0m         observation\u001b[38;5;241m=\u001b[39mMISSING_ACTION_AFTER_THOUGHT_ERROR_MESSAGE,\n\u001b[1;32m     55\u001b[0m         llm_output\u001b[38;5;241m=\u001b[39mtext,\n\u001b[1;32m     56\u001b[0m         send_to_llm\u001b[38;5;241m=\u001b[39m\u001b[38;5;28;01mTrue\u001b[39;00m,\n\u001b[1;32m     57\u001b[0m     )\n\u001b[1;32m     58\u001b[0m \u001b[38;5;28;01melif\u001b[39;00m \u001b[38;5;129;01mnot\u001b[39;00m re\u001b[38;5;241m.\u001b[39msearch(\n\u001b[1;32m     59\u001b[0m     \u001b[38;5;124mr\u001b[39m\u001b[38;5;124m\"\u001b[39m\u001b[38;5;124m[\u001b[39m\u001b[38;5;124m\\\u001b[39m\u001b[38;5;124ms]*Action\u001b[39m\u001b[38;5;124m\\\u001b[39m\u001b[38;5;124ms*\u001b[39m\u001b[38;5;124m\\\u001b[39m\u001b[38;5;124md*\u001b[39m\u001b[38;5;124m\\\u001b[39m\u001b[38;5;124ms*Input\u001b[39m\u001b[38;5;124m\\\u001b[39m\u001b[38;5;124ms*\u001b[39m\u001b[38;5;124m\\\u001b[39m\u001b[38;5;124md*\u001b[39m\u001b[38;5;124m\\\u001b[39m\u001b[38;5;124ms*:[\u001b[39m\u001b[38;5;124m\\\u001b[39m\u001b[38;5;124ms]*(.*)\u001b[39m\u001b[38;5;124m\"\u001b[39m, text, re\u001b[38;5;241m.\u001b[39mDOTALL\n\u001b[1;32m     60\u001b[0m ):\n\u001b[1;32m     61\u001b[0m     \u001b[38;5;28;01mraise\u001b[39;00m OutputParserException(\n\u001b[1;32m     62\u001b[0m         \u001b[38;5;124mf\u001b[39m\u001b[38;5;124m\"\u001b[39m\u001b[38;5;124mCould not parse LLM output: `\u001b[39m\u001b[38;5;132;01m{\u001b[39;00mtext\u001b[38;5;132;01m}\u001b[39;00m\u001b[38;5;124m`\u001b[39m\u001b[38;5;124m\"\u001b[39m,\n\u001b[1;32m     63\u001b[0m         observation\u001b[38;5;241m=\u001b[39mMISSING_ACTION_INPUT_AFTER_ACTION_ERROR_MESSAGE,\n\u001b[1;32m     64\u001b[0m         llm_output\u001b[38;5;241m=\u001b[39mtext,\n\u001b[1;32m     65\u001b[0m         send_to_llm\u001b[38;5;241m=\u001b[39m\u001b[38;5;28;01mTrue\u001b[39;00m,\n\u001b[1;32m     66\u001b[0m     )\n",
            "\u001b[0;31mOutputParserException\u001b[0m: Could not parse LLM output: `I need to use the `python_repl_ast` tool to execute the action.`"
          ]
        }
      ],
      "execution_count": 50,
      "metadata": {
        "jupyter": {
          "source_hidden": false,
          "outputs_hidden": true
        },
        "nteract": {
          "transient": {
            "deleting": false
          }
        },
        "gather": {
          "logged": 1695001340521
        }
      }
    },
    {
      "cell_type": "markdown",
      "source": [
        "### Create Python Agent with PythonREPLTool (Basic REPL Tool works but complex queries fails)\n"
      ],
      "metadata": {
        "nteract": {
          "transient": {
            "deleting": false
          }
        }
      }
    },
    {
      "cell_type": "code",
      "source": [
        "from langchain.agents.agent_toolkits import create_python_agent\n",
        "from langchain.tools.python.tool import PythonREPLTool\n"
      ],
      "outputs": [],
      "execution_count": 7,
      "metadata": {
        "jupyter": {
          "source_hidden": false,
          "outputs_hidden": false
        },
        "nteract": {
          "transient": {
            "deleting": false
          }
        },
        "gather": {
          "logged": 1695403150575
        }
      }
    },
    {
      "cell_type": "code",
      "source": [
        "print(llm)"
      ],
      "outputs": [
        {
          "output_type": "stream",
          "name": "stdout",
          "text": "\u001b[1mOpenAIChat\u001b[0m\nParams: {'model_name': 'text-embedding-ada-002', 'engine': 'deploy-gpt35turbo16k', 'temperature': 0}\n"
        }
      ],
      "execution_count": 11,
      "metadata": {
        "jupyter": {
          "source_hidden": false,
          "outputs_hidden": false
        },
        "nteract": {
          "transient": {
            "deleting": false
          }
        },
        "gather": {
          "logged": 1695054944952
        }
      }
    },
    {
      "cell_type": "code",
      "source": [
        "agent_exec = create_python_agent(llm=llm,tool=PythonREPLTool(),verbose=True)"
      ],
      "outputs": [],
      "execution_count": 12,
      "metadata": {
        "jupyter": {
          "source_hidden": false,
          "outputs_hidden": false
        },
        "nteract": {
          "transient": {
            "deleting": false
          }
        },
        "gather": {
          "logged": 1695054958245
        }
      }
    },
    {
      "cell_type": "code",
      "source": [
        "import numpy\n",
        "agent_exec.run(f\"column names of the dataframe 'df'\".format(assets_df))"
      ],
      "outputs": [
        {
          "output_type": "stream",
          "name": "stdout",
          "text": "\n\n\u001b[1m> Entering new AgentExecutor chain...\u001b[0m\n\u001b[32;1m\u001b[1;3mI need to access the dataframe 'df' and retrieve its column names.\nAction: Python_REPL\nAction Input: df.columns\u001b[0m\nObservation: \u001b[36;1m\u001b[1;3mNameError(\"name 'df' is not defined\")\u001b[0m\nThought:\u001b[32;1m\u001b[1;3mI need to define the dataframe 'df' before I can access its column names.\nAction: Python_REPL\nAction Input: df = pd.DataFrame()\u001b[0m\nObservation: \u001b[36;1m\u001b[1;3mNameError(\"name 'pd' is not defined\")\u001b[0m\nThought:\u001b[32;1m\u001b[1;3mI need to import the pandas library before I can create a dataframe.\nAction: Python_REPL\nAction Input: import pandas as pd\u001b[0m\nObservation: \u001b[36;1m\u001b[1;3m\u001b[0m\nThought:\u001b[32;1m\u001b[1;3mI have imported the pandas library as 'pd'. Now I can create a dataframe.\nAction: Python_REPL\nAction Input: df = pd.DataFrame()\u001b[0m\nObservation: \u001b[36;1m\u001b[1;3m\u001b[0m\nThought:\u001b[32;1m\u001b[1;3mI have created the dataframe 'df'. Now I can access its column names.\nAction: Python_REPL\nAction Input: df.columns\u001b[0m\nObservation: \u001b[36;1m\u001b[1;3m\u001b[0m\nThought:\u001b[32;1m\u001b[1;3mI now know the final answer\nFinal Answer: []\u001b[0m\n\n\u001b[1m> Finished chain.\u001b[0m\n"
        },
        {
          "output_type": "execute_result",
          "execution_count": 24,
          "data": {
            "text/plain": "'[]'"
          },
          "metadata": {}
        }
      ],
      "execution_count": 24,
      "metadata": {
        "jupyter": {
          "source_hidden": false,
          "outputs_hidden": false
        },
        "nteract": {
          "transient": {
            "deleting": false
          }
        },
        "gather": {
          "logged": 1695055802911
        }
      }
    },
    {
      "cell_type": "markdown",
      "source": [
        "### plan and execute agents testing (Not tested Yet)"
      ],
      "metadata": {
        "nteract": {
          "transient": {
            "deleting": false
          }
        }
      }
    },
    {
      "cell_type": "code",
      "source": [
        "from langchain_experimental.plan_and_execute import PlanAndExecute, load_agent_executor, load_chat_planner\n"
      ],
      "outputs": [],
      "execution_count": 1,
      "metadata": {
        "jupyter": {
          "source_hidden": false,
          "outputs_hidden": false
        },
        "nteract": {
          "transient": {
            "deleting": false
          }
        },
        "gather": {
          "logged": 1695067885715
        }
      }
    },
    {
      "cell_type": "code",
      "source": [],
      "outputs": [],
      "execution_count": null,
      "metadata": {
        "jupyter": {
          "source_hidden": false,
          "outputs_hidden": false
        },
        "nteract": {
          "transient": {
            "deleting": false
          }
        }
      }
    },
    {
      "cell_type": "markdown",
      "source": [
        "#### Custom Agent for passing complex Query (WIP)"
      ],
      "metadata": {
        "nteract": {
          "transient": {
            "deleting": false
          }
        }
      }
    },
    {
      "cell_type": "code",
      "source": [
        "from langchain.agents.agent_toolkits import create_python_agent\n",
        "from langchain.tools.python.tool import PythonREPLTool,PythonAstREPLTool\n",
        "from langchain.memory import ConversationBufferMemory\n"
      ],
      "outputs": [],
      "execution_count": 10,
      "metadata": {
        "jupyter": {
          "source_hidden": false,
          "outputs_hidden": false
        },
        "nteract": {
          "transient": {
            "deleting": false
          }
        },
        "gather": {
          "logged": 1695403192618
        }
      }
    },
    {
      "cell_type": "code",
      "source": [
        "python = PythonAstREPLTool(locals={\"assets_df\": assets_df}) # set access of python_repl tool to the dataframe\n",
        "assets_df_columns = assets_df.columns.to_list() # print column names of df"
      ],
      "outputs": [],
      "execution_count": 55,
      "metadata": {
        "jupyter": {
          "source_hidden": false,
          "outputs_hidden": false
        },
        "nteract": {
          "transient": {
            "deleting": false
          }
        },
        "gather": {
          "logged": 1695407397216
        }
      }
    },
    {
      "cell_type": "code",
      "source": [
        "from langchain.agents import initialize_agent, Tool\n",
        "from langchain.agents import AgentType\n",
        "\n",
        "tools = [\n",
        "\n",
        "    Tool(\n",
        "        name = \"Investor Client Asset Data\",\n",
        "        func=python.run,\n",
        "        description = f\"\"\"\n",
        "        Useful for when you need to answer questions about investor client asset portfolio data stored in pandas dataframe 'assets_df'. \n",
        "        Run python pandas operations on 'assets_df' to help you get the right answer.\n",
        "        'assets_df' has the following columns: {assets_df_columns}\n",
        "        \n",
        "        <user>: what is the AUM of client 10?\n",
        "        <assistant>:  assets_df[assets_df['investor_id'] == 10]['current_value'].sum()\n",
        "        <assistant>: client or investor 1 has total AUM n.  \n",
        "\n",
        "        <user>: what is the AUM of client 10 by asset type?\n",
        "        <assistant>:  assets_df[assets_df['investor_id'] == 10].groupby(\"asset_type\")['current_value'].sum()\n",
        "        <assistant>: client or investor 1 has total AUM by asset type n.   \n",
        "\n",
        "        <user>: what is the AUM of client 10 by asset type and year?\n",
        "        <assistant>:  assets_df[assets_df['investor_id'] == 5].groupby(['asset_type', assets_df['purchase_date'].dt.year])['current_value'].sum()\n",
        "        <assistant>: client or investor 1 has total AUM by asset type and year n.            \n",
        "        \"\"\"\n",
        "    )\n",
        "]\n"
      ],
      "outputs": [],
      "execution_count": 56,
      "metadata": {
        "jupyter": {
          "source_hidden": false,
          "outputs_hidden": false
        },
        "nteract": {
          "transient": {
            "deleting": false
          }
        },
        "gather": {
          "logged": 1695407402114
        }
      }
    },
    {
      "cell_type": "code",
      "source": [
        "#assets_df[assets_df['investor_id'] == 10].groupby(\"asset_type\")['current_value'].sum()"
      ],
      "outputs": [
        {
          "output_type": "execute_result",
          "execution_count": 20,
          "data": {
            "text/plain": "asset_type\nbonds          1420.09\nmutual fund    6318.62\nName: current_value, dtype: float64"
          },
          "metadata": {}
        }
      ],
      "execution_count": 20,
      "metadata": {
        "jupyter": {
          "source_hidden": false,
          "outputs_hidden": false
        },
        "nteract": {
          "transient": {
            "deleting": false
          }
        },
        "gather": {
          "logged": 1695404710755
        }
      }
    },
    {
      "cell_type": "code",
      "source": [
        "\n",
        "# change the value of the prefix argument in the initialize_agent function. This will overwrite the default prompt template of the zero shot agent type\n",
        "## Added first\n",
        "agent_kwargs = {'prefix': f'You are Asset Under Management Expert. You are tasked to assist on questions related to client or investor AUM. You have access to the following tools:'}\n",
        "### Added second\n",
        "\n",
        "#memory = ConversationBufferMemory(memory_key=\"chat_history\")\n",
        "\n",
        "\n",
        "# initialize the LLM agent\n",
        "agent = initialize_agent(tools, \n",
        "                         llm, \n",
        "                         agent=AgentType.ZERO_SHOT_REACT_DESCRIPTION, \n",
        "                         verbose=True,\n",
        "                        # memory=memory, \n",
        "                         agent_kwargs=agent_kwargs\n",
        "                         )"
      ],
      "outputs": [],
      "execution_count": 76,
      "metadata": {
        "jupyter": {
          "source_hidden": false,
          "outputs_hidden": false
        },
        "nteract": {
          "transient": {
            "deleting": false
          }
        },
        "gather": {
          "logged": 1695409969494
        }
      }
    },
    {
      "cell_type": "code",
      "source": [
        "query0=\"Hi, I am AK.\"\n",
        "query1=\" what is the AUM of client 5\"\n",
        "query2=\" what is the AUM of Investor 10 by asset type\"\n",
        "query3=\" what is the AUM of client 5 by asset type and year\"\n",
        "query4=\"which are the top 5 clients for bonds.Show their AUM for bonds\"\n",
        "query5=\"what is the AUM of Investor 6 for 2019 in Bonds\"\n"
      ],
      "outputs": [],
      "execution_count": 84,
      "metadata": {
        "jupyter": {
          "source_hidden": false,
          "outputs_hidden": false
        },
        "nteract": {
          "transient": {
            "deleting": false
          }
        },
        "gather": {
          "logged": 1695410151195
        }
      }
    },
    {
      "cell_type": "code",
      "source": [
        "agent.run(query0) # OutputParserException: Could not parse LLM output: `I need to use the Investor Client Asset Data tool to assist AK.`"
      ],
      "outputs": [],
      "execution_count": null,
      "metadata": {
        "jupyter": {
          "source_hidden": false,
          "outputs_hidden": false
        },
        "nteract": {
          "transient": {
            "deleting": false
          }
        },
        "gather": {
          "logged": 1695411065247
        }
      }
    },
    {
      "cell_type": "code",
      "source": [
        "agent.run(\"what is the AUM of Investor 6 by asset type\")"
      ],
      "outputs": [
        {
          "output_type": "stream",
          "name": "stdout",
          "text": "\n\n\u001b[1m> Entering new AgentExecutor chain...\u001b[0m\n\u001b[32;1m\u001b[1;3mI need to filter the data for Investor 6 and then group it by asset type to calculate the AUM.\nAction: Investor Client Asset Data\nAction Input: assets_df[assets_df['investor_id'] == 6].groupby(\"asset_type\")['current_value'].sum()\u001b[0m\nObservation: \u001b[36;1m\u001b[1;3masset_type\nbonds           3461.86\nmutual fund    23360.93\nName: current_value, dtype: float64\u001b[0m\nThought:\u001b[32;1m\u001b[1;3mThe AUM of Investor 6 by asset type is as follows:\n- Bonds: $3,461.86\n- Mutual Fund: $23,360.93\nThought: I now know the final answer\nFinal Answer: The AUM of Investor 6 by asset type is $3,461.86 for bonds and $23,360.93 for mutual funds.\u001b[0m\n\n\u001b[1m> Finished chain.\u001b[0m\n"
        },
        {
          "output_type": "execute_result",
          "execution_count": 72,
          "data": {
            "text/plain": "'The AUM of Investor 6 by asset type is $3,461.86 for bonds and $23,360.93 for mutual funds.'"
          },
          "metadata": {}
        }
      ],
      "execution_count": 72,
      "metadata": {
        "jupyter": {
          "source_hidden": false,
          "outputs_hidden": false
        },
        "nteract": {
          "transient": {
            "deleting": false
          }
        },
        "gather": {
          "logged": 1695409758016
        }
      }
    },
    {
      "cell_type": "code",
      "source": [
        "agent.run(\"what is the AUM of Investor 6 by asset type and year\")"
      ],
      "outputs": [
        {
          "output_type": "stream",
          "name": "stdout",
          "text": "\n\n\u001b[1m> Entering new AgentExecutor chain...\u001b[0m\n\u001b[32;1m\u001b[1;3mI need to filter the data for Investor 6 and group it by asset type and year.\nAction: Investor Client Asset Data\nAction Input: assets_df[assets_df['investor_id'] == 6].groupby(['asset_type', assets_df['purchase_date'].dt.year])['current_value'].sum()\u001b[0m\nObservation: \u001b[36;1m\u001b[1;3masset_type   purchase_date\nbonds        2019              3461.86\nmutual fund  2019             23360.93\nName: current_value, dtype: float64\u001b[0m\nThought:\u001b[32;1m\u001b[1;3mI now know the final answer\nFinal Answer: The AUM of Investor 6 by asset type and year is as follows:\n- Bonds in 2019: $3,461.86\n- Mutual Fund in 2019: $23,360.93\u001b[0m\n\n\u001b[1m> Finished chain.\u001b[0m\n"
        },
        {
          "output_type": "execute_result",
          "execution_count": 74,
          "data": {
            "text/plain": "'The AUM of Investor 6 by asset type and year is as follows:\\n- Bonds in 2019: $3,461.86\\n- Mutual Fund in 2019: $23,360.93'"
          },
          "metadata": {}
        }
      ],
      "execution_count": 74,
      "metadata": {
        "jupyter": {
          "source_hidden": false,
          "outputs_hidden": false
        },
        "nteract": {
          "transient": {
            "deleting": false
          }
        },
        "gather": {
          "logged": 1695409806526
        }
      }
    },
    {
      "cell_type": "code",
      "source": [
        "agent.run(\"what is the AUM of Investor 6 for Bonds in 2019\")"
      ],
      "outputs": [
        {
          "output_type": "stream",
          "name": "stdout",
          "text": "\n\n\u001b[1m> Entering new AgentExecutor chain...\u001b[0m\n\u001b[32;1m\u001b[1;3mI need to filter the data for Investor 6, Bonds, and the year 2019. Then I can calculate the AUM by summing the current values.\nAction: Investor Client Asset Data\nAction Input: assets_df[assets_df['investor_id'] == 6]\u001b[0m\nObservation: \u001b[36;1m\u001b[1;3m    asset_id  investor_id   asset_type asset_name purchase_date  \\\n29        30            6  mutual fund   Asset 30    2019-03-29   \n57        58            6  mutual fund   Asset 58    2019-06-21   \n96        97            6        bonds   Asset 97    2019-10-16   \n99       100            6  mutual fund  Asset 100    2019-10-25   \n\n    purchase_price  current_value currency  \n29         4576.15        5800.11      USD  \n57         7893.73        9377.47      USD  \n96         1038.08        3461.86      USD  \n99         1509.40        8183.35      USD  \u001b[0m\nThought:\u001b[32;1m\u001b[1;3mI need to filter the data for Investor 6, Bonds, and the year 2019. Then I can calculate the AUM by summing the current values.\nAction: Investor Client Asset Data\nAction Input: assets_df[assets_df['investor_id'] == 6]\u001b[0m\nObservation: \u001b[36;1m\u001b[1;3m    asset_id  investor_id   asset_type asset_name purchase_date  \\\n29        30            6  mutual fund   Asset 30    2019-03-29   \n57        58            6  mutual fund   Asset 58    2019-06-21   \n96        97            6        bonds   Asset 97    2019-10-16   \n99       100            6  mutual fund  Asset 100    2019-10-25   \n\n    purchase_price  current_value currency  \n29         4576.15        5800.11      USD  \n57         7893.73        9377.47      USD  \n96         1038.08        3461.86      USD  \n99         1509.40        8183.35      USD  \u001b[0m\nThought:\u001b[32;1m\u001b[1;3mI need to filter the data for Investor 6, Bonds, and the year 2019. Then I can calculate the AUM by summing the current values.\nAction: Investor Client Asset Data\nAction Input: assets_df[(assets_df['investor_id'] == 6) & (assets_df['asset_type'] == 'bonds') & (assets_df['purchase_date'].dt.year == 2019)]\u001b[0m\nObservation: \u001b[36;1m\u001b[1;3m    asset_id  investor_id asset_type asset_name purchase_date  purchase_price  \\\n96        97            6      bonds   Asset 97    2019-10-16         1038.08   \n\n    current_value currency  \n96        3461.86      USD  \u001b[0m\nThought:\u001b[32;1m\u001b[1;3mI have filtered the data for Investor 6, Bonds, and the year 2019. Now I can calculate the AUM by summing the current values.\nAction: Investor Client Asset Data\nAction Input: assets_df[(assets_df['investor_id'] == 6) & (assets_df['asset_type'] == 'bonds') & (assets_df['purchase_date'].dt.year == 2019)]['current_value'].sum()\u001b[0m\nObservation: \u001b[36;1m\u001b[1;3m3461.86\u001b[0m\nThought:\u001b[32;1m\u001b[1;3mI have calculated the AUM of Investor 6 for Bonds in 2019, which is 3461.86 USD.\nFinal Answer: 3461.86 USD\u001b[0m\n\n\u001b[1m> Finished chain.\u001b[0m\n"
        },
        {
          "output_type": "execute_result",
          "execution_count": 95,
          "data": {
            "text/plain": "'3461.86 USD'"
          },
          "metadata": {}
        }
      ],
      "execution_count": 95,
      "metadata": {
        "jupyter": {
          "source_hidden": false,
          "outputs_hidden": false
        },
        "nteract": {
          "transient": {
            "deleting": false
          }
        },
        "gather": {
          "logged": 1695410486879
        }
      }
    }
  ],
  "metadata": {
    "kernelspec": {
      "name": "python310-sdkv2",
      "language": "python",
      "display_name": "Python 3.10 - SDK v2"
    },
    "language_info": {
      "name": "python",
      "version": "3.10.11",
      "mimetype": "text/x-python",
      "codemirror_mode": {
        "name": "ipython",
        "version": 3
      },
      "pygments_lexer": "ipython3",
      "nbconvert_exporter": "python",
      "file_extension": ".py"
    },
    "microsoft": {
      "ms_spell_check": {
        "ms_spell_check_language": "en"
      },
      "host": {
        "AzureML": {
          "notebookHasBeenCompleted": true
        }
      }
    },
    "kernel_info": {
      "name": "python310-sdkv2"
    },
    "nteract": {
      "version": "nteract-front-end@1.0.0"
    }
  },
  "nbformat": 4,
  "nbformat_minor": 2
}