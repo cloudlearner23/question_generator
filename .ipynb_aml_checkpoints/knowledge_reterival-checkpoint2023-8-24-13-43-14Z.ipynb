{
  "cells": [
    {
      "cell_type": "markdown",
      "source": [
        "###### Setting up Environment variables"
      ],
      "metadata": {
        "nteract": {
          "transient": {
            "deleting": false
          }
        }
      }
    },
    {
      "cell_type": "code",
      "source": [
        "import sys\n",
        "sys.path.append('/anaconda/envs/azureml_py310_sdkv2/lib/python3.10/site-packages/')\n",
        "sys.path.append('./')\n",
        "print(sys.version)"
      ],
      "outputs": [
        {
          "output_type": "stream",
          "name": "stdout",
          "text": "3.10.11 (main, May 16 2023, 00:28:57) [GCC 11.2.0]\n"
        }
      ],
      "execution_count": 1,
      "metadata": {
        "jupyter": {
          "source_hidden": false,
          "outputs_hidden": false
        },
        "nteract": {
          "transient": {
            "deleting": false
          }
        },
        "gather": {
          "logged": 1695423603003
        }
      }
    },
    {
      "cell_type": "code",
      "source": [
        "###########import necessary keys \n",
        "\n",
        "import os\n",
        "#import openai\n",
        "from secret import OPENAI_API_TYPE,OPENAI_API_KEY,OPENAI_API_BASE,HUGGINGFACEHUB_API_TOKEN\n",
        "from langchain.llms import AzureOpenAI\n",
        "from langchain.llms import OpenAI\n",
        "from langchain.llms import OpenAIChat\n",
        "from langchain.chat_models import AzureChatOpenAI\n",
        "from dotenv import load_dotenv\n",
        "\n",
        "load_dotenv()\n",
        "\n",
        "# openai.api_version = \"2023-07-01-preview\"\n",
        "\n",
        "os.environ['OPENAI_API_TYPE']=OPENAI_API_TYPE\n",
        "os.environ['OPENAI_API_BASE']=OPENAI_API_BASE\n",
        "os.environ['OPENAI_API_KEY'] = OPENAI_API_KEY\n",
        "os.environ['HUGGINGFACEHUB_API_TOKEN'] = HUGGINGFACEHUB_API_TOKEN\n",
        "\n",
        "\n",
        "\n",
        "\n"
      ],
      "outputs": [],
      "execution_count": 2,
      "metadata": {
        "gather": {
          "logged": 1695423610147
        }
      }
    },
    {
      "cell_type": "markdown",
      "source": [
        "###### Set & Identify right LLM Model & Langchain Module "
      ],
      "metadata": {
        "nteract": {
          "transient": {
            "deleting": false
          }
        }
      }
    },
    {
      "cell_type": "code",
      "source": [
        "##### Unstable connectivity between langchain and openai. Better to test which link is working an any given point in time. \n",
        "\n",
        "os.environ['OPENAI_API_VERSION'] = \"2023-08-01-preview\" #\"2023-05-15\" #\"2022-12-01\"\n",
        "deployment_list =[\"deploy-name-embed\",\"deploy-gpt35turbo16k\", \"datachatdeploy\"]\n",
        "model_list=[\"text-embedding-ada-002\",\"gpt-35-turbo-16k\", \"text-davinci-003\",\"gpt-35-turbo\"]\n",
        "\n",
        "for deploy_name in deployment_list:\n",
        "    for mod_name in model_list:\n",
        "        try:\n",
        "            llm = AzureOpenAI(deployment_name=deploy_name,model_name=mod_name,temperature=0)\n",
        "            print(llm)\n",
        "            if llm(\"what is esg?\"):\n",
        "                print(\"Successful : AzureOpenAI\")\n",
        "                break\n",
        "        except Exception as e:\n",
        "            print(f\"Error with AzureOpenAI:{e}\\n\" )\n",
        "        \n",
        "        try:\n",
        "            llm = AzureChatOpenAI(deployment_name=deploy_name,model_name=mod_name,temperature=0)\n",
        "            print(llm)\n",
        "            if llm(\"what is esg?\"):\n",
        "                print(\"Successful : AzureOpenAIChat\")\n",
        "                break\n",
        "        except Exception as e:\n",
        "            print(f\"Error with AzureOpenAIChat:{e}\\n\" )\n",
        "        \n",
        "        try:\n",
        "            llm= OpenAI(engine=deploy_name,model_name=mod_name,temperature=0)\n",
        "            print(llm)\n",
        "            if llm(\"what is esg?\"):\n",
        "                print(\"Successful : OpenAI\")\n",
        "                break\n",
        "        except Exception as e:\n",
        "            print(f\"Error with OpenAI:{e}\\n\" )\n",
        "\n",
        "        try:\n",
        "            llm= OpenAIChat(engine=deploy_name,model_name=mod_name,temperature=0)\n",
        "            print(llm)\n",
        "            if llm(\"what is esg?\"):\n",
        "                print(\"Successful : OpenAIChat\")\n",
        "                break\n",
        "        except Exception as e:\n",
        "            print(f\"Error with OpenAIChat:{e}\\n\" )\n",
        "\n",
        "\n"
      ],
      "outputs": [
        {
          "output_type": "stream",
          "name": "stdout",
          "text": "\u001b[1mAzureOpenAI\u001b[0m\nParams: {'deployment_name': 'deploy-name-embed', 'model_name': 'text-embedding-ada-002', 'temperature': 0.0, 'max_tokens': 256, 'top_p': 1, 'frequency_penalty': 0, 'presence_penalty': 0, 'n': 1, 'request_timeout': None, 'logit_bias': {}}\nError with AzureOpenAI:The completion operation does not work with the specified model, text-embedding-ada-002. Please choose different model and try again. You can learn more about which models can be used with each operation here: https://go.microsoft.com/fwlink/?linkid=2197993.\n\ncache=None verbose=False callbacks=None callback_manager=None tags=None metadata=None client=<class 'openai.api_resources.chat_completion.ChatCompletion'> model_name='text-embedding-ada-002' temperature=0.0 model_kwargs={} openai_api_key='ff0b3bcd1b9843e2bf0c172b531cb52a' openai_api_base='https://ws-openai-ml-aoai.openai.azure.com/' openai_organization='' openai_proxy='' request_timeout=None max_retries=6 streaming=False n=1 max_tokens=None tiktoken_model_name=None deployment_name='deploy-name-embed' model_version='' openai_api_type='azure' openai_api_version='2023-08-01-preview'\nError with AzureOpenAIChat:Got unknown type w\n\n\u001b[1mOpenAI\u001b[0m\nParams: {'model_name': 'text-embedding-ada-002', 'temperature': 0.0, 'max_tokens': 256, 'top_p': 1, 'frequency_penalty': 0, 'presence_penalty': 0, 'n': 1, 'request_timeout': None, 'logit_bias': {}, 'engine': 'deploy-name-embed'}\nError with OpenAI:The completion operation does not work with the specified model, text-embedding-ada-002. Please choose different model and try again. You can learn more about which models can be used with each operation here: https://go.microsoft.com/fwlink/?linkid=2197993.\n\n\u001b[1mOpenAIChat\u001b[0m\nParams: {'model_name': 'text-embedding-ada-002', 'engine': 'deploy-name-embed', 'temperature': 0}\nError with OpenAIChat:The chatCompletion operation does not work with the specified model, text-embedding-ada-002. Please choose different model and try again. You can learn more about which models can be used with each operation here: https://go.microsoft.com/fwlink/?linkid=2197993.\n\n\u001b[1mAzureOpenAI\u001b[0m\nParams: {'deployment_name': 'deploy-name-embed', 'model_name': 'gpt-35-turbo-16k', 'temperature': 0.0, 'max_tokens': 256, 'top_p': 1, 'frequency_penalty': 0, 'presence_penalty': 0, 'n': 1, 'request_timeout': None, 'logit_bias': {}}\nError with AzureOpenAI:The completion operation does not work with the specified model, text-embedding-ada-002. Please choose different model and try again. You can learn more about which models can be used with each operation here: https://go.microsoft.com/fwlink/?linkid=2197993.\n\ncache=None verbose=False callbacks=None callback_manager=None tags=None metadata=None client=<class 'openai.api_resources.chat_completion.ChatCompletion'> model_name='gpt-35-turbo-16k' temperature=0.0 model_kwargs={} openai_api_key='ff0b3bcd1b9843e2bf0c172b531cb52a' openai_api_base='https://ws-openai-ml-aoai.openai.azure.com/' openai_organization='' openai_proxy='' request_timeout=None max_retries=6 streaming=False n=1 max_tokens=None tiktoken_model_name=None deployment_name='deploy-name-embed' model_version='' openai_api_type='azure' openai_api_version='2023-08-01-preview'\nError with AzureOpenAIChat:Got unknown type w\n\n\u001b[1mOpenAI\u001b[0m\nParams: {'model_name': 'gpt-35-turbo-16k', 'temperature': 0.0, 'max_tokens': 256, 'top_p': 1, 'frequency_penalty': 0, 'presence_penalty': 0, 'n': 1, 'request_timeout': None, 'logit_bias': {}, 'engine': 'deploy-name-embed'}\nError with OpenAI:The completion operation does not work with the specified model, text-embedding-ada-002. Please choose different model and try again. You can learn more about which models can be used with each operation here: https://go.microsoft.com/fwlink/?linkid=2197993.\n\n\u001b[1mOpenAIChat\u001b[0m\nParams: {'model_name': 'gpt-35-turbo-16k', 'engine': 'deploy-name-embed', 'temperature': 0}\nError with OpenAIChat:The chatCompletion operation does not work with the specified model, text-embedding-ada-002. Please choose different model and try again. You can learn more about which models can be used with each operation here: https://go.microsoft.com/fwlink/?linkid=2197993.\n\n\u001b[1mAzureOpenAI\u001b[0m\nParams: {'deployment_name': 'deploy-name-embed', 'model_name': 'text-davinci-003', 'temperature': 0.0, 'max_tokens': 256, 'top_p': 1, 'frequency_penalty': 0, 'presence_penalty': 0, 'n': 1, 'request_timeout': None, 'logit_bias': {}}\nError with AzureOpenAI:The completion operation does not work with the specified model, text-embedding-ada-002. Please choose different model and try again. You can learn more about which models can be used with each operation here: https://go.microsoft.com/fwlink/?linkid=2197993.\n\ncache=None verbose=False callbacks=None callback_manager=None tags=None metadata=None client=<class 'openai.api_resources.chat_completion.ChatCompletion'> model_name='text-davinci-003' temperature=0.0 model_kwargs={} openai_api_key='ff0b3bcd1b9843e2bf0c172b531cb52a' openai_api_base='https://ws-openai-ml-aoai.openai.azure.com/' openai_organization='' openai_proxy='' request_timeout=None max_retries=6 streaming=False n=1 max_tokens=None tiktoken_model_name=None deployment_name='deploy-name-embed' model_version='' openai_api_type='azure' openai_api_version='2023-08-01-preview'\nError with AzureOpenAIChat:Got unknown type w\n\n\u001b[1mOpenAI\u001b[0m\nParams: {'model_name': 'text-davinci-003', 'temperature': 0.0, 'max_tokens': 256, 'top_p': 1, 'frequency_penalty': 0, 'presence_penalty': 0, 'n': 1, 'request_timeout': None, 'logit_bias': {}, 'engine': 'deploy-name-embed'}\nError with OpenAI:The completion operation does not work with the specified model, text-embedding-ada-002. Please choose different model and try again. You can learn more about which models can be used with each operation here: https://go.microsoft.com/fwlink/?linkid=2197993.\n\n\u001b[1mOpenAIChat\u001b[0m\nParams: {'model_name': 'text-davinci-003', 'engine': 'deploy-name-embed', 'temperature': 0}\nError with OpenAIChat:The chatCompletion operation does not work with the specified model, text-embedding-ada-002. Please choose different model and try again. You can learn more about which models can be used with each operation here: https://go.microsoft.com/fwlink/?linkid=2197993.\n\n\u001b[1mAzureOpenAI\u001b[0m\nParams: {'deployment_name': 'deploy-name-embed', 'model_name': 'gpt-35-turbo', 'temperature': 0.0, 'max_tokens': 256, 'top_p': 1, 'frequency_penalty': 0, 'presence_penalty': 0, 'n': 1, 'request_timeout': None, 'logit_bias': {}}\nError with AzureOpenAI:The completion operation does not work with the specified model, text-embedding-ada-002. Please choose different model and try again. You can learn more about which models can be used with each operation here: https://go.microsoft.com/fwlink/?linkid=2197993.\n\ncache=None verbose=False callbacks=None callback_manager=None tags=None metadata=None client=<class 'openai.api_resources.chat_completion.ChatCompletion'> model_name='gpt-35-turbo' temperature=0.0 model_kwargs={} openai_api_key='ff0b3bcd1b9843e2bf0c172b531cb52a' openai_api_base='https://ws-openai-ml-aoai.openai.azure.com/' openai_organization='' openai_proxy='' request_timeout=None max_retries=6 streaming=False n=1 max_tokens=None tiktoken_model_name=None deployment_name='deploy-name-embed' model_version='' openai_api_type='azure' openai_api_version='2023-08-01-preview'\nError with AzureOpenAIChat:Got unknown type w\n\n\u001b[1mOpenAI\u001b[0m\nParams: {'model_name': 'gpt-35-turbo', 'temperature': 0.0, 'max_tokens': 256, 'top_p': 1, 'frequency_penalty': 0, 'presence_penalty': 0, 'n': 1, 'request_timeout': None, 'logit_bias': {}, 'engine': 'deploy-name-embed'}\nError with OpenAI:The completion operation does not work with the specified model, text-embedding-ada-002. Please choose different model and try again. You can learn more about which models can be used with each operation here: https://go.microsoft.com/fwlink/?linkid=2197993.\n\n\u001b[1mOpenAIChat\u001b[0m\nParams: {'model_name': 'gpt-35-turbo', 'engine': 'deploy-name-embed', 'temperature': 0}\nError with OpenAIChat:The chatCompletion operation does not work with the specified model, text-embedding-ada-002. Please choose different model and try again. You can learn more about which models can be used with each operation here: https://go.microsoft.com/fwlink/?linkid=2197993.\n\n\u001b[1mAzureOpenAI\u001b[0m\nParams: {'deployment_name': 'deploy-gpt35turbo16k', 'model_name': 'text-embedding-ada-002', 'temperature': 0.0, 'max_tokens': 256, 'top_p': 1, 'frequency_penalty': 0, 'presence_penalty': 0, 'n': 1, 'request_timeout': None, 'logit_bias': {}}\nError with AzureOpenAI:The completion operation does not work with the specified model, gpt-35-turbo-16k. Please choose different model and try again. You can learn more about which models can be used with each operation here: https://go.microsoft.com/fwlink/?linkid=2197993.\n\ncache=None verbose=False callbacks=None callback_manager=None tags=None metadata=None client=<class 'openai.api_resources.chat_completion.ChatCompletion'> model_name='text-embedding-ada-002' temperature=0.0 model_kwargs={} openai_api_key='ff0b3bcd1b9843e2bf0c172b531cb52a' openai_api_base='https://ws-openai-ml-aoai.openai.azure.com/' openai_organization='' openai_proxy='' request_timeout=None max_retries=6 streaming=False n=1 max_tokens=None tiktoken_model_name=None deployment_name='deploy-gpt35turbo16k' model_version='' openai_api_type='azure' openai_api_version='2023-08-01-preview'\nError with AzureOpenAIChat:Got unknown type w\n\n\u001b[1mOpenAI\u001b[0m\nParams: {'model_name': 'text-embedding-ada-002', 'temperature': 0.0, 'max_tokens': 256, 'top_p': 1, 'frequency_penalty': 0, 'presence_penalty': 0, 'n': 1, 'request_timeout': None, 'logit_bias': {}, 'engine': 'deploy-gpt35turbo16k'}\nError with OpenAI:The completion operation does not work with the specified model, gpt-35-turbo-16k. Please choose different model and try again. You can learn more about which models can be used with each operation here: https://go.microsoft.com/fwlink/?linkid=2197993.\n\n\u001b[1mOpenAIChat\u001b[0m\nParams: {'model_name': 'text-embedding-ada-002', 'engine': 'deploy-gpt35turbo16k', 'temperature': 0}\nSuccessful : OpenAIChat\n\u001b[1mAzureOpenAI\u001b[0m\nParams: {'deployment_name': 'datachatdeploy', 'model_name': 'text-embedding-ada-002', 'temperature': 0.0, 'max_tokens': 256, 'top_p': 1, 'frequency_penalty': 0, 'presence_penalty': 0, 'n': 1, 'request_timeout': None, 'logit_bias': {}}\nError with AzureOpenAI:The completion operation does not work with the specified model, gpt-35-turbo. Please choose different model and try again. You can learn more about which models can be used with each operation here: https://go.microsoft.com/fwlink/?linkid=2197993.\n\ncache=None verbose=False callbacks=None callback_manager=None tags=None metadata=None client=<class 'openai.api_resources.chat_completion.ChatCompletion'> model_name='text-embedding-ada-002' temperature=0.0 model_kwargs={} openai_api_key='ff0b3bcd1b9843e2bf0c172b531cb52a' openai_api_base='https://ws-openai-ml-aoai.openai.azure.com/' openai_organization='' openai_proxy='' request_timeout=None max_retries=6 streaming=False n=1 max_tokens=None tiktoken_model_name=None deployment_name='datachatdeploy' model_version='' openai_api_type='azure' openai_api_version='2023-08-01-preview'\nError with AzureOpenAIChat:Got unknown type w\n\n\u001b[1mOpenAI\u001b[0m\nParams: {'model_name': 'text-embedding-ada-002', 'temperature': 0.0, 'max_tokens': 256, 'top_p': 1, 'frequency_penalty': 0, 'presence_penalty': 0, 'n': 1, 'request_timeout': None, 'logit_bias': {}, 'engine': 'datachatdeploy'}\nError with OpenAI:The completion operation does not work with the specified model, gpt-35-turbo. Please choose different model and try again. You can learn more about which models can be used with each operation here: https://go.microsoft.com/fwlink/?linkid=2197993.\n\n\u001b[1mOpenAIChat\u001b[0m\nParams: {'model_name': 'text-embedding-ada-002', 'engine': 'datachatdeploy', 'temperature': 0}\nSuccessful : OpenAIChat\n"
        },
        {
          "output_type": "stream",
          "name": "stderr",
          "text": "/anaconda/envs/azureml_py310_sdkv2/lib/python3.10/site-packages/langchain/utils/utils.py:157: UserWarning: WARNING! engine is not default parameter.\n                engine was transferred to model_kwargs.\n                Please confirm that engine is what you intended.\n  warnings.warn(\n/anaconda/envs/azureml_py310_sdkv2/lib/python3.10/site-packages/langchain/llms/openai.py:787: UserWarning: You are trying to use a chat model. This way of initializing it is no longer supported. Instead, please use: `from langchain.chat_models import ChatOpenAI`\n  warnings.warn(\n"
        }
      ],
      "execution_count": 3,
      "metadata": {
        "jupyter": {
          "source_hidden": false,
          "outputs_hidden": false
        },
        "nteract": {
          "transient": {
            "deleting": false
          }
        },
        "gather": {
          "logged": 1695423618164
        }
      }
    },
    {
      "cell_type": "code",
      "source": [
        "print(llm)"
      ],
      "outputs": [
        {
          "output_type": "stream",
          "name": "stdout",
          "text": "\u001b[1mOpenAIChat\u001b[0m\nParams: {'model_name': 'text-embedding-ada-002', 'engine': 'datachatdeploy', 'temperature': 0}\n"
        }
      ],
      "execution_count": 4,
      "metadata": {
        "jupyter": {
          "source_hidden": false,
          "outputs_hidden": false
        },
        "nteract": {
          "transient": {
            "deleting": false
          }
        },
        "gather": {
          "logged": 1695423622225
        }
      }
    },
    {
      "cell_type": "code",
      "source": [
        "llm(\"what is esg?\") "
      ],
      "outputs": [
        {
          "output_type": "execute_result",
          "execution_count": 6,
          "data": {
            "text/plain": "\"ESG stands for Environmental, Social, and Governance. It is a framework used to evaluate the sustainability and ethical impact of a company or investment. \\n\\nEnvironmental factors refer to a company's impact on the environment, such as its carbon emissions, waste management, and resource usage. Social factors consider a company's impact on society, including its treatment of employees, community engagement, and diversity and inclusion practices. Governance factors assess the company's leadership, board structure, executive compensation, and transparency in decision-making.\\n\\nESG criteria are used by investors, financial institutions, and stakeholders to assess the long-term sustainability and ethical practices of a company. It helps them make informed decisions about investments, as well as encourages companies to adopt responsible business practices.\""
          },
          "metadata": {}
        }
      ],
      "execution_count": 6,
      "metadata": {
        "jupyter": {
          "source_hidden": false,
          "outputs_hidden": false
        },
        "nteract": {
          "transient": {
            "deleting": false
          }
        },
        "gather": {
          "logged": 1695228388962
        }
      }
    },
    {
      "cell_type": "markdown",
      "source": [
        "#### Load the document file that will be vectorized and indexed."
      ],
      "metadata": {
        "nteract": {
          "transient": {
            "deleting": false
          }
        }
      }
    },
    {
      "cell_type": "code",
      "source": [
        "from langchain.document_loaders import PyPDFLoader\n",
        "from langchain.text_splitter import CharacterTextSplitter\n",
        "from langchain.embeddings import OpenAIEmbeddings\n",
        "from langchain.document_loaders import TextLoader\n",
        "from langchain.vectorstores import FAISS\n",
        "\n",
        "loader = PyPDFLoader(\"./data/files/esg_strategy.pdf\")\n",
        "pages = loader.load_and_split() ## this split the doc by pdf pages.\n",
        "\n",
        "text_splitter = CharacterTextSplitter(chunk_size=1000, chunk_overlap=0)\n",
        "texts = text_splitter.split_documents(pages)\n"
      ],
      "outputs": [],
      "execution_count": 16,
      "metadata": {
        "jupyter": {
          "source_hidden": false,
          "outputs_hidden": false
        },
        "nteract": {
          "transient": {
            "deleting": false
          }
        },
        "gather": {
          "logged": 1695230265878
        }
      }
    },
    {
      "cell_type": "code",
      "source": [
        "print(\"size of the doc, that is elements :\",len(pages))\n",
        "print(pages[0])\n",
        "print()\n",
        "print(pages[1])"
      ],
      "outputs": [
        {
          "output_type": "stream",
          "name": "stdout",
          "text": "size of the doc, that is elements : 5\npage_content=\"Impact  of ESG Strategy  on Investment  Management  and Asset  Management:  A Case  Study  \\non Northern  Trust  \\nExecutive  Summary:  Environmental, Social, and Governance (ESG) factors have \\nsignificantly influenced the investment landscape in recent years. For investment \\nmanagement and asset management companies, including Northern Trust, the \\nincorporation of ESG criteria can drive busi ness decisions, shape investment portfolios, \\nand influence stakeholder relations. This document delves into the impact of ESG \\nstrategies on these institutions.  \\n1. Introduction:  \\n• ESG Strategy : A set of investment criteria that consider environmental, social, \\nand governance factors alongside financial factors in the investment decision -\\nmaking process.  \\n• Northern  Trust : An international investment management and asset \\nmanagement company that has integrated ESG strategies into its products and \\nservices.  \\n2. Direct  Impacts  of ESG Strategy:  \\n• 2.1 Portfolio  Construction  and Management:  \\n• Enhanced risk management through the identification of potential ESG \\nrisks that can affect an asset's value.  \\n• Greater opportunities for long -term returns by investing in sustainable and \\nresponsible businesses.  \\n• Diversification by including ESG -focused assets, which might behave \\ndifferently from conventional assets.  \\n• 2.2 Client  Attraction  and Retention:  \\n• Growing demand from institutional investors and high -net-worth \\nindividuals for ESG -centric portfolios.  \\n• Ability to offer specialized products, such as ESG -focused funds, attracting \\na broader clientele.  \\n• 2.3 Regulatory  and Reporting  Standards:  \\n• Compliance with evolving regulatory standards that emphasize ESG \\nreporting and transparency.  \\n• Enhanced disclosure practices, providing stakeholders with comprehensive \\ninformation on ESG performance and strategies.\" metadata={'source': 'data/esg_strategy.pdf', 'page': 0}\n\npage_content=\"3. Indirect  Impacts  of ESG Strategy:  \\n• 3.1 Reputation  and Branding:  \\n• Enhancing the company's brand image as a responsible and forward -\\nlooking institution.  \\n• Building trust with clients, shareholders, and the broader public by \\nshowcasing a commitment to sustainable investing.  \\n• 3.2 Competitive  Advantage:  \\n• Differentiating from competitors by offering unique ESG products and \\nservices.  \\n• Staying ahead of market trends and anticipating future shifts in investor \\npreferences.  \\n• 3.3 Stakeholder  Engagement:  \\n• Improved relations with stakeholders, including clients, shareholders, \\nemployees, and regulators.  \\n• Engaging in dialogues and collaborations with entities such as NGOs and \\ncommunity organizations, fostering a sense of shared purpose.  \\n4. Case  Study:  Northern  Trust's  ESG Integration:  \\n• 4.1 ESG Products  and Services:  \\n• Northern Trust offers a range of ESG -themed investment products \\ncatering to different client needs.  \\n• Utilization of proprietary ESG scoring systems and analytics to assess and \\nrank potential investments.  \\n• 4.2 Stakeholder  Engagement:  \\n• Northern Trust actively collaborates with stakeholders, collecting feedback \\nand ensuring its ESG strategy aligns with broader societal goals.  \\n• The company's commitment to ESG is evident in its public \\ncommunications, reports, and thought leadership pieces.  \\n• 4.3 Business  Outcomes:  \\n• Enhanced portfolio performance by identifying assets with strong ESG \\ncredentials.  \\n• Growth in assets under management (AUM) in the ESG segment, \\nindicating robust client demand.  \\n5. Conclusion:  ESG strategies have reshaped the landscape of investment and asset \\nmanagement, driving companies like Northern Trust to innovate, adapt, and align with \\nbroader societal values. The integration of ESG principles can lead to direct benefits like\" metadata={'source': 'data/esg_strategy.pdf', 'page': 1}\n"
        }
      ],
      "execution_count": 30,
      "metadata": {
        "jupyter": {
          "source_hidden": true,
          "outputs_hidden": true
        },
        "nteract": {
          "transient": {
            "deleting": false
          }
        },
        "gather": {
          "logged": 1695137092929
        }
      }
    },
    {
      "cell_type": "code",
      "source": [
        "# this split doc by lines or sentences.\n",
        "from langchain.document_loaders import UnstructuredPDFLoader\n",
        "loader = UnstructuredPDFLoader(\"data/esg_strategy.pdf\",mode='elements') # this split doc by lines or sentences.\n",
        "data = loader.load()\n",
        "print(\"size of the doc, that is elements :\",len(data))\n",
        "print(data[0])\n",
        "print()\n",
        "print(data[1])\n",
        "\n"
      ],
      "outputs": [
        {
          "output_type": "stream",
          "name": "stdout",
          "text": "size of the doc, that is elements : 102\npage_content='Impact of ESG Strategy on Investment Management and Asset Management: A Case Study on Northern Trust' metadata={'source': 'data/esg_strategy.pdf', 'coordinates': {'points': ((72.264, 90.65840000000003), (72.264, 117.01999999999998), (541.70704, 117.01999999999998), (541.70704, 90.65840000000003)), 'system': 'PixelSpace', 'layout_width': 612, 'layout_height': 792}, 'filename': 'esg_strategy.pdf', 'file_directory': 'data', 'last_modified': '2023-09-19T14:56:32', 'filetype': 'application/pdf', 'page_number': 1, 'category': 'UncategorizedText'}\n\npage_content='Executive Summary: Environmental, Social, and Governance (ESG) factors have significantly influenced the investment landscape in recent years. For investment management and asset management companies, including Northern Trust, the incorporation of ESG criteria can drive business decisions, shape investment portfolios, and influence stakeholder relations. This document delves into the impact of ESG strategies on these institutions.' metadata={'source': 'data/esg_strategy.pdf', 'coordinates': {'points': ((72.024, 136.22000000000003), (72.024, 228.26), (531.6260000000001, 228.26), (531.6260000000001, 136.22000000000003)), 'system': 'PixelSpace', 'layout_width': 612, 'layout_height': 792}, 'filename': 'esg_strategy.pdf', 'file_directory': 'data', 'last_modified': '2023-09-19T14:56:32', 'filetype': 'application/pdf', 'page_number': 1, 'category': 'NarrativeText'}\n"
        }
      ],
      "execution_count": 29,
      "metadata": {
        "jupyter": {
          "source_hidden": true,
          "outputs_hidden": true
        },
        "nteract": {
          "transient": {
            "deleting": false
          }
        },
        "gather": {
          "logged": 1695137055030
        }
      }
    },
    {
      "cell_type": "markdown",
      "source": [
        "###### Handling multiple pdf,docs& text files for embeddings"
      ],
      "metadata": {
        "nteract": {
          "transient": {
            "deleting": false
          }
        }
      }
    },
    {
      "cell_type": "code",
      "source": [
        "## handle multiple documents\n",
        "from langchain.document_loaders import Docx2txtLoader\n",
        "from langchain.document_loaders import TextLoader\n",
        "from langchain.document_loaders import PyPDFLoader\n",
        "\n",
        "documents = []\n",
        "for file in os.listdir('docs'):\n",
        "    if file.endswith('.pdf'):\n",
        "        pdf_path = './docs/' + file\n",
        "        loader = PyPDFLoader(pdf_path)\n",
        "        documents.extend(loader.load())\n",
        "    elif file.endswith('.docx') or file.endswith('.doc'):\n",
        "        doc_path = './docs/' + file\n",
        "        loader = Docx2txtLoader(doc_path)\n",
        "        documents.extend(loader.load())\n",
        "    elif file.endswith('.txt'):\n",
        "        text_path = './docs/' + file\n",
        "        loader = TextLoader(text_path)\n",
        "        documents.extend(loader.load())\n",
        "\n",
        "text_splitter = CharacterTextSplitter(chunk_size=1000, chunk_overlap=10)\n",
        "chunked_documents = text_splitter.split_documents(documents)\n",
        "\n",
        "# we now proceed as earlier, passing in the chunked_documents to the\n",
        "# to the vectorstore\n",
        "# ..."
      ],
      "outputs": [],
      "execution_count": null,
      "metadata": {
        "jupyter": {
          "source_hidden": false,
          "outputs_hidden": false
        },
        "nteract": {
          "transient": {
            "deleting": false
          }
        }
      }
    },
    {
      "cell_type": "code",
      "source": [
        "embeddings = OpenAIEmbeddings(deployment=\"deploy-name-embed\",\n",
        "    model=\"text-embedding-ada-002\",\n",
        "    openai_api_base=OPENAI_API_BASE,\n",
        "    openai_api_type=\"azure\",chunk_size=16,)\n",
        "\n",
        "print(embeddings)"
      ],
      "outputs": [],
      "execution_count": 35,
      "metadata": {
        "jupyter": {
          "source_hidden": false,
          "outputs_hidden": false
        },
        "nteract": {
          "transient": {
            "deleting": false
          }
        },
        "gather": {
          "logged": 1695237695540
        }
      }
    },
    {
      "cell_type": "code",
      "source": [
        "from langchain.document_loaders import DirectoryLoader\n",
        "from langchain.text_splitter import RecursiveCharacterTextSplitter\n",
        "loader = DirectoryLoader('./data/files/',  show_progress=True,use_multithreading=True) ### parameter to control which files: glob=\"**/*.pdf\",\n",
        "docs=loader.load()\n",
        "\n",
        "print(len(docs))\n",
        "\n",
        "text_splitter = CharacterTextSplitter(chunk_size=2000, chunk_overlap=10)\n",
        "#text_splitter = RecursiveCharacterTextSplitter(chunk_size=200, chunk_overlap=0)\n",
        "chunked_documents = text_splitter.split_documents(docs)\n"
      ],
      "outputs": [
        {
          "output_type": "stream",
          "name": "stderr",
          "text": " 67%|██████▋   | 2/3 [00:01<00:00,  1.33it/s]The PDF <_io.BufferedReader name='data/files/esg-vector-score.pdf'> contains a metadata field indicating that it should not allow text extraction. Ignoring this field and proceeding. Use the check_extractable if you want to raise an error in this case\n100%|██████████| 3/3 [00:25<00:00,  8.59s/it]\n"
        },
        {
          "output_type": "stream",
          "name": "stdout",
          "text": "3\n"
        }
      ],
      "execution_count": 32,
      "metadata": {
        "jupyter": {
          "source_hidden": false,
          "outputs_hidden": false
        },
        "nteract": {
          "transient": {
            "deleting": false
          }
        },
        "gather": {
          "logged": 1695237561526
        }
      }
    },
    {
      "cell_type": "code",
      "source": [
        "returned_embeddings = embeddings.embed_documents(\n",
        "    [doc.page_content for doc in chunked_documents],\n",
        ")\n",
        "\n",
        "\n",
        "doc_embed_db = FAISS.from_embeddings(\n",
        "    text_embeddings=[\n",
        "        (doc.page_content, embedding)\n",
        "        for doc, embedding in zip(chunked_documents, returned_embeddings)\n",
        "    ], \n",
        "    embedding=embeddings,\n",
        "    metadatas=[\n",
        "        doc.metadata\n",
        "        for doc in chunked_documents\n",
        "    ],\n",
        ")\n",
        "\n",
        "query=\"what is Northern Trust approach for ESG?\"\n",
        "\n",
        "#query_result = embeddings.embed_query(query)\n",
        "#query_result ### returns vector embeddings"
      ],
      "outputs": [],
      "execution_count": 42,
      "metadata": {
        "jupyter": {
          "source_hidden": false,
          "outputs_hidden": false
        },
        "nteract": {
          "transient": {
            "deleting": false
          }
        },
        "gather": {
          "logged": 1695239576773
        }
      }
    },
    {
      "cell_type": "code",
      "source": [
        "## Saving the embeddings \n",
        "\n",
        "doc_embed_db.save_local(\"data/faiss_index\")\n",
        "#new_db = FAISS.load_local(\"faiss_index\", embeddings)"
      ],
      "outputs": [],
      "execution_count": 43,
      "metadata": {
        "jupyter": {
          "source_hidden": false,
          "outputs_hidden": false
        },
        "nteract": {
          "transient": {
            "deleting": false
          }
        },
        "gather": {
          "logged": 1695239592622
        }
      }
    },
    {
      "cell_type": "code",
      "source": [
        "\n",
        "\n"
      ],
      "outputs": [],
      "execution_count": 44,
      "metadata": {
        "jupyter": {
          "source_hidden": false,
          "outputs_hidden": false
        },
        "nteract": {
          "transient": {
            "deleting": false
          }
        },
        "gather": {
          "logged": 1695239652612
        }
      }
    },
    {
      "cell_type": "code",
      "source": [
        "### For retrieving the document \n",
        "##retriever = FAISS.from_documents(texts, embeddings).as_retriever()\n",
        "\n",
        "##docs = retriever.get_relevant_documents(\"what is Northern Trust approach for ESG?\")\n",
        "##pretty_print_docs(docs)"
      ],
      "outputs": [
        {
          "output_type": "stream",
          "name": "stdout",
          "text": "Document 1:\n\nexecution of their ESG strategies. Through these questions, Northern Trust ensures that \nits investment decisions align with sustainability and responsible business practices, \nreflecting the evolving demands of modern investors.\n----------------------------------------------------------------------------------------------------\nDocument 2:\n\nportfolio optimization and client growth, as well as indirect benefits like enhanced \nreputation and stakeholder engagement.  \nBy understanding and actively incorporating ESG strategies, investment and asset \nmanagement companies position themselves for sustainable growth and long -term \nsuccess in a rapidly evolving financial landscape.  \n \n \nNorthern  Trust's  ESG Inquiry  Framework  for Companies  \nExecutive  Summary:  Northern Trust actively engages with companies to assess their \nadherence to and integration of Environmental, Social, and Governance (ESG) principles. \nThis document provides an outline of the typical questions Northern Trust might pose \nto these companies regarding their ESG strategies, offering insight into the depth and \nfocus of their ESG evaluations.  \n1. Introduction:  \n• Purpose : To understand the alignment, commitment, and effectiveness of a \ncompany's ESG strategy.  \n• Context : As ESG considerations become essential drivers of investment decisions, \nNorthern Trust seeks clarity on how companies approach these factors.  \n2. Environmental  Questions  (E): \n• 2.1 Climate  Change  and Carbon  Emissions:  \n• What is your company's strategy for mitigating climate change risks?  \n• How do you monitor and report your carbon footprint?  \n• 2.2 Resource  Management:  \n• How does your company aim to reduce waste and promote recycling?  \n• Are there strategies in place for sustainable water usage and conservation?  \n• 2.3 Biodiversity  and Land  Use: \n• How does your company's operations impact local biodiversity?  \n• Are there efforts in place to minimize deforestation and promote \nsustainable land use?  \n3. Social  Questions  (S): \n• 3.1 Employee  Relations:\n----------------------------------------------------------------------------------------------------\nDocument 3:\n\nImpact  of ESG Strategy  on Investment  Management  and Asset  Management:  A Case  Study  \non Northern  Trust  \nExecutive  Summary:  Environmental, Social, and Governance (ESG) factors have \nsignificantly influenced the investment landscape in recent years. For investment \nmanagement and asset management companies, including Northern Trust, the \nincorporation of ESG criteria can drive busi ness decisions, shape investment portfolios, \nand influence stakeholder relations. This document delves into the impact of ESG \nstrategies on these institutions.  \n1. Introduction:  \n• ESG Strategy : A set of investment criteria that consider environmental, social, \nand governance factors alongside financial factors in the investment decision -\nmaking process.  \n• Northern  Trust : An international investment management and asset \nmanagement company that has integrated ESG strategies into its products and \nservices.  \n2. Direct  Impacts  of ESG Strategy:  \n• 2.1 Portfolio  Construction  and Management:  \n• Enhanced risk management through the identification of potential ESG \nrisks that can affect an asset's value.  \n• Greater opportunities for long -term returns by investing in sustainable and \nresponsible businesses.  \n• Diversification by including ESG -focused assets, which might behave \ndifferently from conventional assets.  \n• 2.2 Client  Attraction  and Retention:  \n• Growing demand from institutional investors and high -net-worth \nindividuals for ESG -centric portfolios.  \n• Ability to offer specialized products, such as ESG -focused funds, attracting \na broader clientele.  \n• 2.3 Regulatory  and Reporting  Standards:  \n• Compliance with evolving regulatory standards that emphasize ESG \nreporting and transparency.  \n• Enhanced disclosure practices, providing stakeholders with comprehensive \ninformation on ESG performance and strategies.\n----------------------------------------------------------------------------------------------------\nDocument 4:\n\n• What policies are in place to ensure diversity, equity, and inclusion in the \nworkplace?  \n• How do you ensure worker safety and well -being, especially in high -risk \nenvironments?  \n• 3.2 Community  Engagement:  \n• How does your company engage with and contribute to local \ncommunities?  \n• Are there initiatives in place to support community development or \nphilanthropy?  \n• 3.3 Product  Responsibility:  \n• How does your company ensure the safety and reliability of its \nproducts/services?  \n• Are there measures in place to address customer complaints and \nfeedback?  \n4. Governance  Questions  (G): \n• 4.1 Board  Structure  and Composition:  \n• How does the company ensure board diversity and independence?  \n• What is the board's role in overseeing the company's ESG strategy?  \n• 4.2 Ethical  Conduct  and Compliance:  \n• What mechanisms are in place to prevent bribery, corruption, and other \nunethical behaviors?  \n• How does the company ensure compliance with local and international \nregulations?  \n• 4.3 Shareholder  Rights  and Engagement:  \n• How does the company engage with shareholders on ESG -related \nconcerns?  \n• Are there mechanisms for shareholders to voice concerns and influence \ncompany strategy?  \n5. Implementation  and Monitoring:  \n• How often does your company review its ESG strategy?  \n• What key performance indicators (KPIs) are utilized to track ESG progress?  \n• Are there third -party audits or verifications of your ESG disclosures?  \n6. Conclusion:  Northern Trust's comprehensive line of inquiry provides a clear \nindication of its commitment to understanding and evaluating a company's ESG \nperformance. Companies are expected to exhibit transparency, foresight, and effective\n"
        }
      ],
      "execution_count": 63,
      "metadata": {
        "jupyter": {
          "source_hidden": false,
          "outputs_hidden": false
        },
        "nteract": {
          "transient": {
            "deleting": false
          }
        },
        "gather": {
          "logged": 1695141879157
        }
      }
    },
    {
      "cell_type": "code",
      "source": [
        "doc_embed_db.similarity_search(query)"
      ],
      "outputs": [
        {
          "output_type": "execute_result",
          "execution_count": 46,
          "data": {
            "text/plain": "[Document(page_content='Is the company actively working to decrease the frequency of health and safety issues?\\n\\nKey Benefits\\n\\n1\\n\\nEnables more purposeful and transparent integration of ESG considerations into investment processes, addressing the need for a consistent way to measure and report on ESG investments.\\n\\n2\\n\\nProvides a consistent, transparent methodology to gain greater clarity when building and managing sustainable portfolios by focusing on the magnitude and direction of key ESG-related business issues likely to have a financial impact on companies.\\n\\n3\\n\\nOffers more precision in identifying ESG-related business risks that could impact its performance, whether constructing portfolios using best-in- class security selection or exclusionary techniques.\\n\\n4\\n\\nAssists in prioritizing corporate engagements, further aligning sustainable investments and stewardship — leading to more deliberate engagements and the ability to track progress over time with a consistent metric.\\n\\nBest-in-class ESG is industry terminology referring to an investment approach that selects companies that are leaders in implementing ESG.\\n\\nTHE NORTHERN TRUST ESG VECTOR SCORE | 3\\n\\nAbout Northern Trust Asset Management\\n\\nNorthern Trust Asset Management is a global investment manager that helps investors navigate changing market environments in efforts to realize their long-term objectives.\\n\\nEntrusted with $1 trillion in assets,* we understand that investing ultimately serves a greater purpose and believe investors should be compensated for the risks they take — in all market environments and any investment strategy. That’s why we combine robust capital markets research, expert portfolio construction and comprehensive risk management in an effort to craft innovative and efficient solutions that seek to deliver targeted investment outcomes.\\n\\nAs engaged contributors to our communities, we consider it a great privilege to serve our investors and our communities with integrity, respect, and transparency.', metadata={'source': 'data/files/the-northern-trust-esg-vector-score-fact-sheet.pdf'}),\n Document(page_content=\"Northern Trust's ESG Inquiry Framework for Companies\\n\\nExecutive Summary: Northern Trust actively engages with companies to assess their adherence to and integration of Environmental, Social, and Governance (ESG) principles. This document provides an outline of the typical questions Northern Trust might pose to these companies regarding their ESG strategies, offering insight into the depth and focus of their ESG evaluations.\\n\\n1. Introduction:\\n\\nPurpose: To understand the alignment, commitment, and effectiveness of a\\n\\ncompany's ESG strategy.\\n\\nContext: As ESG considerations become essential drivers of investment decisions,\\n\\nNorthern Trust seeks clarity on how companies approach these factors.\\n\\n2. Environmental Questions (E):\\n\\n2.1 Climate Change and Carbon Emissions:\\n\\nWhat is your company's strategy for mitigating climate change risks? • How do you monitor and report your carbon footprint?\\n\\n2.2 Resource Management:\\n\\nHow does your company aim to reduce waste and promote recycling? • Are there strategies in place for sustainable water usage and conservation?\\n\\n2.3 Biodiversity and Land Use:\\n\\nHow does your company's operations impact local biodiversity? • Are there efforts in place to minimize deforestation and promote sustainable land use?\\n\\n3. Social Questions (S):\\n\\n3.1 Employee Relations:\\n\\nWhat policies are in place to ensure diversity, equity, and inclusion in the\\n\\nworkplace?\\n\\nHow do you ensure worker safety and well-being, especially in high-risk\\n\\nenvironments? • 3.2 Community Engagement:\\n\\nHow does your company engage with and contribute to local\\n\\ncommunities?\\n\\nAre there initiatives in place to support community development or\\n\\nphilanthropy? • 3.3 Product Responsibility:\\n\\nHow does your company ensure the safety and reliability of its\\n\\nproducts/services?\\n\\nAre there measures in place to address customer complaints and\\n\\nfeedback?\\n\\n4. Governance Questions (G):\\n\\n4.1 Board Structure and Composition:\", metadata={'source': 'data/files/esg_strategy.pdf'}),\n Document(page_content='This report is provided for informational purposes only and is not intended to be, and should not be construed as, an offer, solicitation or recommendation with respect to any transaction and should not be treated as legal advice, investment advice or tax advice. Recipients should not rely upon this information as a substitute for obtaining specific legal or tax advice from their own professional legal or tax advisors. References to specific securities and their issuers are for illustrative purposes only and are not intended and should not be interpreted as recommendations to purchase or sell such securities. Indices and trademarks are the property of their respective owners. Information is subject to change based on market or other conditions.\\n\\nInvesting involves risk — no investment strategy or risk management technique can guarantee returns or eliminate risk in any market environment. Products and services provided by subsidiaries of Northern Trust Corporation may vary in different markets and are offered in accordance with local regulation. For more information, read our legal and regulatory information about individual market offices (available at northerntrust.com/terms-and-conditions).\\n\\nAn Environmental, Social and Governance (ESG) strategy’s use of ESG factors and screening process may screen out certain companies and industries and/or affect exposures to certain companies or industries. An ESG strategy utilizes ESG analytics as a risk mitigation tool not as an alpha driver and may cause the strategy to forego certain investment opportunities. Investors can integrate ESG data to create a more holistic view of risks and opportunities — resulting in more informed investment decisions and resilient portfolios.', metadata={'source': 'data/files/the-northern-trust-esg-vector-score-fact-sheet.pdf'}),\n Document(page_content=\"Building trust with clients, shareholders, and the broader public by\\n\\nshowcasing a commitment to sustainable investing.\\n\\n3.2 Competitive Advantage:\\n\\nDifferentiating from competitors by offering unique ESG products and\\n\\nservices.\\n\\nStaying ahead of market trends and anticipating future shifts in investor\\n\\npreferences. • 3.3 Stakeholder Engagement:\\n\\nImproved relations with stakeholders, including clients, shareholders, employees, and regulators.\\n\\nEngaging in dialogues and collaborations with entities such as NGOs and\\n\\ncommunity organizations, fostering a sense of shared purpose.\\n\\n4. Case Study: Northern Trust's ESG Integration:\\n\\n4.1 ESG Products and Services:\\n\\nNorthern Trust offers a range of ESG-themed investment products\\n\\ncatering to different client needs.\\n\\nUtilization of proprietary ESG scoring systems and analytics to assess and\\n\\nrank potential investments.\\n\\n4.2 Stakeholder Engagement:\\n\\nNorthern Trust actively collaborates with stakeholders, collecting feedback\\n\\nand ensuring its ESG strategy aligns with broader societal goals.\\n\\nThe company's commitment to ESG is evident in its public communications, reports, and thought leadership pieces.\\n\\n4.3 Business Outcomes:\\n\\nEnhanced portfolio performance by identifying assets with strong ESG\\n\\ncredentials.\\n\\nGrowth in assets under management (AUM) in the ESG segment,\\n\\nindicating robust client demand.\\n\\n5. Conclusion: ESG strategies have reshaped the landscape of investment and asset management, driving companies like Northern Trust to innovate, adapt, and align with broader societal values. The integration of ESG principles can lead to direct benefits like\\n\\nportfolio optimization and client growth, as well as indirect benefits like enhanced reputation and stakeholder engagement.\\n\\nBy understanding and actively incorporating ESG strategies, investment and asset management companies position themselves for sustainable growth and long-term success in a rapidly evolving financial landscape.\", metadata={'source': 'data/files/esg_strategy.pdf'})]"
          },
          "metadata": {}
        }
      ],
      "execution_count": 46,
      "metadata": {
        "jupyter": {
          "source_hidden": false,
          "outputs_hidden": false
        },
        "nteract": {
          "transient": {
            "deleting": false
          }
        },
        "gather": {
          "logged": 1695239668185
        }
      }
    },
    {
      "cell_type": "code",
      "source": [
        "## compression of results to address output token limit issue\n",
        "from langchain.retrievers import ContextualCompressionRetriever\n",
        "from langchain.retrievers.document_compressors import LLMChainExtractor\n",
        "\n",
        "retriever =doc_embed_db.as_retriever()\n",
        "compressor = LLMChainExtractor.from_llm(llm)\n",
        "compression_retriever = ContextualCompressionRetriever(base_compressor=compressor, base_retriever=retriever)\n",
        "\n",
        "compressed_docs = compression_retriever.get_relevant_documents(query)\n",
        "pretty_print_docs(compressed_docs)\n"
      ],
      "outputs": [
        {
          "output_type": "stream",
          "name": "stdout",
          "text": "Document 1:\n\nEnables more purposeful and transparent integration of ESG considerations into investment processes, addressing the need for a consistent way to measure and report on ESG investments.\nProvides a consistent, transparent methodology to gain greater clarity when building and managing sustainable portfolios by focusing on the magnitude and direction of key ESG-related business issues likely to have a financial impact on companies.\nOffers more precision in identifying ESG-related business risks that could impact its performance, whether constructing portfolios using best-in- class security selection or exclusionary techniques.\nAssists in prioritizing corporate engagements, further aligning sustainable investments and stewardship — leading to more deliberate engagements and the ability to track progress over time with a consistent metric.\nBest-in-class ESG is industry terminology referring to an investment approach that selects companies that are leaders in implementing ESG.\n----------------------------------------------------------------------------------------------------\nDocument 2:\n\nNorthern Trust actively engages with companies to assess their adherence to and integration of Environmental, Social, and Governance (ESG) principles. This document provides an outline of the typical questions Northern Trust might pose to these companies regarding their ESG strategies, offering insight into the depth and focus of their ESG evaluations.\n----------------------------------------------------------------------------------------------------\nDocument 3:\n\nAn Environmental, Social and Governance (ESG) strategy’s use of ESG factors and screening process may screen out certain companies and industries and/or affect exposures to certain companies or industries. An ESG strategy utilizes ESG analytics as a risk mitigation tool not as an alpha driver and may cause the strategy to forego certain investment opportunities. Investors can integrate ESG data to create a more holistic view of risks and opportunities — resulting in more informed investment decisions and resilient portfolios.\n----------------------------------------------------------------------------------------------------\nDocument 4:\n\nNorthern Trust offers a range of ESG-themed investment products catering to different client needs.\nUtilization of proprietary ESG scoring systems and analytics to assess and rank potential investments.\nNorthern Trust actively collaborates with stakeholders, collecting feedback and ensuring its ESG strategy aligns with broader societal goals.\nThe company's commitment to ESG is evident in its public communications, reports, and thought leadership pieces.\nEnhanced portfolio performance by identifying assets with strong ESG credentials.\nGrowth in assets under management (AUM) in the ESG segment, indicating robust client demand.\n"
        }
      ],
      "execution_count": 51,
      "metadata": {
        "jupyter": {
          "source_hidden": false,
          "outputs_hidden": false
        },
        "nteract": {
          "transient": {
            "deleting": false
          }
        },
        "gather": {
          "logged": 1695239885656
        }
      }
    },
    {
      "cell_type": "code",
      "source": [
        "# EmbeddingsFilter\n",
        "# Making an extra LLM call over each retrieved document is expensive and slow. The EmbeddingsFilter provides a cheaper and faster option by embedding the documents and query and only returning those documents which have sufficiently similar embeddings to the query.\n",
        "\n",
        "from langchain.embeddings import OpenAIEmbeddings\n",
        "from langchain.retrievers.document_compressors import EmbeddingsFilter\n",
        "import util.helper as helper\n",
        "\n",
        "\n",
        "\n",
        "embeddings_filter = EmbeddingsFilter(embeddings=embeddings, similarity_threshold=0.76)\n",
        "compression_retriever = ContextualCompressionRetriever(base_compressor=embeddings_filter, base_retriever=retriever)\n",
        "\n",
        "compressed_docs = compression_retriever.get_relevant_documents(query)\n",
        "helper.pretty_print_docs(compressed_docs)"
      ],
      "outputs": [
        {
          "output_type": "stream",
          "name": "stdout",
          "text": "Document 1:\n\nIs the company actively working to decrease the frequency of health and safety issues?\n\nKey Benefits\n\n1\n\nEnables more purposeful and transparent integration of ESG considerations into investment processes, addressing the need for a consistent way to measure and report on ESG investments.\n\n2\n\nProvides a consistent, transparent methodology to gain greater clarity when building and managing sustainable portfolios by focusing on the magnitude and direction of key ESG-related business issues likely to have a financial impact on companies.\n\n3\n\nOffers more precision in identifying ESG-related business risks that could impact its performance, whether constructing portfolios using best-in- class security selection or exclusionary techniques.\n\n4\n\nAssists in prioritizing corporate engagements, further aligning sustainable investments and stewardship — leading to more deliberate engagements and the ability to track progress over time with a consistent metric.\n\nBest-in-class ESG is industry terminology referring to an investment approach that selects companies that are leaders in implementing ESG.\n\nTHE NORTHERN TRUST ESG VECTOR SCORE | 3\n\nAbout Northern Trust Asset Management\n\nNorthern Trust Asset Management is a global investment manager that helps investors navigate changing market environments in efforts to realize their long-term objectives.\n\nEntrusted with $1 trillion in assets,* we understand that investing ultimately serves a greater purpose and believe investors should be compensated for the risks they take — in all market environments and any investment strategy. That’s why we combine robust capital markets research, expert portfolio construction and comprehensive risk management in an effort to craft innovative and efficient solutions that seek to deliver targeted investment outcomes.\n\nAs engaged contributors to our communities, we consider it a great privilege to serve our investors and our communities with integrity, respect, and transparency.\n----------------------------------------------------------------------------------------------------\nDocument 2:\n\nNorthern Trust's ESG Inquiry Framework for Companies\n\nExecutive Summary: Northern Trust actively engages with companies to assess their adherence to and integration of Environmental, Social, and Governance (ESG) principles. This document provides an outline of the typical questions Northern Trust might pose to these companies regarding their ESG strategies, offering insight into the depth and focus of their ESG evaluations.\n\n1. Introduction:\n\nPurpose: To understand the alignment, commitment, and effectiveness of a\n\ncompany's ESG strategy.\n\nContext: As ESG considerations become essential drivers of investment decisions,\n\nNorthern Trust seeks clarity on how companies approach these factors.\n\n2. Environmental Questions (E):\n\n2.1 Climate Change and Carbon Emissions:\n\nWhat is your company's strategy for mitigating climate change risks? • How do you monitor and report your carbon footprint?\n\n2.2 Resource Management:\n\nHow does your company aim to reduce waste and promote recycling? • Are there strategies in place for sustainable water usage and conservation?\n\n2.3 Biodiversity and Land Use:\n\nHow does your company's operations impact local biodiversity? • Are there efforts in place to minimize deforestation and promote sustainable land use?\n\n3. Social Questions (S):\n\n3.1 Employee Relations:\n\nWhat policies are in place to ensure diversity, equity, and inclusion in the\n\nworkplace?\n\nHow do you ensure worker safety and well-being, especially in high-risk\n\nenvironments? • 3.2 Community Engagement:\n\nHow does your company engage with and contribute to local\n\ncommunities?\n\nAre there initiatives in place to support community development or\n\nphilanthropy? • 3.3 Product Responsibility:\n\nHow does your company ensure the safety and reliability of its\n\nproducts/services?\n\nAre there measures in place to address customer complaints and\n\nfeedback?\n\n4. Governance Questions (G):\n\n4.1 Board Structure and Composition:\n----------------------------------------------------------------------------------------------------\nDocument 3:\n\nThis report is provided for informational purposes only and is not intended to be, and should not be construed as, an offer, solicitation or recommendation with respect to any transaction and should not be treated as legal advice, investment advice or tax advice. Recipients should not rely upon this information as a substitute for obtaining specific legal or tax advice from their own professional legal or tax advisors. References to specific securities and their issuers are for illustrative purposes only and are not intended and should not be interpreted as recommendations to purchase or sell such securities. Indices and trademarks are the property of their respective owners. Information is subject to change based on market or other conditions.\n\nInvesting involves risk — no investment strategy or risk management technique can guarantee returns or eliminate risk in any market environment. Products and services provided by subsidiaries of Northern Trust Corporation may vary in different markets and are offered in accordance with local regulation. For more information, read our legal and regulatory information about individual market offices (available at northerntrust.com/terms-and-conditions).\n\nAn Environmental, Social and Governance (ESG) strategy’s use of ESG factors and screening process may screen out certain companies and industries and/or affect exposures to certain companies or industries. An ESG strategy utilizes ESG analytics as a risk mitigation tool not as an alpha driver and may cause the strategy to forego certain investment opportunities. Investors can integrate ESG data to create a more holistic view of risks and opportunities — resulting in more informed investment decisions and resilient portfolios.\n----------------------------------------------------------------------------------------------------\nDocument 4:\n\nBuilding trust with clients, shareholders, and the broader public by\n\nshowcasing a commitment to sustainable investing.\n\n3.2 Competitive Advantage:\n\nDifferentiating from competitors by offering unique ESG products and\n\nservices.\n\nStaying ahead of market trends and anticipating future shifts in investor\n\npreferences. • 3.3 Stakeholder Engagement:\n\nImproved relations with stakeholders, including clients, shareholders, employees, and regulators.\n\nEngaging in dialogues and collaborations with entities such as NGOs and\n\ncommunity organizations, fostering a sense of shared purpose.\n\n4. Case Study: Northern Trust's ESG Integration:\n\n4.1 ESG Products and Services:\n\nNorthern Trust offers a range of ESG-themed investment products\n\ncatering to different client needs.\n\nUtilization of proprietary ESG scoring systems and analytics to assess and\n\nrank potential investments.\n\n4.2 Stakeholder Engagement:\n\nNorthern Trust actively collaborates with stakeholders, collecting feedback\n\nand ensuring its ESG strategy aligns with broader societal goals.\n\nThe company's commitment to ESG is evident in its public communications, reports, and thought leadership pieces.\n\n4.3 Business Outcomes:\n\nEnhanced portfolio performance by identifying assets with strong ESG\n\ncredentials.\n\nGrowth in assets under management (AUM) in the ESG segment,\n\nindicating robust client demand.\n\n5. Conclusion: ESG strategies have reshaped the landscape of investment and asset management, driving companies like Northern Trust to innovate, adapt, and align with broader societal values. The integration of ESG principles can lead to direct benefits like\n\nportfolio optimization and client growth, as well as indirect benefits like enhanced reputation and stakeholder engagement.\n\nBy understanding and actively incorporating ESG strategies, investment and asset management companies position themselves for sustainable growth and long-term success in a rapidly evolving financial landscape.\n"
        }
      ],
      "execution_count": 63,
      "metadata": {
        "jupyter": {
          "source_hidden": false,
          "outputs_hidden": false
        },
        "nteract": {
          "transient": {
            "deleting": false
          }
        },
        "gather": {
          "logged": 1695241466854
        }
      }
    },
    {
      "cell_type": "markdown",
      "source": [
        "###### Adding Chat History\n",
        "\n",
        "```\n",
        "ConversationalRetrievalChain\n",
        "\n",
        "\n",
        "from langchain.chains import ConversationalRetrievalChain\n",
        "from langchain.chat_models import ChatOpenAI\n",
        "\n",
        "qa_chain = ConversationalRetrievalChain.from_llm(\n",
        "    ChatOpenAI(),\n",
        "    vectordb.as_retriever(search_kwargs={'k': 6}),\n",
        "    return_source_documents=True\n",
        ")\n",
        "```"
      ],
      "metadata": {
        "nteract": {
          "transient": {
            "deleting": false
          }
        }
      }
    },
    {
      "cell_type": "markdown",
      "source": [
        "#### CSV Data handling"
      ],
      "metadata": {
        "nteract": {
          "transient": {
            "deleting": false
          }
        }
      }
    },
    {
      "cell_type": "code",
      "source": [
        "from langchain.document_loaders.csv_loader import CSVLoader\n",
        "\n",
        "loader = CSVLoader(\n",
        "    file_path=\"./data/files/esgdatakaggle/ESGCountry.csv\",\n",
        "    csv_args={\n",
        "        \"delimiter\": \",\",\n",
        "        \"quotechar\": '\"',  \n",
        "        #\"fieldnames\": [\"Country Code\",\"Short Name\",\"Table Name\",\"Long Name\",\"2-alpha code\",\"Currency Unit\",\"Special Notes\",\"Region\",\"Income Group\",\"WB-2 code\",\"National accounts base year\",\"National accounts reference year\",\"SNA price valuation\",\"Lending category\",\"Other groups\",\"System of National Accounts\",\"Alternative conversion factor\",\"PPP survey year\",\"Balance of Payments Manual in use\",\"External debt Reporting status\",\"System of trade\",\"Government Accounting concept\",\"IMF data dissemination standard\",\"Latest population census\",\"Latest household survey\",\"Source of most recent Income and expenditure data\",\"Vital registration complete\",\"Latest agricultural census\",\"Latest industrial data\",\"Latest trade data\"],\n",
        "    },\n",
        ")\n",
        "\n",
        "data = loader.load()\n",
        "\n",
        "#for document in data:\n",
        "#    content = document.page_content\n",
        "#    metadata = document.metadata\n"
      ],
      "outputs": [],
      "execution_count": 26,
      "metadata": {
        "jupyter": {
          "source_hidden": false,
          "outputs_hidden": false
        },
        "nteract": {
          "transient": {
            "deleting": false
          }
        },
        "gather": {
          "logged": 1695333710308
        }
      }
    },
    {
      "cell_type": "code",
      "source": [
        "import pandas as pd\n",
        "import numpy as np\n",
        "import random\n",
        "#### generate sample data for testing\n",
        "# 1. Investor Information\n",
        "investors_data = {\n",
        "    'investor_id': [i for i in range(1, 51)],\n",
        "    'investor_name': ['Investor ' + str(i) for i in range(1, 51)],\n",
        "    'contact_info': ['investor' + str(i) + '@example.com' for i in range(1, 51)],\n",
        "    'address': ['Address ' + str(i) for i in range(1, 51)],\n",
        "    'account_open_date': pd.date_range(start='2019-01-01', periods=50, freq='15D').strftime('%Y-%m-%d').tolist()\n",
        "}\n",
        "investors_df = pd.DataFrame(investors_data)\n",
        "print(\"investors_df\")\n",
        "# 2. Asset Information\n",
        "assets_data = {\n",
        "    'asset_id': [i for i in range(1, 201)],\n",
        "    'investor_id': [random.choice(range(1, 51)) for _ in range(200)],\n",
        "    'asset_type': random.choices(['stocks', 'bonds', 'real estate', 'mutual fund'], k=200),\n",
        "    'asset_name': ['Asset ' + str(i) for i in range(1, 201)],\n",
        "    'purchase_date': pd.date_range(start='2019-01-01', periods=200, freq='3D').strftime('%Y-%m-%d').tolist(),\n",
        "    'purchase_price': [round(random.uniform(1000, 10000), 2) for _ in range(200)],\n",
        "    'current_value': [round(random.uniform(1000, 10000), 2) for _ in range(200)],\n",
        "    'currency': ['USD' for _ in range(200)]\n",
        "}\n",
        "assets_df = pd.DataFrame(assets_data)\n",
        "print(\"assets_df\")\n",
        "\n",
        "# 3. Transaction Information\n",
        "transactions_data = {\n",
        "    'transaction_id': [i for i in range(1, 500001)],\n",
        "    'investor_id': [random.choice(range(1, 51)) for _ in range(500000)],\n",
        "    'asset_id': [random.choice(range(1, 201)) for _ in range(500000)],\n",
        "    'transaction_type': random.choices(['buy', 'sell'], k=500000),\n",
        "    'transaction_date': pd.date_range(start='2019-01-01', periods=500000, freq='H').strftime('%Y-%m-%d').tolist(),\n",
        "    'transaction_amount': [round(random.uniform(1, 100), 2) for _ in range(500000)],\n",
        "    'transaction_price': [round(random.uniform(100, 1000), 2) for _ in range(500000)]\n",
        "}\n",
        "transactions_df = pd.DataFrame(transactions_data)\n",
        "print(\"transactions_df\")"
      ],
      "outputs": [
        {
          "output_type": "stream",
          "name": "stdout",
          "text": "investors_df\nassets_df\ntransactions_df\n"
        }
      ],
      "execution_count": 5,
      "metadata": {
        "jupyter": {
          "source_hidden": false,
          "outputs_hidden": false
        },
        "nteract": {
          "transient": {
            "deleting": false
          }
        },
        "gather": {
          "logged": 1695423638198
        }
      }
    },
    {
      "cell_type": "code",
      "source": [
        "assets_df.columns"
      ],
      "outputs": [
        {
          "output_type": "execute_result",
          "execution_count": 19,
          "data": {
            "text/plain": "Index(['asset_id', 'investor_id', 'asset_type', 'asset_name', 'purchase_date',\n       'purchase_price', 'current_value', 'currency'],\n      dtype='object')"
          },
          "metadata": {}
        }
      ],
      "execution_count": 19,
      "metadata": {
        "jupyter": {
          "source_hidden": false,
          "outputs_hidden": false
        },
        "nteract": {
          "transient": {
            "deleting": false
          }
        },
        "gather": {
          "logged": 1695424204475
        }
      }
    },
    {
      "cell_type": "code",
      "source": [
        "import pandas as pd\n",
        "from langchain.document_loaders  import DataFrameLoader\n",
        "\n",
        "#from langchain.document_loaders.dataframe import DataFrameLoader\n",
        "\n",
        "\n",
        " \n",
        "# Load data from a Pandas DataFrame using PandasDataFrameLoader\n",
        "loader = DataFrameLoader(assets_df,page_content_column=['asset_id', 'investor_id', 'asset_type', 'asset_name', 'purchase_date','purchase_price', 'current_value', 'currency'])\n",
        "documents = loader.load()\n",
        " \n",
        "# Access the content and metadata of each document\n",
        "for document in documents:\n",
        "    content = document.page_content\n",
        "    metadata = document.metadata\n",
        "\n",
        " "
      ],
      "outputs": [
        {
          "output_type": "error",
          "ename": "TypeError",
          "evalue": "unhashable type: 'list'",
          "traceback": [
            "\u001b[0;31m---------------------------------------------------------------------------\u001b[0m",
            "\u001b[0;31mTypeError\u001b[0m                                 Traceback (most recent call last)",
            "Cell \u001b[0;32mIn[28], line 10\u001b[0m\n\u001b[1;32m      4\u001b[0m \u001b[38;5;66;03m#from langchain.document_loaders.dataframe import DataFrameLoader\u001b[39;00m\n\u001b[1;32m      5\u001b[0m \n\u001b[1;32m      6\u001b[0m \n\u001b[1;32m      7\u001b[0m  \n\u001b[1;32m      8\u001b[0m \u001b[38;5;66;03m# Load data from a Pandas DataFrame using PandasDataFrameLoader\u001b[39;00m\n\u001b[1;32m      9\u001b[0m loader \u001b[38;5;241m=\u001b[39m DataFrameLoader(assets_df,page_content_column\u001b[38;5;241m=\u001b[39m[\u001b[38;5;124m'\u001b[39m\u001b[38;5;124masset_id\u001b[39m\u001b[38;5;124m'\u001b[39m, \u001b[38;5;124m'\u001b[39m\u001b[38;5;124minvestor_id\u001b[39m\u001b[38;5;124m'\u001b[39m, \u001b[38;5;124m'\u001b[39m\u001b[38;5;124masset_type\u001b[39m\u001b[38;5;124m'\u001b[39m, \u001b[38;5;124m'\u001b[39m\u001b[38;5;124masset_name\u001b[39m\u001b[38;5;124m'\u001b[39m, \u001b[38;5;124m'\u001b[39m\u001b[38;5;124mpurchase_date\u001b[39m\u001b[38;5;124m'\u001b[39m,\u001b[38;5;124m'\u001b[39m\u001b[38;5;124mpurchase_price\u001b[39m\u001b[38;5;124m'\u001b[39m, \u001b[38;5;124m'\u001b[39m\u001b[38;5;124mcurrent_value\u001b[39m\u001b[38;5;124m'\u001b[39m, \u001b[38;5;124m'\u001b[39m\u001b[38;5;124mcurrency\u001b[39m\u001b[38;5;124m'\u001b[39m])\n\u001b[0;32m---> 10\u001b[0m documents \u001b[38;5;241m=\u001b[39m \u001b[43mloader\u001b[49m\u001b[38;5;241;43m.\u001b[39;49m\u001b[43mload\u001b[49m\u001b[43m(\u001b[49m\u001b[43m)\u001b[49m\n\u001b[1;32m     12\u001b[0m \u001b[38;5;66;03m# Access the content and metadata of each document\u001b[39;00m\n\u001b[1;32m     13\u001b[0m \u001b[38;5;28;01mfor\u001b[39;00m document \u001b[38;5;129;01min\u001b[39;00m documents:\n",
            "File \u001b[0;32m/anaconda/envs/azureml_py310_sdkv2/lib/python3.10/site-packages/langchain/document_loaders/dataframe.py:30\u001b[0m, in \u001b[0;36mBaseDataFrameLoader.load\u001b[0;34m(self)\u001b[0m\n\u001b[1;32m     28\u001b[0m \u001b[38;5;28;01mdef\u001b[39;00m \u001b[38;5;21mload\u001b[39m(\u001b[38;5;28mself\u001b[39m) \u001b[38;5;241m-\u001b[39m\u001b[38;5;241m>\u001b[39m List[Document]:\n\u001b[1;32m     29\u001b[0m \u001b[38;5;250m    \u001b[39m\u001b[38;5;124;03m\"\"\"Load full dataframe.\"\"\"\u001b[39;00m\n\u001b[0;32m---> 30\u001b[0m     \u001b[38;5;28;01mreturn\u001b[39;00m \u001b[38;5;28;43mlist\u001b[39;49m\u001b[43m(\u001b[49m\u001b[38;5;28;43mself\u001b[39;49m\u001b[38;5;241;43m.\u001b[39;49m\u001b[43mlazy_load\u001b[49m\u001b[43m(\u001b[49m\u001b[43m)\u001b[49m\u001b[43m)\u001b[49m\n",
            "File \u001b[0;32m/anaconda/envs/azureml_py310_sdkv2/lib/python3.10/site-packages/langchain/document_loaders/dataframe.py:25\u001b[0m, in \u001b[0;36mBaseDataFrameLoader.lazy_load\u001b[0;34m(self)\u001b[0m\n\u001b[1;32m     23\u001b[0m text \u001b[38;5;241m=\u001b[39m row[\u001b[38;5;28mself\u001b[39m\u001b[38;5;241m.\u001b[39mpage_content_column]\n\u001b[1;32m     24\u001b[0m metadata \u001b[38;5;241m=\u001b[39m row\u001b[38;5;241m.\u001b[39mto_dict()\n\u001b[0;32m---> 25\u001b[0m \u001b[43mmetadata\u001b[49m\u001b[38;5;241;43m.\u001b[39;49m\u001b[43mpop\u001b[49m\u001b[43m(\u001b[49m\u001b[38;5;28;43mself\u001b[39;49m\u001b[38;5;241;43m.\u001b[39;49m\u001b[43mpage_content_column\u001b[49m\u001b[43m)\u001b[49m\n\u001b[1;32m     26\u001b[0m \u001b[38;5;28;01myield\u001b[39;00m Document(page_content\u001b[38;5;241m=\u001b[39mtext, metadata\u001b[38;5;241m=\u001b[39mmetadata)\n",
            "\u001b[0;31mTypeError\u001b[0m: unhashable type: 'list'"
          ]
        }
      ],
      "execution_count": 28,
      "metadata": {
        "jupyter": {
          "source_hidden": false,
          "outputs_hidden": false
        },
        "nteract": {
          "transient": {
            "deleting": false
          }
        },
        "gather": {
          "logged": 1695424472312
        }
      }
    },
    {
      "cell_type": "code",
      "source": [
        "documents[2]"
      ],
      "outputs": [
        {
          "output_type": "execute_result",
          "execution_count": 26,
          "data": {
            "text/plain": "Document(page_content='7', metadata={'asset_id': 3, 'asset_type': 'mutual fund', 'asset_name': 'Asset 3', 'purchase_date': '2019-01-07', 'purchase_price': 8454.96, 'current_value': 6145.37, 'currency': 'USD'})"
          },
          "metadata": {}
        }
      ],
      "execution_count": 26,
      "metadata": {
        "jupyter": {
          "source_hidden": false,
          "outputs_hidden": false
        },
        "nteract": {
          "transient": {
            "deleting": false
          }
        },
        "gather": {
          "logged": 1695424416273
        }
      }
    }
  ],
  "metadata": {
    "kernelspec": {
      "name": "python310-sdkv2",
      "language": "python",
      "display_name": "Python 3.10 - SDK v2"
    },
    "language_info": {
      "name": "python",
      "version": "3.10.11",
      "mimetype": "text/x-python",
      "codemirror_mode": {
        "name": "ipython",
        "version": 3
      },
      "pygments_lexer": "ipython3",
      "nbconvert_exporter": "python",
      "file_extension": ".py"
    },
    "microsoft": {
      "ms_spell_check": {
        "ms_spell_check_language": "en"
      },
      "host": {
        "AzureML": {
          "notebookHasBeenCompleted": true
        }
      }
    },
    "kernel_info": {
      "name": "python310-sdkv2"
    },
    "nteract": {
      "version": "nteract-front-end@1.0.0"
    }
  },
  "nbformat": 4,
  "nbformat_minor": 2
}