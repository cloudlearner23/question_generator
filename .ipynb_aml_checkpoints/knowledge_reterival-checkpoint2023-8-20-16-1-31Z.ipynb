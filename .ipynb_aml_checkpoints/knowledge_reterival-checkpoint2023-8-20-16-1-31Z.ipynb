{
  "cells": [
    {
      "cell_type": "markdown",
      "source": [
        "###### Setting up Environment variables"
      ],
      "metadata": {
        "nteract": {
          "transient": {
            "deleting": false
          }
        }
      }
    },
    {
      "cell_type": "code",
      "source": [
        "import sys\n",
        "sys.path.append('/anaconda/envs/azureml_py310_sdkv2/lib/python3.10/site-packages/')\n",
        "print(sys.version)"
      ],
      "outputs": [
        {
          "output_type": "stream",
          "name": "stdout",
          "text": "3.10.11 (main, May 16 2023, 00:28:57) [GCC 11.2.0]\n"
        }
      ],
      "execution_count": 15,
      "metadata": {
        "jupyter": {
          "source_hidden": false,
          "outputs_hidden": false
        },
        "nteract": {
          "transient": {
            "deleting": false
          }
        },
        "gather": {
          "logged": 1695136551837
        }
      }
    },
    {
      "cell_type": "code",
      "source": [
        "###########import necessary keys \n",
        "\n",
        "import os\n",
        "#import openai\n",
        "from secret import OPENAI_API_TYPE,OPENAI_API_KEY,OPENAI_API_BASE,HUGGINGFACEHUB_API_TOKEN\n",
        "from langchain.llms import AzureOpenAI\n",
        "from langchain.llms import OpenAI\n",
        "from langchain.llms import OpenAIChat\n",
        "from langchain.chat_models import AzureChatOpenAI\n",
        "from dotenv import load_dotenv\n",
        "\n",
        "load_dotenv()\n",
        "\n",
        "# openai.api_version = \"2023-07-01-preview\"\n",
        "\n",
        "os.environ['OPENAI_API_TYPE']=OPENAI_API_TYPE\n",
        "os.environ['OPENAI_API_BASE']=OPENAI_API_BASE\n",
        "os.environ['OPENAI_API_KEY'] = OPENAI_API_KEY\n",
        "os.environ['HUGGINGFACEHUB_API_TOKEN'] = HUGGINGFACEHUB_API_TOKEN\n",
        "\n",
        "\n",
        "\n",
        "\n"
      ],
      "outputs": [],
      "execution_count": 2,
      "metadata": {
        "gather": {
          "logged": 1695134293146
        }
      }
    },
    {
      "cell_type": "markdown",
      "source": [
        "###### Generate sample data for AUM"
      ],
      "metadata": {
        "nteract": {
          "transient": {
            "deleting": false
          }
        }
      }
    },
    {
      "cell_type": "markdown",
      "source": [
        "###### Set & Identify right LLM Model & Langchain Module "
      ],
      "metadata": {
        "nteract": {
          "transient": {
            "deleting": false
          }
        }
      }
    },
    {
      "cell_type": "code",
      "source": [
        "##### Unstable connectivity between langchain and openai. Better to test which link is working an any given point in time. \n",
        "\n",
        "os.environ['OPENAI_API_VERSION'] = \"2023-08-01-preview\" #\"2023-05-15\" #\"2022-12-01\"\n",
        "deployment_list =[\"deploy-name-embed\",\"deploy-gpt35turbo16k\", \"datachatdeploy\"]\n",
        "model_list=[\"text-embedding-ada-002\",\"gpt-35-turbo-16k\", \"text-davinci-003\",\"gpt-35-turbo\"]\n",
        "\n",
        "for deploy_name in deployment_list:\n",
        "    for mod_name in model_list:\n",
        "        try:\n",
        "            llm = AzureOpenAI(deployment_name=deploy_name,model_name=mod_name,temperature=0)\n",
        "            print(llm)\n",
        "            if llm(\"what is esg?\"):\n",
        "                sys.exit(\"Successful : AzureOpenAI\")\n",
        "        except Exception as e:\n",
        "            print(f\"Error with AzureOpenAI:{e}\\n\" )\n",
        "        \n",
        "        try:\n",
        "            llm = AzureChatOpenAI(deployment_name=deploy_name,model_name=mod_name,temperature=0)\n",
        "            print(llm)\n",
        "            if llm(\"what is esg?\"):\n",
        "                sys.exit(\"Successful : AzureOpenAIChat\")\n",
        "        except Exception as e:\n",
        "            print(f\"Error with AzureOpenAIChat:{e}\\n\" )\n",
        "        \n",
        "        try:\n",
        "            llm= OpenAI(engine=deploy_name,model_name=mod_name,temperature=0)\n",
        "            print(llm)\n",
        "            if llm(\"what is esg?\"):\n",
        "                sys.exit(\"Successful : OpenAI\")\n",
        "        except Exception as e:\n",
        "            print(f\"Error with OpenAI:{e}\\n\" )\n",
        "\n",
        "        try:\n",
        "            llm= OpenAIChat(engine=deploy_name,model_name=mod_name,temperature=0)\n",
        "            print(llm)\n",
        "            if llm(\"what is esg?\"):\n",
        "                sys.exit(\"Successful : OpenAIChat\")\n",
        "        except Exception as e:\n",
        "            print(f\"Error with OpenAIChat:{e}\\n\" )\n",
        "\n",
        "\n"
      ],
      "outputs": [
        {
          "output_type": "stream",
          "name": "stdout",
          "text": "\u001b[1mAzureOpenAI\u001b[0m\nParams: {'deployment_name': 'deploy-name-embed', 'model_name': 'text-embedding-ada-002', 'temperature': 0.0, 'max_tokens': 256, 'top_p': 1, 'frequency_penalty': 0, 'presence_penalty': 0, 'n': 1, 'request_timeout': None, 'logit_bias': {}}\nError with AzureOpenAI:The completion operation does not work with the specified model, text-embedding-ada-002. Please choose different model and try again. You can learn more about which models can be used with each operation here: https://go.microsoft.com/fwlink/?linkid=2197993.\n\ncache=None verbose=False callbacks=None callback_manager=None tags=None metadata=None client=<class 'openai.api_resources.chat_completion.ChatCompletion'> model_name='text-embedding-ada-002' temperature=0.0 model_kwargs={} openai_api_key='ff0b3bcd1b9843e2bf0c172b531cb52a' openai_api_base='https://ws-openai-ml-aoai.openai.azure.com/' openai_organization='' openai_proxy='' request_timeout=None max_retries=6 streaming=False n=1 max_tokens=None tiktoken_model_name=None deployment_name='deploy-name-embed' model_version='' openai_api_type='azure' openai_api_version='2023-08-01-preview'\nError with AzureOpenAIChat:Got unknown type w\n\n\u001b[1mOpenAI\u001b[0m\nParams: {'model_name': 'text-embedding-ada-002', 'temperature': 0.0, 'max_tokens': 256, 'top_p': 1, 'frequency_penalty': 0, 'presence_penalty': 0, 'n': 1, 'request_timeout': None, 'logit_bias': {}, 'engine': 'deploy-name-embed'}\nError with OpenAI:The completion operation does not work with the specified model, text-embedding-ada-002. Please choose different model and try again. You can learn more about which models can be used with each operation here: https://go.microsoft.com/fwlink/?linkid=2197993.\n\n\u001b[1mOpenAIChat\u001b[0m\nParams: {'model_name': 'text-embedding-ada-002', 'engine': 'deploy-name-embed', 'temperature': 0}\nError with OpenAIChat:The chatCompletion operation does not work with the specified model, text-embedding-ada-002. Please choose different model and try again. You can learn more about which models can be used with each operation here: https://go.microsoft.com/fwlink/?linkid=2197993.\n\n\u001b[1mAzureOpenAI\u001b[0m\nParams: {'deployment_name': 'deploy-name-embed', 'model_name': 'gpt-35-turbo-16k', 'temperature': 0.0, 'max_tokens': 256, 'top_p': 1, 'frequency_penalty': 0, 'presence_penalty': 0, 'n': 1, 'request_timeout': None, 'logit_bias': {}}\nError with AzureOpenAI:The completion operation does not work with the specified model, text-embedding-ada-002. Please choose different model and try again. You can learn more about which models can be used with each operation here: https://go.microsoft.com/fwlink/?linkid=2197993.\n\ncache=None verbose=False callbacks=None callback_manager=None tags=None metadata=None client=<class 'openai.api_resources.chat_completion.ChatCompletion'> model_name='gpt-35-turbo-16k' temperature=0.0 model_kwargs={} openai_api_key='ff0b3bcd1b9843e2bf0c172b531cb52a' openai_api_base='https://ws-openai-ml-aoai.openai.azure.com/' openai_organization='' openai_proxy='' request_timeout=None max_retries=6 streaming=False n=1 max_tokens=None tiktoken_model_name=None deployment_name='deploy-name-embed' model_version='' openai_api_type='azure' openai_api_version='2023-08-01-preview'\nError with AzureOpenAIChat:Got unknown type w\n\n\u001b[1mOpenAI\u001b[0m\nParams: {'model_name': 'gpt-35-turbo-16k', 'temperature': 0.0, 'max_tokens': 256, 'top_p': 1, 'frequency_penalty': 0, 'presence_penalty': 0, 'n': 1, 'request_timeout': None, 'logit_bias': {}, 'engine': 'deploy-name-embed'}\nError with OpenAI:The completion operation does not work with the specified model, text-embedding-ada-002. Please choose different model and try again. You can learn more about which models can be used with each operation here: https://go.microsoft.com/fwlink/?linkid=2197993.\n\n\u001b[1mOpenAIChat\u001b[0m\nParams: {'model_name': 'gpt-35-turbo-16k', 'engine': 'deploy-name-embed', 'temperature': 0}\nError with OpenAIChat:The chatCompletion operation does not work with the specified model, text-embedding-ada-002. Please choose different model and try again. You can learn more about which models can be used with each operation here: https://go.microsoft.com/fwlink/?linkid=2197993.\n\n\u001b[1mAzureOpenAI\u001b[0m\nParams: {'deployment_name': 'deploy-name-embed', 'model_name': 'text-davinci-003', 'temperature': 0.0, 'max_tokens': 256, 'top_p': 1, 'frequency_penalty': 0, 'presence_penalty': 0, 'n': 1, 'request_timeout': None, 'logit_bias': {}}\nError with AzureOpenAI:The completion operation does not work with the specified model, text-embedding-ada-002. Please choose different model and try again. You can learn more about which models can be used with each operation here: https://go.microsoft.com/fwlink/?linkid=2197993.\n\ncache=None verbose=False callbacks=None callback_manager=None tags=None metadata=None client=<class 'openai.api_resources.chat_completion.ChatCompletion'> model_name='text-davinci-003' temperature=0.0 model_kwargs={} openai_api_key='ff0b3bcd1b9843e2bf0c172b531cb52a' openai_api_base='https://ws-openai-ml-aoai.openai.azure.com/' openai_organization='' openai_proxy='' request_timeout=None max_retries=6 streaming=False n=1 max_tokens=None tiktoken_model_name=None deployment_name='deploy-name-embed' model_version='' openai_api_type='azure' openai_api_version='2023-08-01-preview'\nError with AzureOpenAIChat:Got unknown type w\n\n\u001b[1mOpenAI\u001b[0m\nParams: {'model_name': 'text-davinci-003', 'temperature': 0.0, 'max_tokens': 256, 'top_p': 1, 'frequency_penalty': 0, 'presence_penalty': 0, 'n': 1, 'request_timeout': None, 'logit_bias': {}, 'engine': 'deploy-name-embed'}\nError with OpenAI:The completion operation does not work with the specified model, text-embedding-ada-002. Please choose different model and try again. You can learn more about which models can be used with each operation here: https://go.microsoft.com/fwlink/?linkid=2197993.\n\n\u001b[1mOpenAIChat\u001b[0m\nParams: {'model_name': 'text-davinci-003', 'engine': 'deploy-name-embed', 'temperature': 0}\nError with OpenAIChat:The chatCompletion operation does not work with the specified model, text-embedding-ada-002. Please choose different model and try again. You can learn more about which models can be used with each operation here: https://go.microsoft.com/fwlink/?linkid=2197993.\n\n\u001b[1mAzureOpenAI\u001b[0m\nParams: {'deployment_name': 'deploy-name-embed', 'model_name': 'gpt-35-turbo', 'temperature': 0.0, 'max_tokens': 256, 'top_p': 1, 'frequency_penalty': 0, 'presence_penalty': 0, 'n': 1, 'request_timeout': None, 'logit_bias': {}}\nError with AzureOpenAI:The completion operation does not work with the specified model, text-embedding-ada-002. Please choose different model and try again. You can learn more about which models can be used with each operation here: https://go.microsoft.com/fwlink/?linkid=2197993.\n\ncache=None verbose=False callbacks=None callback_manager=None tags=None metadata=None client=<class 'openai.api_resources.chat_completion.ChatCompletion'> model_name='gpt-35-turbo' temperature=0.0 model_kwargs={} openai_api_key='ff0b3bcd1b9843e2bf0c172b531cb52a' openai_api_base='https://ws-openai-ml-aoai.openai.azure.com/' openai_organization='' openai_proxy='' request_timeout=None max_retries=6 streaming=False n=1 max_tokens=None tiktoken_model_name=None deployment_name='deploy-name-embed' model_version='' openai_api_type='azure' openai_api_version='2023-08-01-preview'\nError with AzureOpenAIChat:Got unknown type w\n\n\u001b[1mOpenAI\u001b[0m\nParams: {'model_name': 'gpt-35-turbo', 'temperature': 0.0, 'max_tokens': 256, 'top_p': 1, 'frequency_penalty': 0, 'presence_penalty': 0, 'n': 1, 'request_timeout': None, 'logit_bias': {}, 'engine': 'deploy-name-embed'}\nError with OpenAI:The completion operation does not work with the specified model, text-embedding-ada-002. Please choose different model and try again. You can learn more about which models can be used with each operation here: https://go.microsoft.com/fwlink/?linkid=2197993.\n\n\u001b[1mOpenAIChat\u001b[0m\nParams: {'model_name': 'gpt-35-turbo', 'engine': 'deploy-name-embed', 'temperature': 0}\nError with OpenAIChat:The chatCompletion operation does not work with the specified model, text-embedding-ada-002. Please choose different model and try again. You can learn more about which models can be used with each operation here: https://go.microsoft.com/fwlink/?linkid=2197993.\n\n\u001b[1mAzureOpenAI\u001b[0m\nParams: {'deployment_name': 'deploy-gpt35turbo16k', 'model_name': 'text-embedding-ada-002', 'temperature': 0.0, 'max_tokens': 256, 'top_p': 1, 'frequency_penalty': 0, 'presence_penalty': 0, 'n': 1, 'request_timeout': None, 'logit_bias': {}}\nError with AzureOpenAI:The completion operation does not work with the specified model, gpt-35-turbo-16k. Please choose different model and try again. You can learn more about which models can be used with each operation here: https://go.microsoft.com/fwlink/?linkid=2197993.\n\ncache=None verbose=False callbacks=None callback_manager=None tags=None metadata=None client=<class 'openai.api_resources.chat_completion.ChatCompletion'> model_name='text-embedding-ada-002' temperature=0.0 model_kwargs={} openai_api_key='ff0b3bcd1b9843e2bf0c172b531cb52a' openai_api_base='https://ws-openai-ml-aoai.openai.azure.com/' openai_organization='' openai_proxy='' request_timeout=None max_retries=6 streaming=False n=1 max_tokens=None tiktoken_model_name=None deployment_name='deploy-gpt35turbo16k' model_version='' openai_api_type='azure' openai_api_version='2023-08-01-preview'\nError with AzureOpenAIChat:Got unknown type w\n\n\u001b[1mOpenAI\u001b[0m\nParams: {'model_name': 'text-embedding-ada-002', 'temperature': 0.0, 'max_tokens': 256, 'top_p': 1, 'frequency_penalty': 0, 'presence_penalty': 0, 'n': 1, 'request_timeout': None, 'logit_bias': {}, 'engine': 'deploy-gpt35turbo16k'}\nError with OpenAI:The completion operation does not work with the specified model, gpt-35-turbo-16k. Please choose different model and try again. You can learn more about which models can be used with each operation here: https://go.microsoft.com/fwlink/?linkid=2197993.\n\n\u001b[1mOpenAIChat\u001b[0m\nParams: {'model_name': 'text-embedding-ada-002', 'engine': 'deploy-gpt35turbo16k', 'temperature': 0}\n"
        },
        {
          "output_type": "stream",
          "name": "stderr",
          "text": "/anaconda/envs/azureml_py310_sdkv2/lib/python3.10/site-packages/langchain/utils/utils.py:157: UserWarning: WARNING! engine is not default parameter.\n                engine was transferred to model_kwargs.\n                Please confirm that engine is what you intended.\n  warnings.warn(\n/anaconda/envs/azureml_py310_sdkv2/lib/python3.10/site-packages/langchain/llms/openai.py:787: UserWarning: You are trying to use a chat model. This way of initializing it is no longer supported. Instead, please use: `from langchain.chat_models import ChatOpenAI`\n  warnings.warn(\n"
        },
        {
          "output_type": "error",
          "ename": "SystemExit",
          "evalue": "Successful : OpenAIChat",
          "traceback": [
            "An exception has occurred, use %tb to see the full traceback.\n",
            "\u001b[0;31mSystemExit\u001b[0m\u001b[0;31m:\u001b[0m Successful : OpenAIChat\n"
          ]
        }
      ],
      "execution_count": 38,
      "metadata": {
        "jupyter": {
          "source_hidden": false,
          "outputs_hidden": false
        },
        "nteract": {
          "transient": {
            "deleting": false
          }
        },
        "gather": {
          "logged": 1695138244344
        }
      }
    },
    {
      "cell_type": "code",
      "source": [
        "print(llm)"
      ],
      "outputs": [
        {
          "output_type": "stream",
          "name": "stdout",
          "text": "\u001b[1mOpenAIChat\u001b[0m\nParams: {'model_name': 'text-embedding-ada-002', 'engine': 'deploy-gpt35turbo16k', 'temperature': 0}\n"
        }
      ],
      "execution_count": 39,
      "metadata": {
        "jupyter": {
          "source_hidden": false,
          "outputs_hidden": false
        },
        "nteract": {
          "transient": {
            "deleting": false
          }
        },
        "gather": {
          "logged": 1695138253861
        }
      }
    },
    {
      "cell_type": "code",
      "source": [
        "llm(\"what is esg?\") "
      ],
      "outputs": [
        {
          "output_type": "execute_result",
          "execution_count": 5,
          "data": {
            "text/plain": "\"ESG stands for Environmental, Social, and Governance. It is a framework used to evaluate the sustainability and ethical impact of a company or investment. \\n\\nEnvironmental factors refer to a company's impact on the environment, such as its carbon emissions, waste management, and resource usage. Social factors consider a company's impact on society, including its treatment of employees, community engagement, and diversity and inclusion practices. Governance factors assess the company's leadership, board structure, executive compensation, and transparency in decision-making.\\n\\nESG criteria are used by investors, financial institutions, and stakeholders to assess the long-term sustainability and ethical practices of a company. It helps them make informed decisions about investments, as well as encourages companies to adopt responsible business practices.\""
          },
          "metadata": {}
        }
      ],
      "execution_count": 5,
      "metadata": {
        "jupyter": {
          "source_hidden": false,
          "outputs_hidden": false
        },
        "nteract": {
          "transient": {
            "deleting": false
          }
        },
        "gather": {
          "logged": 1695134377844
        }
      }
    },
    {
      "cell_type": "code",
      "source": [],
      "outputs": [],
      "execution_count": 7,
      "metadata": {
        "jupyter": {
          "source_hidden": false,
          "outputs_hidden": false
        },
        "nteract": {
          "transient": {
            "deleting": false
          }
        },
        "gather": {
          "logged": 1694997579982
        }
      }
    },
    {
      "cell_type": "code",
      "source": [
        "from langchain.document_loaders import PyPDFLoader\n",
        "\n",
        "loader = PyPDFLoader(\"data/esg_strategy.pdf\")\n",
        "pages = loader.load_and_split() ## this split the doc by pdf pages."
      ],
      "outputs": [],
      "execution_count": 31,
      "metadata": {
        "jupyter": {
          "source_hidden": false,
          "outputs_hidden": false
        },
        "nteract": {
          "transient": {
            "deleting": false
          }
        },
        "gather": {
          "logged": 1695137234272
        }
      }
    },
    {
      "cell_type": "code",
      "source": [
        "print(\"size of the doc, that is elements :\",len(pages))\n",
        "print(pages[0])\n",
        "print()\n",
        "print(pages[1])"
      ],
      "outputs": [
        {
          "output_type": "stream",
          "name": "stdout",
          "text": "size of the doc, that is elements : 5\npage_content=\"Impact  of ESG Strategy  on Investment  Management  and Asset  Management:  A Case  Study  \\non Northern  Trust  \\nExecutive  Summary:  Environmental, Social, and Governance (ESG) factors have \\nsignificantly influenced the investment landscape in recent years. For investment \\nmanagement and asset management companies, including Northern Trust, the \\nincorporation of ESG criteria can drive busi ness decisions, shape investment portfolios, \\nand influence stakeholder relations. This document delves into the impact of ESG \\nstrategies on these institutions.  \\n1. Introduction:  \\n• ESG Strategy : A set of investment criteria that consider environmental, social, \\nand governance factors alongside financial factors in the investment decision -\\nmaking process.  \\n• Northern  Trust : An international investment management and asset \\nmanagement company that has integrated ESG strategies into its products and \\nservices.  \\n2. Direct  Impacts  of ESG Strategy:  \\n• 2.1 Portfolio  Construction  and Management:  \\n• Enhanced risk management through the identification of potential ESG \\nrisks that can affect an asset's value.  \\n• Greater opportunities for long -term returns by investing in sustainable and \\nresponsible businesses.  \\n• Diversification by including ESG -focused assets, which might behave \\ndifferently from conventional assets.  \\n• 2.2 Client  Attraction  and Retention:  \\n• Growing demand from institutional investors and high -net-worth \\nindividuals for ESG -centric portfolios.  \\n• Ability to offer specialized products, such as ESG -focused funds, attracting \\na broader clientele.  \\n• 2.3 Regulatory  and Reporting  Standards:  \\n• Compliance with evolving regulatory standards that emphasize ESG \\nreporting and transparency.  \\n• Enhanced disclosure practices, providing stakeholders with comprehensive \\ninformation on ESG performance and strategies.\" metadata={'source': 'data/esg_strategy.pdf', 'page': 0}\n\npage_content=\"3. Indirect  Impacts  of ESG Strategy:  \\n• 3.1 Reputation  and Branding:  \\n• Enhancing the company's brand image as a responsible and forward -\\nlooking institution.  \\n• Building trust with clients, shareholders, and the broader public by \\nshowcasing a commitment to sustainable investing.  \\n• 3.2 Competitive  Advantage:  \\n• Differentiating from competitors by offering unique ESG products and \\nservices.  \\n• Staying ahead of market trends and anticipating future shifts in investor \\npreferences.  \\n• 3.3 Stakeholder  Engagement:  \\n• Improved relations with stakeholders, including clients, shareholders, \\nemployees, and regulators.  \\n• Engaging in dialogues and collaborations with entities such as NGOs and \\ncommunity organizations, fostering a sense of shared purpose.  \\n4. Case  Study:  Northern  Trust's  ESG Integration:  \\n• 4.1 ESG Products  and Services:  \\n• Northern Trust offers a range of ESG -themed investment products \\ncatering to different client needs.  \\n• Utilization of proprietary ESG scoring systems and analytics to assess and \\nrank potential investments.  \\n• 4.2 Stakeholder  Engagement:  \\n• Northern Trust actively collaborates with stakeholders, collecting feedback \\nand ensuring its ESG strategy aligns with broader societal goals.  \\n• The company's commitment to ESG is evident in its public \\ncommunications, reports, and thought leadership pieces.  \\n• 4.3 Business  Outcomes:  \\n• Enhanced portfolio performance by identifying assets with strong ESG \\ncredentials.  \\n• Growth in assets under management (AUM) in the ESG segment, \\nindicating robust client demand.  \\n5. Conclusion:  ESG strategies have reshaped the landscape of investment and asset \\nmanagement, driving companies like Northern Trust to innovate, adapt, and align with \\nbroader societal values. The integration of ESG principles can lead to direct benefits like\" metadata={'source': 'data/esg_strategy.pdf', 'page': 1}\n"
        }
      ],
      "execution_count": 30,
      "metadata": {
        "jupyter": {
          "source_hidden": false,
          "outputs_hidden": false
        },
        "nteract": {
          "transient": {
            "deleting": false
          }
        },
        "gather": {
          "logged": 1695137092929
        }
      }
    },
    {
      "cell_type": "code",
      "source": [
        "from langchain.document_loaders import UnstructuredPDFLoader\n",
        "loader = UnstructuredPDFLoader(\"data/esg_strategy.pdf\",mode='elements') # this split doc by lines or sentences.\n",
        "data = loader.load()\n",
        "print(\"size of the doc, that is elements :\",len(data))\n",
        "print(data[0])\n",
        "print()\n",
        "print(data[1])\n",
        "\n"
      ],
      "outputs": [
        {
          "output_type": "stream",
          "name": "stdout",
          "text": "size of the doc, that is elements : 102\npage_content='Impact of ESG Strategy on Investment Management and Asset Management: A Case Study on Northern Trust' metadata={'source': 'data/esg_strategy.pdf', 'coordinates': {'points': ((72.264, 90.65840000000003), (72.264, 117.01999999999998), (541.70704, 117.01999999999998), (541.70704, 90.65840000000003)), 'system': 'PixelSpace', 'layout_width': 612, 'layout_height': 792}, 'filename': 'esg_strategy.pdf', 'file_directory': 'data', 'last_modified': '2023-09-19T14:56:32', 'filetype': 'application/pdf', 'page_number': 1, 'category': 'UncategorizedText'}\n\npage_content='Executive Summary: Environmental, Social, and Governance (ESG) factors have significantly influenced the investment landscape in recent years. For investment management and asset management companies, including Northern Trust, the incorporation of ESG criteria can drive business decisions, shape investment portfolios, and influence stakeholder relations. This document delves into the impact of ESG strategies on these institutions.' metadata={'source': 'data/esg_strategy.pdf', 'coordinates': {'points': ((72.024, 136.22000000000003), (72.024, 228.26), (531.6260000000001, 228.26), (531.6260000000001, 136.22000000000003)), 'system': 'PixelSpace', 'layout_width': 612, 'layout_height': 792}, 'filename': 'esg_strategy.pdf', 'file_directory': 'data', 'last_modified': '2023-09-19T14:56:32', 'filetype': 'application/pdf', 'page_number': 1, 'category': 'NarrativeText'}\n"
        }
      ],
      "execution_count": 29,
      "metadata": {
        "jupyter": {
          "source_hidden": false,
          "outputs_hidden": false
        },
        "nteract": {
          "transient": {
            "deleting": false
          }
        },
        "gather": {
          "logged": 1695137055030
        }
      }
    },
    {
      "cell_type": "code",
      "source": [
        "from langchain.text_splitter import CharacterTextSplitter\n",
        "from langchain.embeddings import OpenAIEmbeddings\n",
        "from langchain.document_loaders import TextLoader\n",
        "from langchain.vectorstores import FAISS\n",
        "\n",
        "#pages = TextLoader('../../../state_of_the_union.txt').load()\n",
        "text_splitter = CharacterTextSplitter(chunk_size=1000, chunk_overlap=0)\n",
        "texts = text_splitter.split_documents(pages)\n"
      ],
      "outputs": [],
      "execution_count": 41,
      "metadata": {
        "jupyter": {
          "source_hidden": false,
          "outputs_hidden": false
        },
        "nteract": {
          "transient": {
            "deleting": false
          }
        },
        "gather": {
          "logged": 1695139528262
        }
      }
    },
    {
      "cell_type": "code",
      "source": [
        "print(llm)"
      ],
      "outputs": [
        {
          "output_type": "stream",
          "name": "stdout",
          "text": "\u001b[1mOpenAIChat\u001b[0m\nParams: {'model_name': 'text-embedding-ada-002', 'engine': 'deploy-gpt35turbo16k', 'temperature': 0}\n"
        }
      ],
      "execution_count": 46,
      "metadata": {
        "jupyter": {
          "source_hidden": false,
          "outputs_hidden": false
        },
        "nteract": {
          "transient": {
            "deleting": false
          }
        },
        "gather": {
          "logged": 1695139839016
        }
      }
    },
    {
      "cell_type": "code",
      "source": [
        "embeddings = OpenAIEmbeddings(deployment=\"deploy-name-embed\",\n",
        "    model=\"text-embedding-ada-002\",\n",
        "    openai_api_base=OPENAI_API_BASE,\n",
        "    openai_api_type=\"azure\",)"
      ],
      "outputs": [],
      "execution_count": 51,
      "metadata": {
        "jupyter": {
          "source_hidden": false,
          "outputs_hidden": false
        },
        "nteract": {
          "transient": {
            "deleting": false
          }
        },
        "gather": {
          "logged": 1695140053822
        }
      }
    },
    {
      "cell_type": "code",
      "source": [
        "#text = \"This is a test query.\"\n",
        "#query_result = embeddings.embed_query(text)\n",
        "#query_result"
      ],
      "outputs": [],
      "execution_count": 54,
      "metadata": {
        "jupyter": {
          "source_hidden": false,
          "outputs_hidden": false
        },
        "nteract": {
          "transient": {
            "deleting": false
          }
        },
        "gather": {
          "logged": 1695140081851
        }
      }
    },
    {
      "cell_type": "code",
      "source": [
        "\n",
        "#Helper function for printing docs\n",
        "\n",
        "def pretty_print_docs(docs):\n",
        "    print(f\"\\n{'-' * 100}\\n\".join([f\"Document {i+1}:\\n\\n\" + d.page_content for i, d in enumerate(docs)]))\n"
      ],
      "outputs": [],
      "execution_count": 62,
      "metadata": {
        "jupyter": {
          "source_hidden": false,
          "outputs_hidden": false
        },
        "nteract": {
          "transient": {
            "deleting": false
          }
        },
        "gather": {
          "logged": 1695141875805
        }
      }
    },
    {
      "cell_type": "code",
      "source": [
        "### For retrieving the document \n",
        "##retriever = FAISS.from_documents(texts, embeddings).as_retriever()\n",
        "\n",
        "##docs = retriever.get_relevant_documents(\"what is Northern Trust approach for ESG?\")\n",
        "##pretty_print_docs(docs)"
      ],
      "outputs": [
        {
          "output_type": "stream",
          "name": "stdout",
          "text": "Document 1:\n\nexecution of their ESG strategies. Through these questions, Northern Trust ensures that \nits investment decisions align with sustainability and responsible business practices, \nreflecting the evolving demands of modern investors.\n----------------------------------------------------------------------------------------------------\nDocument 2:\n\nportfolio optimization and client growth, as well as indirect benefits like enhanced \nreputation and stakeholder engagement.  \nBy understanding and actively incorporating ESG strategies, investment and asset \nmanagement companies position themselves for sustainable growth and long -term \nsuccess in a rapidly evolving financial landscape.  \n \n \nNorthern  Trust's  ESG Inquiry  Framework  for Companies  \nExecutive  Summary:  Northern Trust actively engages with companies to assess their \nadherence to and integration of Environmental, Social, and Governance (ESG) principles. \nThis document provides an outline of the typical questions Northern Trust might pose \nto these companies regarding their ESG strategies, offering insight into the depth and \nfocus of their ESG evaluations.  \n1. Introduction:  \n• Purpose : To understand the alignment, commitment, and effectiveness of a \ncompany's ESG strategy.  \n• Context : As ESG considerations become essential drivers of investment decisions, \nNorthern Trust seeks clarity on how companies approach these factors.  \n2. Environmental  Questions  (E): \n• 2.1 Climate  Change  and Carbon  Emissions:  \n• What is your company's strategy for mitigating climate change risks?  \n• How do you monitor and report your carbon footprint?  \n• 2.2 Resource  Management:  \n• How does your company aim to reduce waste and promote recycling?  \n• Are there strategies in place for sustainable water usage and conservation?  \n• 2.3 Biodiversity  and Land  Use: \n• How does your company's operations impact local biodiversity?  \n• Are there efforts in place to minimize deforestation and promote \nsustainable land use?  \n3. Social  Questions  (S): \n• 3.1 Employee  Relations:\n----------------------------------------------------------------------------------------------------\nDocument 3:\n\nImpact  of ESG Strategy  on Investment  Management  and Asset  Management:  A Case  Study  \non Northern  Trust  \nExecutive  Summary:  Environmental, Social, and Governance (ESG) factors have \nsignificantly influenced the investment landscape in recent years. For investment \nmanagement and asset management companies, including Northern Trust, the \nincorporation of ESG criteria can drive busi ness decisions, shape investment portfolios, \nand influence stakeholder relations. This document delves into the impact of ESG \nstrategies on these institutions.  \n1. Introduction:  \n• ESG Strategy : A set of investment criteria that consider environmental, social, \nand governance factors alongside financial factors in the investment decision -\nmaking process.  \n• Northern  Trust : An international investment management and asset \nmanagement company that has integrated ESG strategies into its products and \nservices.  \n2. Direct  Impacts  of ESG Strategy:  \n• 2.1 Portfolio  Construction  and Management:  \n• Enhanced risk management through the identification of potential ESG \nrisks that can affect an asset's value.  \n• Greater opportunities for long -term returns by investing in sustainable and \nresponsible businesses.  \n• Diversification by including ESG -focused assets, which might behave \ndifferently from conventional assets.  \n• 2.2 Client  Attraction  and Retention:  \n• Growing demand from institutional investors and high -net-worth \nindividuals for ESG -centric portfolios.  \n• Ability to offer specialized products, such as ESG -focused funds, attracting \na broader clientele.  \n• 2.3 Regulatory  and Reporting  Standards:  \n• Compliance with evolving regulatory standards that emphasize ESG \nreporting and transparency.  \n• Enhanced disclosure practices, providing stakeholders with comprehensive \ninformation on ESG performance and strategies.\n----------------------------------------------------------------------------------------------------\nDocument 4:\n\n• What policies are in place to ensure diversity, equity, and inclusion in the \nworkplace?  \n• How do you ensure worker safety and well -being, especially in high -risk \nenvironments?  \n• 3.2 Community  Engagement:  \n• How does your company engage with and contribute to local \ncommunities?  \n• Are there initiatives in place to support community development or \nphilanthropy?  \n• 3.3 Product  Responsibility:  \n• How does your company ensure the safety and reliability of its \nproducts/services?  \n• Are there measures in place to address customer complaints and \nfeedback?  \n4. Governance  Questions  (G): \n• 4.1 Board  Structure  and Composition:  \n• How does the company ensure board diversity and independence?  \n• What is the board's role in overseeing the company's ESG strategy?  \n• 4.2 Ethical  Conduct  and Compliance:  \n• What mechanisms are in place to prevent bribery, corruption, and other \nunethical behaviors?  \n• How does the company ensure compliance with local and international \nregulations?  \n• 4.3 Shareholder  Rights  and Engagement:  \n• How does the company engage with shareholders on ESG -related \nconcerns?  \n• Are there mechanisms for shareholders to voice concerns and influence \ncompany strategy?  \n5. Implementation  and Monitoring:  \n• How often does your company review its ESG strategy?  \n• What key performance indicators (KPIs) are utilized to track ESG progress?  \n• Are there third -party audits or verifications of your ESG disclosures?  \n6. Conclusion:  Northern Trust's comprehensive line of inquiry provides a clear \nindication of its commitment to understanding and evaluating a company's ESG \nperformance. Companies are expected to exhibit transparency, foresight, and effective\n"
        }
      ],
      "execution_count": 63,
      "metadata": {
        "jupyter": {
          "source_hidden": false,
          "outputs_hidden": false
        },
        "nteract": {
          "transient": {
            "deleting": false
          }
        },
        "gather": {
          "logged": 1695141879157
        }
      }
    },
    {
      "cell_type": "code",
      "source": [
        "## Saving the embeddings \n",
        "\n",
        "db = FAISS.from_documents(texts, embeddings)\n",
        "db.save_local(\"data/faiss_index\")\n",
        "#new_db = FAISS.load_local(\"faiss_index\", embeddings)\n"
      ],
      "outputs": [],
      "execution_count": 55,
      "metadata": {
        "jupyter": {
          "source_hidden": false,
          "outputs_hidden": false
        },
        "nteract": {
          "transient": {
            "deleting": false
          }
        },
        "gather": {
          "logged": 1695140808827
        }
      }
    },
    {
      "cell_type": "code",
      "source": [],
      "outputs": [],
      "execution_count": 57,
      "metadata": {
        "jupyter": {
          "source_hidden": false,
          "outputs_hidden": false
        },
        "nteract": {
          "transient": {
            "deleting": false
          }
        },
        "gather": {
          "logged": 1695140889517
        }
      }
    },
    {
      "cell_type": "code",
      "source": [
        "query=\"what is Northern Trust approach for ESG?\""
      ],
      "outputs": [],
      "execution_count": 59,
      "metadata": {
        "jupyter": {
          "source_hidden": false,
          "outputs_hidden": false
        },
        "nteract": {
          "transient": {
            "deleting": false
          }
        },
        "gather": {
          "logged": 1695141243396
        }
      }
    },
    {
      "cell_type": "code",
      "source": [
        "db.similarity_search(query)"
      ],
      "outputs": [
        {
          "output_type": "execute_result",
          "execution_count": 60,
          "data": {
            "text/plain": "[Document(page_content='execution of their ESG strategies. Through these questions, Northern Trust ensures that \\nits investment decisions align with sustainability and responsible business practices, \\nreflecting the evolving demands of modern investors.', metadata={'source': 'data/esg_strategy.pdf', 'page': 4}),\n Document(page_content=\"portfolio optimization and client growth, as well as indirect benefits like enhanced \\nreputation and stakeholder engagement.  \\nBy understanding and actively incorporating ESG strategies, investment and asset \\nmanagement companies position themselves for sustainable growth and long -term \\nsuccess in a rapidly evolving financial landscape.  \\n \\n \\nNorthern  Trust's  ESG Inquiry  Framework  for Companies  \\nExecutive  Summary:  Northern Trust actively engages with companies to assess their \\nadherence to and integration of Environmental, Social, and Governance (ESG) principles. \\nThis document provides an outline of the typical questions Northern Trust might pose \\nto these companies regarding their ESG strategies, offering insight into the depth and \\nfocus of their ESG evaluations.  \\n1. Introduction:  \\n• Purpose : To understand the alignment, commitment, and effectiveness of a \\ncompany's ESG strategy.  \\n• Context : As ESG considerations become essential drivers of investment decisions, \\nNorthern Trust seeks clarity on how companies approach these factors.  \\n2. Environmental  Questions  (E): \\n• 2.1 Climate  Change  and Carbon  Emissions:  \\n• What is your company's strategy for mitigating climate change risks?  \\n• How do you monitor and report your carbon footprint?  \\n• 2.2 Resource  Management:  \\n• How does your company aim to reduce waste and promote recycling?  \\n• Are there strategies in place for sustainable water usage and conservation?  \\n• 2.3 Biodiversity  and Land  Use: \\n• How does your company's operations impact local biodiversity?  \\n• Are there efforts in place to minimize deforestation and promote \\nsustainable land use?  \\n3. Social  Questions  (S): \\n• 3.1 Employee  Relations:\", metadata={'source': 'data/esg_strategy.pdf', 'page': 2}),\n Document(page_content=\"Impact  of ESG Strategy  on Investment  Management  and Asset  Management:  A Case  Study  \\non Northern  Trust  \\nExecutive  Summary:  Environmental, Social, and Governance (ESG) factors have \\nsignificantly influenced the investment landscape in recent years. For investment \\nmanagement and asset management companies, including Northern Trust, the \\nincorporation of ESG criteria can drive busi ness decisions, shape investment portfolios, \\nand influence stakeholder relations. This document delves into the impact of ESG \\nstrategies on these institutions.  \\n1. Introduction:  \\n• ESG Strategy : A set of investment criteria that consider environmental, social, \\nand governance factors alongside financial factors in the investment decision -\\nmaking process.  \\n• Northern  Trust : An international investment management and asset \\nmanagement company that has integrated ESG strategies into its products and \\nservices.  \\n2. Direct  Impacts  of ESG Strategy:  \\n• 2.1 Portfolio  Construction  and Management:  \\n• Enhanced risk management through the identification of potential ESG \\nrisks that can affect an asset's value.  \\n• Greater opportunities for long -term returns by investing in sustainable and \\nresponsible businesses.  \\n• Diversification by including ESG -focused assets, which might behave \\ndifferently from conventional assets.  \\n• 2.2 Client  Attraction  and Retention:  \\n• Growing demand from institutional investors and high -net-worth \\nindividuals for ESG -centric portfolios.  \\n• Ability to offer specialized products, such as ESG -focused funds, attracting \\na broader clientele.  \\n• 2.3 Regulatory  and Reporting  Standards:  \\n• Compliance with evolving regulatory standards that emphasize ESG \\nreporting and transparency.  \\n• Enhanced disclosure practices, providing stakeholders with comprehensive \\ninformation on ESG performance and strategies.\", metadata={'source': 'data/esg_strategy.pdf', 'page': 0}),\n Document(page_content=\"• What policies are in place to ensure diversity, equity, and inclusion in the \\nworkplace?  \\n• How do you ensure worker safety and well -being, especially in high -risk \\nenvironments?  \\n• 3.2 Community  Engagement:  \\n• How does your company engage with and contribute to local \\ncommunities?  \\n• Are there initiatives in place to support community development or \\nphilanthropy?  \\n• 3.3 Product  Responsibility:  \\n• How does your company ensure the safety and reliability of its \\nproducts/services?  \\n• Are there measures in place to address customer complaints and \\nfeedback?  \\n4. Governance  Questions  (G): \\n• 4.1 Board  Structure  and Composition:  \\n• How does the company ensure board diversity and independence?  \\n• What is the board's role in overseeing the company's ESG strategy?  \\n• 4.2 Ethical  Conduct  and Compliance:  \\n• What mechanisms are in place to prevent bribery, corruption, and other \\nunethical behaviors?  \\n• How does the company ensure compliance with local and international \\nregulations?  \\n• 4.3 Shareholder  Rights  and Engagement:  \\n• How does the company engage with shareholders on ESG -related \\nconcerns?  \\n• Are there mechanisms for shareholders to voice concerns and influence \\ncompany strategy?  \\n5. Implementation  and Monitoring:  \\n• How often does your company review its ESG strategy?  \\n• What key performance indicators (KPIs) are utilized to track ESG progress?  \\n• Are there third -party audits or verifications of your ESG disclosures?  \\n6. Conclusion:  Northern Trust's comprehensive line of inquiry provides a clear \\nindication of its commitment to understanding and evaluating a company's ESG \\nperformance. Companies are expected to exhibit transparency, foresight, and effective\", metadata={'source': 'data/esg_strategy.pdf', 'page': 3})]"
          },
          "metadata": {}
        }
      ],
      "execution_count": 60,
      "metadata": {
        "jupyter": {
          "source_hidden": false,
          "outputs_hidden": false
        },
        "nteract": {
          "transient": {
            "deleting": false
          }
        },
        "gather": {
          "logged": 1695141255899
        }
      }
    },
    {
      "cell_type": "code",
      "source": [
        "retriever =db.as_retriever()"
      ],
      "outputs": [],
      "execution_count": 68,
      "metadata": {
        "jupyter": {
          "source_hidden": false,
          "outputs_hidden": false
        },
        "nteract": {
          "transient": {
            "deleting": false
          }
        },
        "gather": {
          "logged": 1695143872984
        }
      }
    },
    {
      "cell_type": "code",
      "source": [
        "\n",
        "from langchain.llms import OpenAI\n",
        "from langchain.retrievers import ContextualCompressionRetriever\n",
        "from langchain.retrievers.document_compressors import LLMChainExtractor"
      ],
      "outputs": [],
      "execution_count": 64,
      "metadata": {
        "jupyter": {
          "source_hidden": false,
          "outputs_hidden": false
        },
        "nteract": {
          "transient": {
            "deleting": false
          }
        },
        "gather": {
          "logged": 1695142871282
        }
      }
    },
    {
      "cell_type": "code",
      "source": [
        "compressor = LLMChainExtractor.from_llm(llm)\n",
        "compression_retriever = ContextualCompressionRetriever(base_compressor=compressor, base_retriever=retriever)\n"
      ],
      "outputs": [],
      "execution_count": 69,
      "metadata": {
        "jupyter": {
          "source_hidden": false,
          "outputs_hidden": false
        },
        "nteract": {
          "transient": {
            "deleting": false
          }
        },
        "gather": {
          "logged": 1695143920218
        }
      }
    },
    {
      "cell_type": "code",
      "source": [
        "\n",
        "compressed_docs = compression_retriever.get_relevant_documents(query)\n",
        "pretty_print_docs(compressed_docs)\n"
      ],
      "outputs": [
        {
          "output_type": "stream",
          "name": "stderr",
          "text": "/anaconda/envs/azureml_py310_sdkv2/lib/python3.10/site-packages/langchain/chains/llm.py:278: UserWarning: The predict_and_parse method is deprecated, instead pass an output parser directly to LLMChain.\n  warnings.warn(\n"
        },
        {
          "output_type": "stream",
          "name": "stdout",
          "text": "Document 1:\n\nNorthern Trust ensures that its investment decisions align with sustainability and responsible business practices, reflecting the evolving demands of modern investors.\n----------------------------------------------------------------------------------------------------\nDocument 2:\n\nNorthern Trust actively engages with companies to assess their adherence to and integration of Environmental, Social, and Governance (ESG) principles. This document provides an outline of the typical questions Northern Trust might pose to these companies regarding their ESG strategies, offering insight into the depth and focus of their ESG evaluations. Northern Trust seeks clarity on how companies approach these factors.\n----------------------------------------------------------------------------------------------------\nDocument 3:\n\nNorthern Trust: An international investment management and asset management company that has integrated ESG strategies into its products and services.\n----------------------------------------------------------------------------------------------------\nDocument 4:\n\nNorthern Trust's comprehensive line of inquiry provides a clear indication of its commitment to understanding and evaluating a company's ESG performance.\n"
        }
      ],
      "execution_count": 70,
      "metadata": {
        "jupyter": {
          "source_hidden": false,
          "outputs_hidden": false
        },
        "nteract": {
          "transient": {
            "deleting": false
          }
        },
        "gather": {
          "logged": 1695143960131
        }
      }
    },
    {
      "cell_type": "code",
      "source": [
        "# EmbeddingsFilter\n",
        "# Making an extra LLM call over each retrieved document is expensive and slow. The EmbeddingsFilter provides a cheaper and faster option by embedding the documents and query and only returning those documents which have sufficiently similar embeddings to the query.\n",
        "\n",
        "from langchain.embeddings import OpenAIEmbeddings\n",
        "from langchain.retrievers.document_compressors import EmbeddingsFilter\n",
        "\n",
        "\n",
        "embeddings_filter = EmbeddingsFilter(embeddings=embeddings, similarity_threshold=0.76)\n",
        "compression_retriever = ContextualCompressionRetriever(base_compressor=embeddings_filter, base_retriever=retriever)\n",
        "\n",
        "compressed_docs = compression_retriever.get_relevant_documents(query)\n",
        "pretty_print_docs(compressed_docs)"
      ],
      "outputs": [
        {
          "output_type": "stream",
          "name": "stdout",
          "text": "Document 1:\n\nexecution of their ESG strategies. Through these questions, Northern Trust ensures that \nits investment decisions align with sustainability and responsible business practices, \nreflecting the evolving demands of modern investors.\n----------------------------------------------------------------------------------------------------\nDocument 2:\n\nportfolio optimization and client growth, as well as indirect benefits like enhanced \nreputation and stakeholder engagement.  \nBy understanding and actively incorporating ESG strategies, investment and asset \nmanagement companies position themselves for sustainable growth and long -term \nsuccess in a rapidly evolving financial landscape.  \n \n \nNorthern  Trust's  ESG Inquiry  Framework  for Companies  \nExecutive  Summary:  Northern Trust actively engages with companies to assess their \nadherence to and integration of Environmental, Social, and Governance (ESG) principles. \nThis document provides an outline of the typical questions Northern Trust might pose \nto these companies regarding their ESG strategies, offering insight into the depth and \nfocus of their ESG evaluations.  \n1. Introduction:  \n• Purpose : To understand the alignment, commitment, and effectiveness of a \ncompany's ESG strategy.  \n• Context : As ESG considerations become essential drivers of investment decisions, \nNorthern Trust seeks clarity on how companies approach these factors.  \n2. Environmental  Questions  (E): \n• 2.1 Climate  Change  and Carbon  Emissions:  \n• What is your company's strategy for mitigating climate change risks?  \n• How do you monitor and report your carbon footprint?  \n• 2.2 Resource  Management:  \n• How does your company aim to reduce waste and promote recycling?  \n• Are there strategies in place for sustainable water usage and conservation?  \n• 2.3 Biodiversity  and Land  Use: \n• How does your company's operations impact local biodiversity?  \n• Are there efforts in place to minimize deforestation and promote \nsustainable land use?  \n3. Social  Questions  (S): \n• 3.1 Employee  Relations:\n----------------------------------------------------------------------------------------------------\nDocument 3:\n\nImpact  of ESG Strategy  on Investment  Management  and Asset  Management:  A Case  Study  \non Northern  Trust  \nExecutive  Summary:  Environmental, Social, and Governance (ESG) factors have \nsignificantly influenced the investment landscape in recent years. For investment \nmanagement and asset management companies, including Northern Trust, the \nincorporation of ESG criteria can drive busi ness decisions, shape investment portfolios, \nand influence stakeholder relations. This document delves into the impact of ESG \nstrategies on these institutions.  \n1. Introduction:  \n• ESG Strategy : A set of investment criteria that consider environmental, social, \nand governance factors alongside financial factors in the investment decision -\nmaking process.  \n• Northern  Trust : An international investment management and asset \nmanagement company that has integrated ESG strategies into its products and \nservices.  \n2. Direct  Impacts  of ESG Strategy:  \n• 2.1 Portfolio  Construction  and Management:  \n• Enhanced risk management through the identification of potential ESG \nrisks that can affect an asset's value.  \n• Greater opportunities for long -term returns by investing in sustainable and \nresponsible businesses.  \n• Diversification by including ESG -focused assets, which might behave \ndifferently from conventional assets.  \n• 2.2 Client  Attraction  and Retention:  \n• Growing demand from institutional investors and high -net-worth \nindividuals for ESG -centric portfolios.  \n• Ability to offer specialized products, such as ESG -focused funds, attracting \na broader clientele.  \n• 2.3 Regulatory  and Reporting  Standards:  \n• Compliance with evolving regulatory standards that emphasize ESG \nreporting and transparency.  \n• Enhanced disclosure practices, providing stakeholders with comprehensive \ninformation on ESG performance and strategies.\n----------------------------------------------------------------------------------------------------\nDocument 4:\n\n• What policies are in place to ensure diversity, equity, and inclusion in the \nworkplace?  \n• How do you ensure worker safety and well -being, especially in high -risk \nenvironments?  \n• 3.2 Community  Engagement:  \n• How does your company engage with and contribute to local \ncommunities?  \n• Are there initiatives in place to support community development or \nphilanthropy?  \n• 3.3 Product  Responsibility:  \n• How does your company ensure the safety and reliability of its \nproducts/services?  \n• Are there measures in place to address customer complaints and \nfeedback?  \n4. Governance  Questions  (G): \n• 4.1 Board  Structure  and Composition:  \n• How does the company ensure board diversity and independence?  \n• What is the board's role in overseeing the company's ESG strategy?  \n• 4.2 Ethical  Conduct  and Compliance:  \n• What mechanisms are in place to prevent bribery, corruption, and other \nunethical behaviors?  \n• How does the company ensure compliance with local and international \nregulations?  \n• 4.3 Shareholder  Rights  and Engagement:  \n• How does the company engage with shareholders on ESG -related \nconcerns?  \n• Are there mechanisms for shareholders to voice concerns and influence \ncompany strategy?  \n5. Implementation  and Monitoring:  \n• How often does your company review its ESG strategy?  \n• What key performance indicators (KPIs) are utilized to track ESG progress?  \n• Are there third -party audits or verifications of your ESG disclosures?  \n6. Conclusion:  Northern Trust's comprehensive line of inquiry provides a clear \nindication of its commitment to understanding and evaluating a company's ESG \nperformance. Companies are expected to exhibit transparency, foresight, and effective\n"
        }
      ],
      "execution_count": 71,
      "metadata": {
        "jupyter": {
          "source_hidden": false,
          "outputs_hidden": false
        },
        "nteract": {
          "transient": {
            "deleting": false
          }
        },
        "gather": {
          "logged": 1695144123421
        }
      }
    }
  ],
  "metadata": {
    "kernelspec": {
      "name": "python310-sdkv2",
      "language": "python",
      "display_name": "Python 3.10 - SDK v2"
    },
    "language_info": {
      "name": "python",
      "version": "3.10.11",
      "mimetype": "text/x-python",
      "codemirror_mode": {
        "name": "ipython",
        "version": 3
      },
      "pygments_lexer": "ipython3",
      "nbconvert_exporter": "python",
      "file_extension": ".py"
    },
    "microsoft": {
      "ms_spell_check": {
        "ms_spell_check_language": "en"
      },
      "host": {
        "AzureML": {
          "notebookHasBeenCompleted": true
        }
      }
    },
    "kernel_info": {
      "name": "python310-sdkv2"
    },
    "nteract": {
      "version": "nteract-front-end@1.0.0"
    }
  },
  "nbformat": 4,
  "nbformat_minor": 2
}